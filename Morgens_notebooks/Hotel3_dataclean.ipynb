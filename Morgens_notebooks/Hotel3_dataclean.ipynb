{
 "cells": [
  {
   "cell_type": "markdown",
   "id": "07e471bd-2347-41ae-8857-dfc076f6dafe",
   "metadata": {},
   "source": [
    "## Data Cleaning - HOTEL 3"
   ]
  },
  {
   "cell_type": "markdown",
   "id": "731a4efb-bf58-4583-97e1-65dcac97e26e",
   "metadata": {},
   "source": [
    "### Import the libraries"
   ]
  },
  {
   "cell_type": "code",
   "execution_count": 5,
   "id": "53558fab-1592-49e8-8022-ccb7d537167c",
   "metadata": {},
   "outputs": [],
   "source": [
    "import pandas as pd\n",
    "import plotly.express as px\n",
    "import numpy as np\n",
    "import datetime"
   ]
  },
  {
   "cell_type": "markdown",
   "id": "3d68505e-8dfa-4ddb-8be7-4ed50327e086",
   "metadata": {},
   "source": [
    "## Import the data"
   ]
  },
  {
   "cell_type": "markdown",
   "id": "838d7f3f-1014-4465-92f6-ad286169b908",
   "metadata": {},
   "source": [
    "### 11 tables of Hotel_3"
   ]
  },
  {
   "cell_type": "markdown",
   "id": "0014c262-61d8-41c3-a3d3-20bd2503c690",
   "metadata": {},
   "source": [
    "## 1 - Upsell tábla\n",
    "- 63 sor\n",
    "- adattípusok OK\n",
    "- nincs NaN,\n",
    "- gond: EUR és HUF összegek egy oszlopban vannak\n",
    "- gond: vannak teljesen egyforma sorok, de ez életszerű, kérhetett ugyanaz a foglalás többször ugyanolyan szolgáltatást "
   ]
  },
  {
   "cell_type": "code",
   "execution_count": 7,
   "id": "6cfc0104-a4fa-4ec0-8cef-325d2f62acd9",
   "metadata": {},
   "outputs": [
    {
     "data": {
      "text/html": [
       "<div>\n",
       "<style scoped>\n",
       "    .dataframe tbody tr th:only-of-type {\n",
       "        vertical-align: middle;\n",
       "    }\n",
       "\n",
       "    .dataframe tbody tr th {\n",
       "        vertical-align: top;\n",
       "    }\n",
       "\n",
       "    .dataframe thead th {\n",
       "        text-align: right;\n",
       "    }\n",
       "</style>\n",
       "<table border=\"1\" class=\"dataframe\">\n",
       "  <thead>\n",
       "    <tr style=\"text-align: right;\">\n",
       "      <th></th>\n",
       "      <th>search_log_id</th>\n",
       "      <th>upsell_type</th>\n",
       "      <th>name</th>\n",
       "      <th>unit_price</th>\n",
       "      <th>pieces</th>\n",
       "      <th>sum_price</th>\n",
       "    </tr>\n",
       "  </thead>\n",
       "  <tbody>\n",
       "    <tr>\n",
       "      <th>0</th>\n",
       "      <td>129894</td>\n",
       "      <td>12</td>\n",
       "      <td>MEDI40_EN</td>\n",
       "      <td>37.8</td>\n",
       "      <td>2</td>\n",
       "      <td>75.6</td>\n",
       "    </tr>\n",
       "    <tr>\n",
       "      <th>1</th>\n",
       "      <td>130637</td>\n",
       "      <td>12</td>\n",
       "      <td>MEDI40_HU</td>\n",
       "      <td>13600.0</td>\n",
       "      <td>1</td>\n",
       "      <td>13600.0</td>\n",
       "    </tr>\n",
       "    <tr>\n",
       "      <th>2</th>\n",
       "      <td>132560</td>\n",
       "      <td>13</td>\n",
       "      <td>SUMCSOB90_DE</td>\n",
       "      <td>55.3</td>\n",
       "      <td>1</td>\n",
       "      <td>55.3</td>\n",
       "    </tr>\n",
       "  </tbody>\n",
       "</table>\n",
       "</div>"
      ],
      "text/plain": [
       "   search_log_id  upsell_type          name  unit_price  pieces  sum_price\n",
       "0         129894           12     MEDI40_EN        37.8       2       75.6\n",
       "1         130637           12     MEDI40_HU     13600.0       1    13600.0\n",
       "2         132560           13  SUMCSOB90_DE        55.3       1       55.3"
      ]
     },
     "execution_count": 7,
     "metadata": {},
     "output_type": "execute_result"
    }
   ],
   "source": [
    "upsell = pd.read_csv('./../Morgens_notebooks/HOTEL_3/Original_data/upsell_data_hotel_3.csv', sep=';')\n",
    "upsell.head(3)"
   ]
  },
  {
   "cell_type": "code",
   "execution_count": 8,
   "id": "57dec771-e57e-41de-a701-5c7217402b37",
   "metadata": {},
   "outputs": [
    {
     "data": {
      "text/plain": [
       "63"
      ]
     },
     "execution_count": 8,
     "metadata": {},
     "output_type": "execute_result"
    }
   ],
   "source": [
    "len(upsell)"
   ]
  },
  {
   "cell_type": "code",
   "execution_count": 9,
   "id": "dd1f1021-b70a-4f51-800f-e5d28c9ca706",
   "metadata": {},
   "outputs": [
    {
     "data": {
      "text/html": [
       "<div>\n",
       "<style scoped>\n",
       "    .dataframe tbody tr th:only-of-type {\n",
       "        vertical-align: middle;\n",
       "    }\n",
       "\n",
       "    .dataframe tbody tr th {\n",
       "        vertical-align: top;\n",
       "    }\n",
       "\n",
       "    .dataframe thead th {\n",
       "        text-align: right;\n",
       "    }\n",
       "</style>\n",
       "<table border=\"1\" class=\"dataframe\">\n",
       "  <thead>\n",
       "    <tr style=\"text-align: right;\">\n",
       "      <th></th>\n",
       "      <th>search_log_id</th>\n",
       "      <th>upsell_type</th>\n",
       "      <th>unit_price</th>\n",
       "      <th>pieces</th>\n",
       "      <th>sum_price</th>\n",
       "    </tr>\n",
       "  </thead>\n",
       "  <tbody>\n",
       "    <tr>\n",
       "      <th>count</th>\n",
       "      <td>63.000000</td>\n",
       "      <td>63.000000</td>\n",
       "      <td>63.000000</td>\n",
       "      <td>63.000000</td>\n",
       "      <td>63.000000</td>\n",
       "    </tr>\n",
       "    <tr>\n",
       "      <th>mean</th>\n",
       "      <td>148555.396825</td>\n",
       "      <td>15.396825</td>\n",
       "      <td>10932.149206</td>\n",
       "      <td>1.253968</td>\n",
       "      <td>12311.886032</td>\n",
       "    </tr>\n",
       "    <tr>\n",
       "      <th>std</th>\n",
       "      <td>10118.856008</td>\n",
       "      <td>7.893525</td>\n",
       "      <td>11592.533545</td>\n",
       "      <td>0.438776</td>\n",
       "      <td>12419.275114</td>\n",
       "    </tr>\n",
       "    <tr>\n",
       "      <th>min</th>\n",
       "      <td>129894.000000</td>\n",
       "      <td>1.000000</td>\n",
       "      <td>24.970000</td>\n",
       "      <td>1.000000</td>\n",
       "      <td>24.970000</td>\n",
       "    </tr>\n",
       "    <tr>\n",
       "      <th>25%</th>\n",
       "      <td>138163.000000</td>\n",
       "      <td>10.500000</td>\n",
       "      <td>62.000000</td>\n",
       "      <td>1.000000</td>\n",
       "      <td>104.500000</td>\n",
       "    </tr>\n",
       "    <tr>\n",
       "      <th>50%</th>\n",
       "      <td>152609.000000</td>\n",
       "      <td>13.000000</td>\n",
       "      <td>8990.000000</td>\n",
       "      <td>1.000000</td>\n",
       "      <td>8990.000000</td>\n",
       "    </tr>\n",
       "    <tr>\n",
       "      <th>75%</th>\n",
       "      <td>157030.500000</td>\n",
       "      <td>21.000000</td>\n",
       "      <td>15210.000000</td>\n",
       "      <td>1.500000</td>\n",
       "      <td>19900.000000</td>\n",
       "    </tr>\n",
       "    <tr>\n",
       "      <th>max</th>\n",
       "      <td>162633.000000</td>\n",
       "      <td>29.000000</td>\n",
       "      <td>55485.000000</td>\n",
       "      <td>2.000000</td>\n",
       "      <td>55485.000000</td>\n",
       "    </tr>\n",
       "  </tbody>\n",
       "</table>\n",
       "</div>"
      ],
      "text/plain": [
       "       search_log_id  upsell_type    unit_price     pieces     sum_price\n",
       "count      63.000000    63.000000     63.000000  63.000000     63.000000\n",
       "mean   148555.396825    15.396825  10932.149206   1.253968  12311.886032\n",
       "std     10118.856008     7.893525  11592.533545   0.438776  12419.275114\n",
       "min    129894.000000     1.000000     24.970000   1.000000     24.970000\n",
       "25%    138163.000000    10.500000     62.000000   1.000000    104.500000\n",
       "50%    152609.000000    13.000000   8990.000000   1.000000   8990.000000\n",
       "75%    157030.500000    21.000000  15210.000000   1.500000  19900.000000\n",
       "max    162633.000000    29.000000  55485.000000   2.000000  55485.000000"
      ]
     },
     "execution_count": 9,
     "metadata": {},
     "output_type": "execute_result"
    }
   ],
   "source": [
    "upsell.describe()"
   ]
  },
  {
   "cell_type": "code",
   "execution_count": 10,
   "id": "7dbbc839-bd76-41d5-9856-d4c05a528547",
   "metadata": {},
   "outputs": [
    {
     "name": "stdout",
     "output_type": "stream",
     "text": [
      "<class 'pandas.core.frame.DataFrame'>\n",
      "RangeIndex: 63 entries, 0 to 62\n",
      "Data columns (total 6 columns):\n",
      " #   Column         Non-Null Count  Dtype  \n",
      "---  ------         --------------  -----  \n",
      " 0   search_log_id  63 non-null     int64  \n",
      " 1   upsell_type    63 non-null     int64  \n",
      " 2   name           63 non-null     object \n",
      " 3   unit_price     63 non-null     float64\n",
      " 4   pieces         63 non-null     int64  \n",
      " 5   sum_price      63 non-null     float64\n",
      "dtypes: float64(2), int64(3), object(1)\n",
      "memory usage: 3.1+ KB\n"
     ]
    }
   ],
   "source": [
    "upsell.info()"
   ]
  },
  {
   "cell_type": "code",
   "execution_count": 11,
   "id": "79a789cf-a46e-46d3-8521-92c6f3b0df45",
   "metadata": {},
   "outputs": [
    {
     "data": {
      "text/plain": [
       "63"
      ]
     },
     "execution_count": 11,
     "metadata": {},
     "output_type": "execute_result"
    }
   ],
   "source": [
    "upsell['name'].count()"
   ]
  },
  {
   "cell_type": "code",
   "execution_count": 12,
   "id": "83943992-4d03-4af8-8f26-b4cc3ddbdea8",
   "metadata": {},
   "outputs": [
    {
     "data": {
      "text/html": [
       "<div>\n",
       "<style scoped>\n",
       "    .dataframe tbody tr th:only-of-type {\n",
       "        vertical-align: middle;\n",
       "    }\n",
       "\n",
       "    .dataframe tbody tr th {\n",
       "        vertical-align: top;\n",
       "    }\n",
       "\n",
       "    .dataframe thead th {\n",
       "        text-align: right;\n",
       "    }\n",
       "</style>\n",
       "<table border=\"1\" class=\"dataframe\">\n",
       "  <thead>\n",
       "    <tr style=\"text-align: right;\">\n",
       "      <th></th>\n",
       "      <th>search_log_id</th>\n",
       "      <th>upsell_type</th>\n",
       "      <th>unit_price</th>\n",
       "      <th>pieces</th>\n",
       "      <th>sum_price</th>\n",
       "    </tr>\n",
       "    <tr>\n",
       "      <th>name</th>\n",
       "      <th></th>\n",
       "      <th></th>\n",
       "      <th></th>\n",
       "      <th></th>\n",
       "      <th></th>\n",
       "    </tr>\n",
       "  </thead>\n",
       "  <tbody>\n",
       "    <tr>\n",
       "      <th>ABAR_HU</th>\n",
       "      <td>2</td>\n",
       "      <td>2</td>\n",
       "      <td>2</td>\n",
       "      <td>2</td>\n",
       "      <td>2</td>\n",
       "    </tr>\n",
       "    <tr>\n",
       "      <th>AM30_DE</th>\n",
       "      <td>1</td>\n",
       "      <td>1</td>\n",
       "      <td>1</td>\n",
       "      <td>1</td>\n",
       "      <td>1</td>\n",
       "    </tr>\n",
       "    <tr>\n",
       "      <th>BALA25_DE</th>\n",
       "      <td>1</td>\n",
       "      <td>1</td>\n",
       "      <td>1</td>\n",
       "      <td>1</td>\n",
       "      <td>1</td>\n",
       "    </tr>\n",
       "    <tr>\n",
       "      <th>BALDREAM_DE</th>\n",
       "      <td>2</td>\n",
       "      <td>2</td>\n",
       "      <td>2</td>\n",
       "      <td>2</td>\n",
       "      <td>2</td>\n",
       "    </tr>\n",
       "    <tr>\n",
       "      <th>BALDREAM_EN</th>\n",
       "      <td>1</td>\n",
       "      <td>1</td>\n",
       "      <td>1</td>\n",
       "      <td>1</td>\n",
       "      <td>1</td>\n",
       "    </tr>\n",
       "    <tr>\n",
       "      <th>BALDREAM_HU</th>\n",
       "      <td>2</td>\n",
       "      <td>2</td>\n",
       "      <td>2</td>\n",
       "      <td>2</td>\n",
       "      <td>2</td>\n",
       "    </tr>\n",
       "    <tr>\n",
       "      <th>DC90_EN</th>\n",
       "      <td>1</td>\n",
       "      <td>1</td>\n",
       "      <td>1</td>\n",
       "      <td>1</td>\n",
       "      <td>1</td>\n",
       "    </tr>\n",
       "    <tr>\n",
       "      <th>EXBAMB50_DE</th>\n",
       "      <td>1</td>\n",
       "      <td>1</td>\n",
       "      <td>1</td>\n",
       "      <td>1</td>\n",
       "      <td>1</td>\n",
       "    </tr>\n",
       "    <tr>\n",
       "      <th>FRUITCHOC_DE</th>\n",
       "      <td>1</td>\n",
       "      <td>1</td>\n",
       "      <td>1</td>\n",
       "      <td>1</td>\n",
       "      <td>1</td>\n",
       "    </tr>\n",
       "    <tr>\n",
       "      <th>FRUITCHOC_HU</th>\n",
       "      <td>2</td>\n",
       "      <td>2</td>\n",
       "      <td>2</td>\n",
       "      <td>2</td>\n",
       "      <td>2</td>\n",
       "    </tr>\n",
       "    <tr>\n",
       "      <th>HAR60_EN</th>\n",
       "      <td>8</td>\n",
       "      <td>8</td>\n",
       "      <td>8</td>\n",
       "      <td>8</td>\n",
       "      <td>8</td>\n",
       "    </tr>\n",
       "    <tr>\n",
       "      <th>HCHAMPAGNE_HU</th>\n",
       "      <td>2</td>\n",
       "      <td>2</td>\n",
       "      <td>2</td>\n",
       "      <td>2</td>\n",
       "      <td>2</td>\n",
       "    </tr>\n",
       "    <tr>\n",
       "      <th>HUSPRING_HU</th>\n",
       "      <td>1</td>\n",
       "      <td>1</td>\n",
       "      <td>1</td>\n",
       "      <td>1</td>\n",
       "      <td>1</td>\n",
       "    </tr>\n",
       "    <tr>\n",
       "      <th>IM_DE</th>\n",
       "      <td>1</td>\n",
       "      <td>1</td>\n",
       "      <td>1</td>\n",
       "      <td>1</td>\n",
       "      <td>1</td>\n",
       "    </tr>\n",
       "    <tr>\n",
       "      <th>IM_EN</th>\n",
       "      <td>1</td>\n",
       "      <td>1</td>\n",
       "      <td>1</td>\n",
       "      <td>1</td>\n",
       "      <td>1</td>\n",
       "    </tr>\n",
       "    <tr>\n",
       "      <th>IM_HU</th>\n",
       "      <td>2</td>\n",
       "      <td>2</td>\n",
       "      <td>2</td>\n",
       "      <td>2</td>\n",
       "      <td>2</td>\n",
       "    </tr>\n",
       "    <tr>\n",
       "      <th>KREINBON_HU</th>\n",
       "      <td>1</td>\n",
       "      <td>1</td>\n",
       "      <td>1</td>\n",
       "      <td>1</td>\n",
       "      <td>1</td>\n",
       "    </tr>\n",
       "    <tr>\n",
       "      <th>LM120_EN</th>\n",
       "      <td>2</td>\n",
       "      <td>2</td>\n",
       "      <td>2</td>\n",
       "      <td>2</td>\n",
       "      <td>2</td>\n",
       "    </tr>\n",
       "    <tr>\n",
       "      <th>M40_DE</th>\n",
       "      <td>2</td>\n",
       "      <td>2</td>\n",
       "      <td>2</td>\n",
       "      <td>2</td>\n",
       "      <td>2</td>\n",
       "    </tr>\n",
       "    <tr>\n",
       "      <th>MEDI40_EN</th>\n",
       "      <td>5</td>\n",
       "      <td>5</td>\n",
       "      <td>5</td>\n",
       "      <td>5</td>\n",
       "      <td>5</td>\n",
       "    </tr>\n",
       "    <tr>\n",
       "      <th>MEDI40_HU</th>\n",
       "      <td>7</td>\n",
       "      <td>7</td>\n",
       "      <td>7</td>\n",
       "      <td>7</td>\n",
       "      <td>7</td>\n",
       "    </tr>\n",
       "    <tr>\n",
       "      <th>NONABAR_HU</th>\n",
       "      <td>5</td>\n",
       "      <td>5</td>\n",
       "      <td>5</td>\n",
       "      <td>5</td>\n",
       "      <td>5</td>\n",
       "    </tr>\n",
       "    <tr>\n",
       "      <th>PROS_HU</th>\n",
       "      <td>3</td>\n",
       "      <td>3</td>\n",
       "      <td>3</td>\n",
       "      <td>3</td>\n",
       "      <td>3</td>\n",
       "    </tr>\n",
       "    <tr>\n",
       "      <th>SUMCSOB80_EN</th>\n",
       "      <td>1</td>\n",
       "      <td>1</td>\n",
       "      <td>1</td>\n",
       "      <td>1</td>\n",
       "      <td>1</td>\n",
       "    </tr>\n",
       "    <tr>\n",
       "      <th>SUMCSOB90_DE</th>\n",
       "      <td>1</td>\n",
       "      <td>1</td>\n",
       "      <td>1</td>\n",
       "      <td>1</td>\n",
       "      <td>1</td>\n",
       "    </tr>\n",
       "    <tr>\n",
       "      <th>SUMCSOB90_HU</th>\n",
       "      <td>5</td>\n",
       "      <td>5</td>\n",
       "      <td>5</td>\n",
       "      <td>5</td>\n",
       "      <td>5</td>\n",
       "    </tr>\n",
       "    <tr>\n",
       "      <th>SWEET50_HU</th>\n",
       "      <td>1</td>\n",
       "      <td>1</td>\n",
       "      <td>1</td>\n",
       "      <td>1</td>\n",
       "      <td>1</td>\n",
       "    </tr>\n",
       "    <tr>\n",
       "      <th>SZM40_HU</th>\n",
       "      <td>1</td>\n",
       "      <td>1</td>\n",
       "      <td>1</td>\n",
       "      <td>1</td>\n",
       "      <td>1</td>\n",
       "    </tr>\n",
       "  </tbody>\n",
       "</table>\n",
       "</div>"
      ],
      "text/plain": [
       "               search_log_id  upsell_type  unit_price  pieces  sum_price\n",
       "name                                                                    \n",
       "ABAR_HU                    2            2           2       2          2\n",
       "AM30_DE                    1            1           1       1          1\n",
       "BALA25_DE                  1            1           1       1          1\n",
       "BALDREAM_DE                2            2           2       2          2\n",
       "BALDREAM_EN                1            1           1       1          1\n",
       "BALDREAM_HU                2            2           2       2          2\n",
       "DC90_EN                    1            1           1       1          1\n",
       "EXBAMB50_DE                1            1           1       1          1\n",
       "FRUITCHOC_DE               1            1           1       1          1\n",
       "FRUITCHOC_HU               2            2           2       2          2\n",
       "HAR60_EN                   8            8           8       8          8\n",
       "HCHAMPAGNE_HU              2            2           2       2          2\n",
       "HUSPRING_HU                1            1           1       1          1\n",
       "IM_DE                      1            1           1       1          1\n",
       "IM_EN                      1            1           1       1          1\n",
       "IM_HU                      2            2           2       2          2\n",
       "KREINBON_HU                1            1           1       1          1\n",
       "LM120_EN                   2            2           2       2          2\n",
       "M40_DE                     2            2           2       2          2\n",
       "MEDI40_EN                  5            5           5       5          5\n",
       "MEDI40_HU                  7            7           7       7          7\n",
       "NONABAR_HU                 5            5           5       5          5\n",
       "PROS_HU                    3            3           3       3          3\n",
       "SUMCSOB80_EN               1            1           1       1          1\n",
       "SUMCSOB90_DE               1            1           1       1          1\n",
       "SUMCSOB90_HU               5            5           5       5          5\n",
       "SWEET50_HU                 1            1           1       1          1\n",
       "SZM40_HU                   1            1           1       1          1"
      ]
     },
     "execution_count": 12,
     "metadata": {},
     "output_type": "execute_result"
    }
   ],
   "source": [
    "upsell.groupby('name').count().head(30)"
   ]
  },
  {
   "cell_type": "code",
   "execution_count": 13,
   "id": "459a4328-cd99-4ec7-86b4-0b443cc41574",
   "metadata": {},
   "outputs": [
    {
     "data": {
      "text/plain": [
       "48"
      ]
     },
     "execution_count": 13,
     "metadata": {},
     "output_type": "execute_result"
    }
   ],
   "source": [
    "#48 db foglaláshoz tartozik a 63 sor, a search_log_id itt nem egyedi azonosító\n",
    "len(upsell['search_log_id'].unique())"
   ]
  },
  {
   "cell_type": "code",
   "execution_count": 14,
   "id": "0a7b1604-0e75-4e63-b486-cb66bebf583b",
   "metadata": {},
   "outputs": [
    {
     "data": {
      "text/html": [
       "<div>\n",
       "<style scoped>\n",
       "    .dataframe tbody tr th:only-of-type {\n",
       "        vertical-align: middle;\n",
       "    }\n",
       "\n",
       "    .dataframe tbody tr th {\n",
       "        vertical-align: top;\n",
       "    }\n",
       "\n",
       "    .dataframe thead th {\n",
       "        text-align: right;\n",
       "    }\n",
       "</style>\n",
       "<table border=\"1\" class=\"dataframe\">\n",
       "  <thead>\n",
       "    <tr style=\"text-align: right;\">\n",
       "      <th></th>\n",
       "      <th>search_log_id</th>\n",
       "      <th>upsell_type</th>\n",
       "      <th>name</th>\n",
       "      <th>unit_price</th>\n",
       "      <th>pieces</th>\n",
       "      <th>sum_price</th>\n",
       "    </tr>\n",
       "  </thead>\n",
       "  <tbody>\n",
       "    <tr>\n",
       "      <th>19</th>\n",
       "      <td>139552</td>\n",
       "      <td>12</td>\n",
       "      <td>MEDI40_EN</td>\n",
       "      <td>37.8</td>\n",
       "      <td>2</td>\n",
       "      <td>75.6</td>\n",
       "    </tr>\n",
       "  </tbody>\n",
       "</table>\n",
       "</div>"
      ],
      "text/plain": [
       "    search_log_id  upsell_type       name  unit_price  pieces  sum_price\n",
       "19         139552           12  MEDI40_EN        37.8       2       75.6"
      ]
     },
     "execution_count": 14,
     "metadata": {},
     "output_type": "execute_result"
    }
   ],
   "source": [
    "#there are duplicated rows\n",
    "upsell[upsell.duplicated()]"
   ]
  },
  {
   "cell_type": "code",
   "execution_count": 15,
   "id": "67e92abf-1081-4325-a417-3d9b6eccb75c",
   "metadata": {},
   "outputs": [],
   "source": [
    "upsell.to_csv('./../Morgens_notebooks/HOTEL_3/Clean_data/upsell_hotel_3.csv')"
   ]
  },
  {
   "cell_type": "markdown",
   "id": "e4c30f86-f8d5-4c08-bff8-5291109d6734",
   "metadata": {},
   "source": [
    "#### 2 - Booking_data\n",
    "- 664 sor\n",
    "- adattípusok rendben\n",
    "- gond: EUR és HUF összegek egy oszlopban vannak"
   ]
  },
  {
   "cell_type": "code",
   "execution_count": 17,
   "id": "42713269-be3b-4ef8-93de-6a5862c2d2da",
   "metadata": {},
   "outputs": [],
   "source": [
    "booking = pd.read_csv('./../Morgens_notebooks/HOTEL_3/Original_data/booking_data_hotel_3.csv', sep=';')"
   ]
  },
  {
   "cell_type": "code",
   "execution_count": 18,
   "id": "7d3026d8-ccc2-471a-971b-cc07ec41b86d",
   "metadata": {},
   "outputs": [
    {
     "data": {
      "text/html": [
       "<div>\n",
       "<style scoped>\n",
       "    .dataframe tbody tr th:only-of-type {\n",
       "        vertical-align: middle;\n",
       "    }\n",
       "\n",
       "    .dataframe tbody tr th {\n",
       "        vertical-align: top;\n",
       "    }\n",
       "\n",
       "    .dataframe thead th {\n",
       "        text-align: right;\n",
       "    }\n",
       "</style>\n",
       "<table border=\"1\" class=\"dataframe\">\n",
       "  <thead>\n",
       "    <tr style=\"text-align: right;\">\n",
       "      <th></th>\n",
       "      <th>search_log_id</th>\n",
       "      <th>total_price_final</th>\n",
       "      <th>rooms_total_price</th>\n",
       "      <th>upsell_total_price</th>\n",
       "      <th>vouchers_total_price</th>\n",
       "      <th>loyalty_discount_total</th>\n",
       "      <th>redeemed_loyalty_points_total</th>\n",
       "    </tr>\n",
       "  </thead>\n",
       "  <tbody>\n",
       "    <tr>\n",
       "      <th>0</th>\n",
       "      <td>129649</td>\n",
       "      <td>82653.2</td>\n",
       "      <td>112607.20</td>\n",
       "      <td>0.0</td>\n",
       "      <td>0</td>\n",
       "      <td>11260.00</td>\n",
       "      <td>18694.0</td>\n",
       "    </tr>\n",
       "    <tr>\n",
       "      <th>1</th>\n",
       "      <td>129640</td>\n",
       "      <td>161892.0</td>\n",
       "      <td>185435.56</td>\n",
       "      <td>0.0</td>\n",
       "      <td>0</td>\n",
       "      <td>18543.56</td>\n",
       "      <td>5000.0</td>\n",
       "    </tr>\n",
       "    <tr>\n",
       "      <th>2</th>\n",
       "      <td>129730</td>\n",
       "      <td>85117.0</td>\n",
       "      <td>122352.22</td>\n",
       "      <td>0.0</td>\n",
       "      <td>0</td>\n",
       "      <td>12235.22</td>\n",
       "      <td>25000.0</td>\n",
       "    </tr>\n",
       "  </tbody>\n",
       "</table>\n",
       "</div>"
      ],
      "text/plain": [
       "   search_log_id  total_price_final  rooms_total_price  upsell_total_price  \\\n",
       "0         129649            82653.2          112607.20                 0.0   \n",
       "1         129640           161892.0          185435.56                 0.0   \n",
       "2         129730            85117.0          122352.22                 0.0   \n",
       "\n",
       "   vouchers_total_price  loyalty_discount_total  redeemed_loyalty_points_total  \n",
       "0                     0                11260.00                        18694.0  \n",
       "1                     0                18543.56                         5000.0  \n",
       "2                     0                12235.22                        25000.0  "
      ]
     },
     "execution_count": 18,
     "metadata": {},
     "output_type": "execute_result"
    }
   ],
   "source": [
    "booking.head(3)"
   ]
  },
  {
   "cell_type": "code",
   "execution_count": 19,
   "id": "0090c9bf-7cc2-47f5-9200-7e01256a0816",
   "metadata": {},
   "outputs": [
    {
     "data": {
      "text/plain": [
       "664"
      ]
     },
     "execution_count": 19,
     "metadata": {},
     "output_type": "execute_result"
    }
   ],
   "source": [
    "len(booking)"
   ]
  },
  {
   "cell_type": "code",
   "execution_count": 20,
   "id": "ab6d75ee-c1ff-4ace-b2a5-a70685a1f46c",
   "metadata": {},
   "outputs": [
    {
     "data": {
      "text/html": [
       "<div>\n",
       "<style scoped>\n",
       "    .dataframe tbody tr th:only-of-type {\n",
       "        vertical-align: middle;\n",
       "    }\n",
       "\n",
       "    .dataframe tbody tr th {\n",
       "        vertical-align: top;\n",
       "    }\n",
       "\n",
       "    .dataframe thead th {\n",
       "        text-align: right;\n",
       "    }\n",
       "</style>\n",
       "<table border=\"1\" class=\"dataframe\">\n",
       "  <thead>\n",
       "    <tr style=\"text-align: right;\">\n",
       "      <th></th>\n",
       "      <th>search_log_id</th>\n",
       "      <th>total_price_final</th>\n",
       "      <th>rooms_total_price</th>\n",
       "      <th>upsell_total_price</th>\n",
       "      <th>vouchers_total_price</th>\n",
       "      <th>loyalty_discount_total</th>\n",
       "      <th>redeemed_loyalty_points_total</th>\n",
       "    </tr>\n",
       "  </thead>\n",
       "  <tbody>\n",
       "    <tr>\n",
       "      <th>count</th>\n",
       "      <td>664.000000</td>\n",
       "      <td>6.640000e+02</td>\n",
       "      <td>6.640000e+02</td>\n",
       "      <td>664.000000</td>\n",
       "      <td>664.000000</td>\n",
       "      <td>664.000000</td>\n",
       "      <td>664.000000</td>\n",
       "    </tr>\n",
       "    <tr>\n",
       "      <th>mean</th>\n",
       "      <td>148815.560241</td>\n",
       "      <td>1.629819e+05</td>\n",
       "      <td>1.813869e+05</td>\n",
       "      <td>1168.145813</td>\n",
       "      <td>210.843373</td>\n",
       "      <td>14900.517877</td>\n",
       "      <td>4377.830949</td>\n",
       "    </tr>\n",
       "    <tr>\n",
       "      <th>std</th>\n",
       "      <td>9318.327412</td>\n",
       "      <td>1.307031e+05</td>\n",
       "      <td>1.396664e+05</td>\n",
       "      <td>5847.433250</td>\n",
       "      <td>5433.053680</td>\n",
       "      <td>13721.252109</td>\n",
       "      <td>8317.583170</td>\n",
       "    </tr>\n",
       "    <tr>\n",
       "      <th>min</th>\n",
       "      <td>129640.000000</td>\n",
       "      <td>2.079000e+02</td>\n",
       "      <td>2.310000e+02</td>\n",
       "      <td>0.000000</td>\n",
       "      <td>0.000000</td>\n",
       "      <td>0.000000</td>\n",
       "      <td>0.000000</td>\n",
       "    </tr>\n",
       "    <tr>\n",
       "      <th>25%</th>\n",
       "      <td>141324.000000</td>\n",
       "      <td>9.138125e+04</td>\n",
       "      <td>1.026802e+05</td>\n",
       "      <td>0.000000</td>\n",
       "      <td>0.000000</td>\n",
       "      <td>3692.315000</td>\n",
       "      <td>0.000000</td>\n",
       "    </tr>\n",
       "    <tr>\n",
       "      <th>50%</th>\n",
       "      <td>151776.500000</td>\n",
       "      <td>1.334910e+05</td>\n",
       "      <td>1.481756e+05</td>\n",
       "      <td>0.000000</td>\n",
       "      <td>0.000000</td>\n",
       "      <td>12852.000000</td>\n",
       "      <td>0.000000</td>\n",
       "    </tr>\n",
       "    <tr>\n",
       "      <th>75%</th>\n",
       "      <td>156807.000000</td>\n",
       "      <td>2.011652e+05</td>\n",
       "      <td>2.221958e+05</td>\n",
       "      <td>0.000000</td>\n",
       "      <td>0.000000</td>\n",
       "      <td>19974.000000</td>\n",
       "      <td>5000.000000</td>\n",
       "    </tr>\n",
       "    <tr>\n",
       "      <th>max</th>\n",
       "      <td>163147.000000</td>\n",
       "      <td>1.820256e+06</td>\n",
       "      <td>1.820256e+06</td>\n",
       "      <td>55485.000000</td>\n",
       "      <td>140000.000000</td>\n",
       "      <td>103164.780000</td>\n",
       "      <td>78926.000000</td>\n",
       "    </tr>\n",
       "  </tbody>\n",
       "</table>\n",
       "</div>"
      ],
      "text/plain": [
       "       search_log_id  total_price_final  rooms_total_price  \\\n",
       "count     664.000000       6.640000e+02       6.640000e+02   \n",
       "mean   148815.560241       1.629819e+05       1.813869e+05   \n",
       "std      9318.327412       1.307031e+05       1.396664e+05   \n",
       "min    129640.000000       2.079000e+02       2.310000e+02   \n",
       "25%    141324.000000       9.138125e+04       1.026802e+05   \n",
       "50%    151776.500000       1.334910e+05       1.481756e+05   \n",
       "75%    156807.000000       2.011652e+05       2.221958e+05   \n",
       "max    163147.000000       1.820256e+06       1.820256e+06   \n",
       "\n",
       "       upsell_total_price  vouchers_total_price  loyalty_discount_total  \\\n",
       "count          664.000000            664.000000              664.000000   \n",
       "mean          1168.145813            210.843373            14900.517877   \n",
       "std           5847.433250           5433.053680            13721.252109   \n",
       "min              0.000000              0.000000                0.000000   \n",
       "25%              0.000000              0.000000             3692.315000   \n",
       "50%              0.000000              0.000000            12852.000000   \n",
       "75%              0.000000              0.000000            19974.000000   \n",
       "max          55485.000000         140000.000000           103164.780000   \n",
       "\n",
       "       redeemed_loyalty_points_total  \n",
       "count                     664.000000  \n",
       "mean                     4377.830949  \n",
       "std                      8317.583170  \n",
       "min                         0.000000  \n",
       "25%                         0.000000  \n",
       "50%                         0.000000  \n",
       "75%                      5000.000000  \n",
       "max                     78926.000000  "
      ]
     },
     "execution_count": 20,
     "metadata": {},
     "output_type": "execute_result"
    }
   ],
   "source": [
    "booking.describe()"
   ]
  },
  {
   "cell_type": "code",
   "execution_count": 21,
   "id": "95c05152-66a2-4c78-bd29-8c54de408104",
   "metadata": {},
   "outputs": [
    {
     "data": {
      "text/html": [
       "<div>\n",
       "<style scoped>\n",
       "    .dataframe tbody tr th:only-of-type {\n",
       "        vertical-align: middle;\n",
       "    }\n",
       "\n",
       "    .dataframe tbody tr th {\n",
       "        vertical-align: top;\n",
       "    }\n",
       "\n",
       "    .dataframe thead th {\n",
       "        text-align: right;\n",
       "    }\n",
       "</style>\n",
       "<table border=\"1\" class=\"dataframe\">\n",
       "  <thead>\n",
       "    <tr style=\"text-align: right;\">\n",
       "      <th></th>\n",
       "      <th>search_log_id</th>\n",
       "      <th>total_price_final</th>\n",
       "      <th>rooms_total_price</th>\n",
       "      <th>upsell_total_price</th>\n",
       "      <th>vouchers_total_price</th>\n",
       "      <th>loyalty_discount_total</th>\n",
       "      <th>redeemed_loyalty_points_total</th>\n",
       "    </tr>\n",
       "  </thead>\n",
       "  <tbody>\n",
       "  </tbody>\n",
       "</table>\n",
       "</div>"
      ],
      "text/plain": [
       "Empty DataFrame\n",
       "Columns: [search_log_id, total_price_final, rooms_total_price, upsell_total_price, vouchers_total_price, loyalty_discount_total, redeemed_loyalty_points_total]\n",
       "Index: []"
      ]
     },
     "execution_count": 21,
     "metadata": {},
     "output_type": "execute_result"
    }
   ],
   "source": [
    "#no duplicated rows\n",
    "booking[booking.duplicated()]"
   ]
  },
  {
   "cell_type": "code",
   "execution_count": 22,
   "id": "54cb7118-6365-4e8e-81c2-b025d6c511e0",
   "metadata": {},
   "outputs": [
    {
     "data": {
      "text/plain": [
       "664"
      ]
     },
     "execution_count": 22,
     "metadata": {},
     "output_type": "execute_result"
    }
   ],
   "source": [
    "len(booking['search_log_id'].unique())"
   ]
  },
  {
   "cell_type": "code",
   "execution_count": 23,
   "id": "fe639cb1-0fb1-42b7-bf7e-8fe9a98197b8",
   "metadata": {},
   "outputs": [],
   "source": [
    "booking.to_csv('./../Morgens_notebooks/HOTEL_3/Clean_data/booking_hotel_3.csv')"
   ]
  },
  {
   "cell_type": "markdown",
   "id": "674f5e31-b0be-4548-a0b1-33dfde2b30e9",
   "metadata": {},
   "source": [
    "#### 3 - Child tábla (search_log_room_child)\n",
    "- 8443 sor\n",
    "-  adattípusok OK\n",
    "-  nincs NaN"
   ]
  },
  {
   "cell_type": "code",
   "execution_count": 25,
   "id": "d2dbac84-c994-4157-a4a7-636bd9ccc31e",
   "metadata": {},
   "outputs": [],
   "source": [
    "child = pd.read_csv('./../Morgens_notebooks/HOTEL_3/Original_data/search_log_room_child_hotel_3.csv', sep=';')\n"
   ]
  },
  {
   "cell_type": "code",
   "execution_count": 26,
   "id": "ce0eb0c7-11a3-47de-aac8-fd7566630a45",
   "metadata": {},
   "outputs": [
    {
     "data": {
      "text/html": [
       "<div>\n",
       "<style scoped>\n",
       "    .dataframe tbody tr th:only-of-type {\n",
       "        vertical-align: middle;\n",
       "    }\n",
       "\n",
       "    .dataframe tbody tr th {\n",
       "        vertical-align: top;\n",
       "    }\n",
       "\n",
       "    .dataframe thead th {\n",
       "        text-align: right;\n",
       "    }\n",
       "</style>\n",
       "<table border=\"1\" class=\"dataframe\">\n",
       "  <thead>\n",
       "    <tr style=\"text-align: right;\">\n",
       "      <th></th>\n",
       "      <th>id</th>\n",
       "      <th>search_log_room_id</th>\n",
       "      <th>age</th>\n",
       "      <th>baby_bed</th>\n",
       "    </tr>\n",
       "  </thead>\n",
       "  <tbody>\n",
       "    <tr>\n",
       "      <th>0</th>\n",
       "      <td>1220</td>\n",
       "      <td>5755</td>\n",
       "      <td>10</td>\n",
       "      <td>0</td>\n",
       "    </tr>\n",
       "    <tr>\n",
       "      <th>1</th>\n",
       "      <td>1221</td>\n",
       "      <td>5757</td>\n",
       "      <td>13</td>\n",
       "      <td>0</td>\n",
       "    </tr>\n",
       "    <tr>\n",
       "      <th>2</th>\n",
       "      <td>1222</td>\n",
       "      <td>5769</td>\n",
       "      <td>4</td>\n",
       "      <td>0</td>\n",
       "    </tr>\n",
       "  </tbody>\n",
       "</table>\n",
       "</div>"
      ],
      "text/plain": [
       "     id  search_log_room_id  age  baby_bed\n",
       "0  1220                5755   10         0\n",
       "1  1221                5757   13         0\n",
       "2  1222                5769    4         0"
      ]
     },
     "execution_count": 26,
     "metadata": {},
     "output_type": "execute_result"
    }
   ],
   "source": [
    "child.head(3)"
   ]
  },
  {
   "cell_type": "code",
   "execution_count": 27,
   "id": "3962ec3e-2311-4bb1-82d1-d93166fff920",
   "metadata": {},
   "outputs": [
    {
     "data": {
      "text/plain": [
       "8443"
      ]
     },
     "execution_count": 27,
     "metadata": {},
     "output_type": "execute_result"
    }
   ],
   "source": [
    "len(child)"
   ]
  },
  {
   "cell_type": "code",
   "execution_count": 28,
   "id": "1500b5cf-2336-49fe-bf83-318c4a9858cd",
   "metadata": {},
   "outputs": [
    {
     "data": {
      "text/html": [
       "<div>\n",
       "<style scoped>\n",
       "    .dataframe tbody tr th:only-of-type {\n",
       "        vertical-align: middle;\n",
       "    }\n",
       "\n",
       "    .dataframe tbody tr th {\n",
       "        vertical-align: top;\n",
       "    }\n",
       "\n",
       "    .dataframe thead th {\n",
       "        text-align: right;\n",
       "    }\n",
       "</style>\n",
       "<table border=\"1\" class=\"dataframe\">\n",
       "  <thead>\n",
       "    <tr style=\"text-align: right;\">\n",
       "      <th></th>\n",
       "      <th>id</th>\n",
       "      <th>search_log_room_id</th>\n",
       "      <th>age</th>\n",
       "      <th>baby_bed</th>\n",
       "    </tr>\n",
       "  </thead>\n",
       "  <tbody>\n",
       "  </tbody>\n",
       "</table>\n",
       "</div>"
      ],
      "text/plain": [
       "Empty DataFrame\n",
       "Columns: [id, search_log_room_id, age, baby_bed]\n",
       "Index: []"
      ]
     },
     "execution_count": 28,
     "metadata": {},
     "output_type": "execute_result"
    }
   ],
   "source": [
    "#no duplicated rows\n",
    "child[child.duplicated()]"
   ]
  },
  {
   "cell_type": "code",
   "execution_count": 29,
   "id": "249792b1-59f0-4874-8f76-6da7b90ba509",
   "metadata": {},
   "outputs": [
    {
     "data": {
      "text/plain": [
       "5860"
      ]
     },
     "execution_count": 29,
     "metadata": {},
     "output_type": "execute_result"
    }
   ],
   "source": [
    "len(child['search_log_room_id'].unique())"
   ]
  },
  {
   "cell_type": "code",
   "execution_count": 30,
   "id": "ad0e7e76-df5e-4255-b95c-0d6c67abf055",
   "metadata": {},
   "outputs": [
    {
     "data": {
      "text/plain": [
       "8443"
      ]
     },
     "execution_count": 30,
     "metadata": {},
     "output_type": "execute_result"
    }
   ],
   "source": [
    "len(child['id'].unique())"
   ]
  },
  {
   "cell_type": "code",
   "execution_count": 31,
   "id": "d830da6f-00eb-422f-b98c-9f583d08a086",
   "metadata": {},
   "outputs": [
    {
     "data": {
      "text/html": [
       "<div>\n",
       "<style scoped>\n",
       "    .dataframe tbody tr th:only-of-type {\n",
       "        vertical-align: middle;\n",
       "    }\n",
       "\n",
       "    .dataframe tbody tr th {\n",
       "        vertical-align: top;\n",
       "    }\n",
       "\n",
       "    .dataframe thead th {\n",
       "        text-align: right;\n",
       "    }\n",
       "</style>\n",
       "<table border=\"1\" class=\"dataframe\">\n",
       "  <thead>\n",
       "    <tr style=\"text-align: right;\">\n",
       "      <th></th>\n",
       "      <th>id</th>\n",
       "      <th>search_log_room_id</th>\n",
       "      <th>age</th>\n",
       "      <th>baby_bed</th>\n",
       "    </tr>\n",
       "  </thead>\n",
       "  <tbody>\n",
       "    <tr>\n",
       "      <th>count</th>\n",
       "      <td>8443.000000</td>\n",
       "      <td>8443.000000</td>\n",
       "      <td>8443.000000</td>\n",
       "      <td>8443.000000</td>\n",
       "    </tr>\n",
       "    <tr>\n",
       "      <th>mean</th>\n",
       "      <td>5572.024044</td>\n",
       "      <td>23707.360298</td>\n",
       "      <td>8.183939</td>\n",
       "      <td>0.081725</td>\n",
       "    </tr>\n",
       "    <tr>\n",
       "      <th>std</th>\n",
       "      <td>2519.898604</td>\n",
       "      <td>10419.800872</td>\n",
       "      <td>4.931146</td>\n",
       "      <td>0.273961</td>\n",
       "    </tr>\n",
       "    <tr>\n",
       "      <th>min</th>\n",
       "      <td>1220.000000</td>\n",
       "      <td>5755.000000</td>\n",
       "      <td>0.000000</td>\n",
       "      <td>0.000000</td>\n",
       "    </tr>\n",
       "    <tr>\n",
       "      <th>25%</th>\n",
       "      <td>3379.500000</td>\n",
       "      <td>14100.000000</td>\n",
       "      <td>4.000000</td>\n",
       "      <td>0.000000</td>\n",
       "    </tr>\n",
       "    <tr>\n",
       "      <th>50%</th>\n",
       "      <td>5579.000000</td>\n",
       "      <td>24051.000000</td>\n",
       "      <td>8.000000</td>\n",
       "      <td>0.000000</td>\n",
       "    </tr>\n",
       "    <tr>\n",
       "      <th>75%</th>\n",
       "      <td>7756.500000</td>\n",
       "      <td>32822.000000</td>\n",
       "      <td>12.000000</td>\n",
       "      <td>0.000000</td>\n",
       "    </tr>\n",
       "    <tr>\n",
       "      <th>max</th>\n",
       "      <td>9960.000000</td>\n",
       "      <td>42205.000000</td>\n",
       "      <td>17.000000</td>\n",
       "      <td>1.000000</td>\n",
       "    </tr>\n",
       "  </tbody>\n",
       "</table>\n",
       "</div>"
      ],
      "text/plain": [
       "                id  search_log_room_id          age     baby_bed\n",
       "count  8443.000000         8443.000000  8443.000000  8443.000000\n",
       "mean   5572.024044        23707.360298     8.183939     0.081725\n",
       "std    2519.898604        10419.800872     4.931146     0.273961\n",
       "min    1220.000000         5755.000000     0.000000     0.000000\n",
       "25%    3379.500000        14100.000000     4.000000     0.000000\n",
       "50%    5579.000000        24051.000000     8.000000     0.000000\n",
       "75%    7756.500000        32822.000000    12.000000     0.000000\n",
       "max    9960.000000        42205.000000    17.000000     1.000000"
      ]
     },
     "execution_count": 31,
     "metadata": {},
     "output_type": "execute_result"
    }
   ],
   "source": [
    "child.describe()"
   ]
  },
  {
   "cell_type": "code",
   "execution_count": 32,
   "id": "1597431b-ab41-42b3-a799-92e874c78c31",
   "metadata": {},
   "outputs": [],
   "source": [
    "child.to_csv('./../Morgens_notebooks/HOTEL_3/Clean_data/child_hotel_3.csv')"
   ]
  },
  {
   "cell_type": "raw",
   "id": "f89d4d94-abf7-4712-9c06-e02ab325f185",
   "metadata": {},
   "source": []
  },
  {
   "cell_type": "markdown",
   "id": "81ab7b5e-48c1-44eb-bb8c-a34e5fc80c30",
   "metadata": {},
   "source": [
    "#### 4 - SEARCH tábla (search_log_hotel)\n",
    "- 21662 sor\n",
    "- nincs NaN\n",
    "- gond az EUR/HUF, de itt van dátum oszlop is, ide lehetne behozni az árfolyamokat először\n",
    "- adattisztitás:\n",
    "- dátumból: csak év-hónap-nap legyen\n",
    "- conversion oszlop: NaN értékeknek -1 érték (szűréshez kell)\n",
    "- total_price_final: NaN értékek nulla érték\n",
    "- új oszlop: total_price_HUF !!!"
   ]
  },
  {
   "cell_type": "code",
   "execution_count": 34,
   "id": "a55caf74-2eb8-44b6-8be9-c66b9dfdb667",
   "metadata": {},
   "outputs": [],
   "source": [
    "search = pd.read_csv('./../Morgens_notebooks/HOTEL_3/Original_data/search_log_hotel_3.csv', sep=';')"
   ]
  },
  {
   "cell_type": "code",
   "execution_count": 35,
   "id": "f4d7d55f-e601-47cb-957c-68b12787176d",
   "metadata": {},
   "outputs": [
    {
     "data": {
      "text/plain": [
       "21662"
      ]
     },
     "execution_count": 35,
     "metadata": {},
     "output_type": "execute_result"
    }
   ],
   "source": [
    "len(search)"
   ]
  },
  {
   "cell_type": "code",
   "execution_count": 36,
   "id": "b4c85529-5506-4529-a150-7865cf7f8494",
   "metadata": {},
   "outputs": [
    {
     "data": {
      "text/plain": [
       "13048"
      ]
     },
     "execution_count": 36,
     "metadata": {},
     "output_type": "execute_result"
    }
   ],
   "source": [
    "len(search['search_log_session_id'].unique())"
   ]
  },
  {
   "cell_type": "code",
   "execution_count": 37,
   "id": "031250c9-b034-43ca-8cb8-197401eeff0f",
   "metadata": {},
   "outputs": [
    {
     "name": "stdout",
     "output_type": "stream",
     "text": [
      "<class 'pandas.core.frame.DataFrame'>\n",
      "RangeIndex: 21662 entries, 0 to 21661\n",
      "Data columns (total 13 columns):\n",
      " #   Column                 Non-Null Count  Dtype  \n",
      "---  ------                 --------------  -----  \n",
      " 0   id                     21662 non-null  int64  \n",
      " 1   search_log_session_id  21662 non-null  int64  \n",
      " 2   utc_datetime           21662 non-null  object \n",
      " 3   lang_code              21662 non-null  object \n",
      " 4   currency               21662 non-null  object \n",
      " 5   arrival                21662 non-null  object \n",
      " 6   departure              21662 non-null  object \n",
      " 7   days                   21662 non-null  int64  \n",
      " 8   nights                 21662 non-null  int64  \n",
      " 9   adults                 21662 non-null  int64  \n",
      " 10  children               21662 non-null  int64  \n",
      " 11  conversion             664 non-null    float64\n",
      " 12  total_price_final      664 non-null    float64\n",
      "dtypes: float64(2), int64(6), object(5)\n",
      "memory usage: 2.1+ MB\n"
     ]
    }
   ],
   "source": [
    "search.info()"
   ]
  },
  {
   "cell_type": "code",
   "execution_count": 38,
   "id": "05ce8c7f-2596-4e19-9866-c9270114177e",
   "metadata": {},
   "outputs": [],
   "source": [
    "#datatype change to date:\n",
    "search['utc_datetime'] = pd.to_datetime(search['utc_datetime'])\n",
    "search['arrival'] = pd.to_datetime(search['arrival'])\n",
    "search['departure'] = pd.to_datetime(search['departure'])"
   ]
  },
  {
   "cell_type": "code",
   "execution_count": 39,
   "id": "4fe77f0f-711e-4bd4-9b1c-8af1f18c1f50",
   "metadata": {},
   "outputs": [],
   "source": [
    "#utc_datetime change to only year-month-day into a new column\n",
    "#szinesdf['when'] = szinesdf['when'].dt.strftime('%H:%M:%S')\n",
    "search['utc_date'] = search['utc_datetime'].dt.strftime('%Y-%m-%d')"
   ]
  },
  {
   "cell_type": "code",
   "execution_count": 40,
   "id": "536fa5c9-ef88-496c-925a-48c29fe7b2dc",
   "metadata": {},
   "outputs": [
    {
     "data": {
      "text/plain": [
       "id                           0\n",
       "search_log_session_id        0\n",
       "utc_datetime                 0\n",
       "lang_code                    0\n",
       "currency                     0\n",
       "arrival                      0\n",
       "departure                    0\n",
       "days                         0\n",
       "nights                       0\n",
       "adults                       0\n",
       "children                     0\n",
       "conversion               20998\n",
       "total_price_final        20998\n",
       "utc_date                     0\n",
       "dtype: int64"
      ]
     },
     "execution_count": 40,
     "metadata": {},
     "output_type": "execute_result"
    }
   ],
   "source": [
    "search.isna().sum()"
   ]
  },
  {
   "cell_type": "code",
   "execution_count": 41,
   "id": "3a2a6479-4305-4d40-b5f3-d57a6d48dda0",
   "metadata": {},
   "outputs": [
    {
     "data": {
      "text/plain": [
       "664"
      ]
     },
     "execution_count": 41,
     "metadata": {},
     "output_type": "execute_result"
    }
   ],
   "source": [
    "#Number of final bookings\n",
    "21662-20998"
   ]
  },
  {
   "cell_type": "code",
   "execution_count": 42,
   "id": "75212b75-e195-4535-b1dc-bf890ff3cef5",
   "metadata": {},
   "outputs": [],
   "source": [
    "#conversion column: replace NaN with -1\n",
    "search['conversion'].fillna(-1, inplace = True)"
   ]
  },
  {
   "cell_type": "code",
   "execution_count": 43,
   "id": "3cf2fea2-bc27-4c92-8ca4-f11f88f43e51",
   "metadata": {},
   "outputs": [],
   "source": [
    "#final_price column: replace NaN with 0\n",
    "search['total_price_final'].fillna(0, inplace = True)"
   ]
  },
  {
   "cell_type": "code",
   "execution_count": 44,
   "id": "68f36f45-fef6-46f6-9f98-1b575f554ce9",
   "metadata": {},
   "outputs": [
    {
     "data": {
      "text/html": [
       "<div>\n",
       "<style scoped>\n",
       "    .dataframe tbody tr th:only-of-type {\n",
       "        vertical-align: middle;\n",
       "    }\n",
       "\n",
       "    .dataframe tbody tr th {\n",
       "        vertical-align: top;\n",
       "    }\n",
       "\n",
       "    .dataframe thead th {\n",
       "        text-align: right;\n",
       "    }\n",
       "</style>\n",
       "<table border=\"1\" class=\"dataframe\">\n",
       "  <thead>\n",
       "    <tr style=\"text-align: right;\">\n",
       "      <th></th>\n",
       "      <th>id</th>\n",
       "      <th>search_log_session_id</th>\n",
       "      <th>utc_datetime</th>\n",
       "      <th>lang_code</th>\n",
       "      <th>currency</th>\n",
       "      <th>arrival</th>\n",
       "      <th>departure</th>\n",
       "      <th>days</th>\n",
       "      <th>nights</th>\n",
       "      <th>adults</th>\n",
       "      <th>children</th>\n",
       "      <th>conversion</th>\n",
       "      <th>total_price_final</th>\n",
       "      <th>utc_date</th>\n",
       "    </tr>\n",
       "  </thead>\n",
       "  <tbody>\n",
       "    <tr>\n",
       "      <th>0</th>\n",
       "      <td>129533</td>\n",
       "      <td>4255</td>\n",
       "      <td>2024-09-17 22:13:49</td>\n",
       "      <td>hu</td>\n",
       "      <td>HUF</td>\n",
       "      <td>2024-10-26</td>\n",
       "      <td>2024-10-29</td>\n",
       "      <td>4</td>\n",
       "      <td>3</td>\n",
       "      <td>1</td>\n",
       "      <td>1</td>\n",
       "      <td>-1.0</td>\n",
       "      <td>0.0</td>\n",
       "      <td>2024-09-17</td>\n",
       "    </tr>\n",
       "    <tr>\n",
       "      <th>1</th>\n",
       "      <td>129534</td>\n",
       "      <td>4255</td>\n",
       "      <td>2024-09-17 22:15:04</td>\n",
       "      <td>hu</td>\n",
       "      <td>HUF</td>\n",
       "      <td>2024-12-30</td>\n",
       "      <td>2025-01-01</td>\n",
       "      <td>3</td>\n",
       "      <td>2</td>\n",
       "      <td>1</td>\n",
       "      <td>0</td>\n",
       "      <td>-1.0</td>\n",
       "      <td>0.0</td>\n",
       "      <td>2024-09-17</td>\n",
       "    </tr>\n",
       "    <tr>\n",
       "      <th>2</th>\n",
       "      <td>129535</td>\n",
       "      <td>4257</td>\n",
       "      <td>2024-09-17 22:55:42</td>\n",
       "      <td>en</td>\n",
       "      <td>EUR</td>\n",
       "      <td>2024-10-30</td>\n",
       "      <td>2024-11-02</td>\n",
       "      <td>4</td>\n",
       "      <td>3</td>\n",
       "      <td>2</td>\n",
       "      <td>1</td>\n",
       "      <td>-1.0</td>\n",
       "      <td>0.0</td>\n",
       "      <td>2024-09-17</td>\n",
       "    </tr>\n",
       "    <tr>\n",
       "      <th>3</th>\n",
       "      <td>129536</td>\n",
       "      <td>4257</td>\n",
       "      <td>2024-09-17 22:57:04</td>\n",
       "      <td>en</td>\n",
       "      <td>EUR</td>\n",
       "      <td>2024-10-30</td>\n",
       "      <td>2024-11-02</td>\n",
       "      <td>4</td>\n",
       "      <td>3</td>\n",
       "      <td>2</td>\n",
       "      <td>0</td>\n",
       "      <td>-1.0</td>\n",
       "      <td>0.0</td>\n",
       "      <td>2024-09-17</td>\n",
       "    </tr>\n",
       "    <tr>\n",
       "      <th>4</th>\n",
       "      <td>129537</td>\n",
       "      <td>4257</td>\n",
       "      <td>2024-09-17 22:57:37</td>\n",
       "      <td>en</td>\n",
       "      <td>EUR</td>\n",
       "      <td>2024-10-30</td>\n",
       "      <td>2024-11-02</td>\n",
       "      <td>4</td>\n",
       "      <td>3</td>\n",
       "      <td>2</td>\n",
       "      <td>0</td>\n",
       "      <td>-1.0</td>\n",
       "      <td>0.0</td>\n",
       "      <td>2024-09-17</td>\n",
       "    </tr>\n",
       "  </tbody>\n",
       "</table>\n",
       "</div>"
      ],
      "text/plain": [
       "       id  search_log_session_id        utc_datetime lang_code currency  \\\n",
       "0  129533                   4255 2024-09-17 22:13:49        hu      HUF   \n",
       "1  129534                   4255 2024-09-17 22:15:04        hu      HUF   \n",
       "2  129535                   4257 2024-09-17 22:55:42        en      EUR   \n",
       "3  129536                   4257 2024-09-17 22:57:04        en      EUR   \n",
       "4  129537                   4257 2024-09-17 22:57:37        en      EUR   \n",
       "\n",
       "     arrival  departure  days  nights  adults  children  conversion  \\\n",
       "0 2024-10-26 2024-10-29     4       3       1         1        -1.0   \n",
       "1 2024-12-30 2025-01-01     3       2       1         0        -1.0   \n",
       "2 2024-10-30 2024-11-02     4       3       2         1        -1.0   \n",
       "3 2024-10-30 2024-11-02     4       3       2         0        -1.0   \n",
       "4 2024-10-30 2024-11-02     4       3       2         0        -1.0   \n",
       "\n",
       "   total_price_final    utc_date  \n",
       "0                0.0  2024-09-17  \n",
       "1                0.0  2024-09-17  \n",
       "2                0.0  2024-09-17  \n",
       "3                0.0  2024-09-17  \n",
       "4                0.0  2024-09-17  "
      ]
     },
     "execution_count": 44,
     "metadata": {},
     "output_type": "execute_result"
    }
   ],
   "source": [
    "search.head()"
   ]
  },
  {
   "cell_type": "code",
   "execution_count": 45,
   "id": "1bf03c5e-7fcf-4fe2-850e-5a616117c3d3",
   "metadata": {},
   "outputs": [
    {
     "data": {
      "text/html": [
       "<div>\n",
       "<style scoped>\n",
       "    .dataframe tbody tr th:only-of-type {\n",
       "        vertical-align: middle;\n",
       "    }\n",
       "\n",
       "    .dataframe tbody tr th {\n",
       "        vertical-align: top;\n",
       "    }\n",
       "\n",
       "    .dataframe thead th {\n",
       "        text-align: right;\n",
       "    }\n",
       "</style>\n",
       "<table border=\"1\" class=\"dataframe\">\n",
       "  <thead>\n",
       "    <tr style=\"text-align: right;\">\n",
       "      <th></th>\n",
       "      <th>id</th>\n",
       "      <th>search_log_session_id</th>\n",
       "      <th>utc_datetime</th>\n",
       "      <th>lang_code</th>\n",
       "      <th>currency</th>\n",
       "      <th>arrival</th>\n",
       "      <th>departure</th>\n",
       "      <th>days</th>\n",
       "      <th>nights</th>\n",
       "      <th>adults</th>\n",
       "      <th>children</th>\n",
       "      <th>conversion</th>\n",
       "      <th>total_price_final</th>\n",
       "      <th>utc_date</th>\n",
       "    </tr>\n",
       "  </thead>\n",
       "  <tbody>\n",
       "  </tbody>\n",
       "</table>\n",
       "</div>"
      ],
      "text/plain": [
       "Empty DataFrame\n",
       "Columns: [id, search_log_session_id, utc_datetime, lang_code, currency, arrival, departure, days, nights, adults, children, conversion, total_price_final, utc_date]\n",
       "Index: []"
      ]
     },
     "execution_count": 45,
     "metadata": {},
     "output_type": "execute_result"
    }
   ],
   "source": [
    "#no duplicated rows\n",
    "search[search.duplicated()]"
   ]
  },
  {
   "cell_type": "code",
   "execution_count": 46,
   "id": "3941d428-60b7-49db-a107-f0be7605aa8f",
   "metadata": {},
   "outputs": [],
   "source": [
    "search.to_csv('./../Morgens_notebooks/HOTEL_3/Clean_data/search_hotel_3.csv')"
   ]
  },
  {
   "cell_type": "markdown",
   "id": "5caf7ffe-ecb1-4f7b-8683-e7a7cd6c9391",
   "metadata": {},
   "source": [
    "#### 5 - Room details (search_log_room_hotel)\n",
    "- 23985 sor\n",
    "- adattípusok OK\n",
    "- van 16832 db NaN a picked_price, és picked_room oszlopban, ezek azért vannak mert nem választott már szobát a keresés során?\n",
    "- ami nem NaN, az kód a picked_room oszlopban, legyen 0 a NaN helyett?\n",
    "- ami nem NaN, az ár: HUF/EUR?, legyen 0 a NaN helyett?"
   ]
  },
  {
   "cell_type": "code",
   "execution_count": 48,
   "id": "2568699e-061f-4ae1-bff4-0ecb12852968",
   "metadata": {},
   "outputs": [],
   "source": [
    "room = pd.read_csv('./../Morgens_notebooks/HOTEL_3/Original_data/search_log_room_hotel_3.csv', sep=';')"
   ]
  },
  {
   "cell_type": "code",
   "execution_count": 49,
   "id": "a6d1c765-9d8f-450b-afa2-9cc7de6e71e3",
   "metadata": {},
   "outputs": [
    {
     "data": {
      "text/html": [
       "<div>\n",
       "<style scoped>\n",
       "    .dataframe tbody tr th:only-of-type {\n",
       "        vertical-align: middle;\n",
       "    }\n",
       "\n",
       "    .dataframe tbody tr th {\n",
       "        vertical-align: top;\n",
       "    }\n",
       "\n",
       "    .dataframe thead th {\n",
       "        text-align: right;\n",
       "    }\n",
       "</style>\n",
       "<table border=\"1\" class=\"dataframe\">\n",
       "  <thead>\n",
       "    <tr style=\"text-align: right;\">\n",
       "      <th></th>\n",
       "      <th>id</th>\n",
       "      <th>search_log_id</th>\n",
       "      <th>adults</th>\n",
       "      <th>children</th>\n",
       "      <th>picked_price</th>\n",
       "      <th>picked_room</th>\n",
       "    </tr>\n",
       "  </thead>\n",
       "  <tbody>\n",
       "    <tr>\n",
       "      <th>0</th>\n",
       "      <td>5755</td>\n",
       "      <td>129533</td>\n",
       "      <td>1</td>\n",
       "      <td>1</td>\n",
       "      <td>NaN</td>\n",
       "      <td>NaN</td>\n",
       "    </tr>\n",
       "    <tr>\n",
       "      <th>1</th>\n",
       "      <td>5756</td>\n",
       "      <td>129534</td>\n",
       "      <td>1</td>\n",
       "      <td>0</td>\n",
       "      <td>NaN</td>\n",
       "      <td>NaN</td>\n",
       "    </tr>\n",
       "    <tr>\n",
       "      <th>2</th>\n",
       "      <td>5757</td>\n",
       "      <td>129535</td>\n",
       "      <td>2</td>\n",
       "      <td>1</td>\n",
       "      <td>NaN</td>\n",
       "      <td>NaN</td>\n",
       "    </tr>\n",
       "    <tr>\n",
       "      <th>3</th>\n",
       "      <td>5758</td>\n",
       "      <td>129536</td>\n",
       "      <td>2</td>\n",
       "      <td>0</td>\n",
       "      <td>NaN</td>\n",
       "      <td>NaN</td>\n",
       "    </tr>\n",
       "    <tr>\n",
       "      <th>4</th>\n",
       "      <td>5759</td>\n",
       "      <td>129537</td>\n",
       "      <td>2</td>\n",
       "      <td>0</td>\n",
       "      <td>NaN</td>\n",
       "      <td>NaN</td>\n",
       "    </tr>\n",
       "  </tbody>\n",
       "</table>\n",
       "</div>"
      ],
      "text/plain": [
       "     id  search_log_id  adults  children  picked_price picked_room\n",
       "0  5755         129533       1         1           NaN         NaN\n",
       "1  5756         129534       1         0           NaN         NaN\n",
       "2  5757         129535       2         1           NaN         NaN\n",
       "3  5758         129536       2         0           NaN         NaN\n",
       "4  5759         129537       2         0           NaN         NaN"
      ]
     },
     "execution_count": 49,
     "metadata": {},
     "output_type": "execute_result"
    }
   ],
   "source": [
    "room.head(5)"
   ]
  },
  {
   "cell_type": "code",
   "execution_count": 50,
   "id": "ef8dab33-81dd-4212-a11b-96a93f8c920c",
   "metadata": {},
   "outputs": [
    {
     "data": {
      "text/plain": [
       "23985"
      ]
     },
     "execution_count": 50,
     "metadata": {},
     "output_type": "execute_result"
    }
   ],
   "source": [
    "len(room)"
   ]
  },
  {
   "cell_type": "code",
   "execution_count": 51,
   "id": "8ba6d630-260d-4811-9bf5-c92edd750481",
   "metadata": {},
   "outputs": [
    {
     "data": {
      "text/plain": [
       "21662"
      ]
     },
     "execution_count": 51,
     "metadata": {},
     "output_type": "execute_result"
    }
   ],
   "source": [
    "len(room['search_log_id'].unique())"
   ]
  },
  {
   "cell_type": "code",
   "execution_count": 52,
   "id": "0b200765-506c-4e1d-ae16-9074a01e6a6c",
   "metadata": {},
   "outputs": [
    {
     "data": {
      "text/plain": [
       "id                   0\n",
       "search_log_id        0\n",
       "adults               0\n",
       "children             0\n",
       "picked_price     23215\n",
       "picked_room      23215\n",
       "dtype: int64"
      ]
     },
     "execution_count": 52,
     "metadata": {},
     "output_type": "execute_result"
    }
   ],
   "source": [
    "room.isna().sum()"
   ]
  },
  {
   "cell_type": "code",
   "execution_count": 53,
   "id": "b52028c7-63e2-4e82-a01a-b5a17664593a",
   "metadata": {},
   "outputs": [
    {
     "data": {
      "text/plain": [
       "770"
      ]
     },
     "execution_count": 53,
     "metadata": {},
     "output_type": "execute_result"
    }
   ],
   "source": [
    "23985-23215"
   ]
  },
  {
   "cell_type": "code",
   "execution_count": 54,
   "id": "707be87d-b258-4e18-a0ab-d6f1d25761f8",
   "metadata": {},
   "outputs": [
    {
     "data": {
      "text/html": [
       "<div>\n",
       "<style scoped>\n",
       "    .dataframe tbody tr th:only-of-type {\n",
       "        vertical-align: middle;\n",
       "    }\n",
       "\n",
       "    .dataframe tbody tr th {\n",
       "        vertical-align: top;\n",
       "    }\n",
       "\n",
       "    .dataframe thead th {\n",
       "        text-align: right;\n",
       "    }\n",
       "</style>\n",
       "<table border=\"1\" class=\"dataframe\">\n",
       "  <thead>\n",
       "    <tr style=\"text-align: right;\">\n",
       "      <th></th>\n",
       "      <th>id</th>\n",
       "      <th>search_log_id</th>\n",
       "      <th>adults</th>\n",
       "      <th>children</th>\n",
       "      <th>picked_price</th>\n",
       "      <th>picked_room</th>\n",
       "    </tr>\n",
       "  </thead>\n",
       "  <tbody>\n",
       "  </tbody>\n",
       "</table>\n",
       "</div>"
      ],
      "text/plain": [
       "Empty DataFrame\n",
       "Columns: [id, search_log_id, adults, children, picked_price, picked_room]\n",
       "Index: []"
      ]
     },
     "execution_count": 54,
     "metadata": {},
     "output_type": "execute_result"
    }
   ],
   "source": [
    "#no duplicated rows\n",
    "room[room.duplicated()]"
   ]
  },
  {
   "cell_type": "code",
   "execution_count": 55,
   "id": "3853ed9e-6605-4824-b735-8686221bbcae",
   "metadata": {},
   "outputs": [],
   "source": [
    "room.to_csv('./../Morgens_notebooks/HOTEL_3/Clean_data/room_hotel_3.csv')"
   ]
  },
  {
   "cell_type": "markdown",
   "id": "08ba3f9f-21c2-4b9d-92fb-4ba13dfdfb2b",
   "metadata": {},
   "source": [
    "#### 6 -   ROOM_OFFER\n",
    "\n",
    "- 104212 sor\n",
    "-  adattípusok OK\n",
    "-  room price min and max can be equal! \n",
    "- room price: EUR/HUF keveredik"
   ]
  },
  {
   "cell_type": "code",
   "execution_count": 57,
   "id": "50706a6f-4fa6-493f-b1e5-549d67e7b329",
   "metadata": {},
   "outputs": [],
   "source": [
    "room_offer = pd.read_csv('./../Morgens_notebooks/HOTEL_3/Original_data/search_log_room_offer_hotel_3.csv', sep=\";\")\n"
   ]
  },
  {
   "cell_type": "code",
   "execution_count": 58,
   "id": "7f4c4bde-3be7-4070-a9c0-f5f4c9e6988a",
   "metadata": {},
   "outputs": [
    {
     "data": {
      "text/html": [
       "<div>\n",
       "<style scoped>\n",
       "    .dataframe tbody tr th:only-of-type {\n",
       "        vertical-align: middle;\n",
       "    }\n",
       "\n",
       "    .dataframe tbody tr th {\n",
       "        vertical-align: top;\n",
       "    }\n",
       "\n",
       "    .dataframe thead th {\n",
       "        text-align: right;\n",
       "    }\n",
       "</style>\n",
       "<table border=\"1\" class=\"dataframe\">\n",
       "  <thead>\n",
       "    <tr style=\"text-align: right;\">\n",
       "      <th></th>\n",
       "      <th>id</th>\n",
       "      <th>search_log_id</th>\n",
       "      <th>search_log_room_id</th>\n",
       "      <th>room_code</th>\n",
       "      <th>room_price_min</th>\n",
       "      <th>room_price_max</th>\n",
       "    </tr>\n",
       "  </thead>\n",
       "  <tbody>\n",
       "    <tr>\n",
       "      <th>104209</th>\n",
       "      <td>168666</td>\n",
       "      <td>163179</td>\n",
       "      <td>41857</td>\n",
       "      <td>ROOMFF</td>\n",
       "      <td>197802.0</td>\n",
       "      <td>212918.0</td>\n",
       "    </tr>\n",
       "    <tr>\n",
       "      <th>104210</th>\n",
       "      <td>168667</td>\n",
       "      <td>163180</td>\n",
       "      <td>41858</td>\n",
       "      <td>ROOMGG</td>\n",
       "      <td>215490.0</td>\n",
       "      <td>215490.0</td>\n",
       "    </tr>\n",
       "    <tr>\n",
       "      <th>104211</th>\n",
       "      <td>168668</td>\n",
       "      <td>163180</td>\n",
       "      <td>41858</td>\n",
       "      <td>ROOMFF</td>\n",
       "      <td>245902.0</td>\n",
       "      <td>245902.0</td>\n",
       "    </tr>\n",
       "  </tbody>\n",
       "</table>\n",
       "</div>"
      ],
      "text/plain": [
       "            id  search_log_id  search_log_room_id room_code  room_price_min  \\\n",
       "104209  168666         163179               41857    ROOMFF        197802.0   \n",
       "104210  168667         163180               41858    ROOMGG        215490.0   \n",
       "104211  168668         163180               41858    ROOMFF        245902.0   \n",
       "\n",
       "        room_price_max  \n",
       "104209        212918.0  \n",
       "104210        215490.0  \n",
       "104211        245902.0  "
      ]
     },
     "execution_count": 58,
     "metadata": {},
     "output_type": "execute_result"
    }
   ],
   "source": [
    "room_offer.tail(3)"
   ]
  },
  {
   "cell_type": "code",
   "execution_count": 59,
   "id": "c538b2ac-439b-4def-b9d2-b985b9e5890d",
   "metadata": {},
   "outputs": [
    {
     "data": {
      "text/plain": [
       "104212"
      ]
     },
     "execution_count": 59,
     "metadata": {},
     "output_type": "execute_result"
    }
   ],
   "source": [
    "len(room_offer)"
   ]
  },
  {
   "cell_type": "code",
   "execution_count": 60,
   "id": "9ed7cfad-3117-448b-a984-5f8bbeeea63f",
   "metadata": {},
   "outputs": [
    {
     "data": {
      "text/plain": [
       "104212"
      ]
     },
     "execution_count": 60,
     "metadata": {},
     "output_type": "execute_result"
    }
   ],
   "source": [
    "len(room_offer['id'].unique())"
   ]
  },
  {
   "cell_type": "code",
   "execution_count": 61,
   "id": "80d6b35e-7293-4bc7-be5d-5cd96a6eded0",
   "metadata": {},
   "outputs": [
    {
     "data": {
      "text/plain": [
       "19273"
      ]
     },
     "execution_count": 61,
     "metadata": {},
     "output_type": "execute_result"
    }
   ],
   "source": [
    "len(room_offer['search_log_id'].unique())"
   ]
  },
  {
   "cell_type": "code",
   "execution_count": 62,
   "id": "76d7c9c0-5406-4781-8002-acc7684821eb",
   "metadata": {},
   "outputs": [
    {
     "data": {
      "text/plain": [
       "21223"
      ]
     },
     "execution_count": 62,
     "metadata": {},
     "output_type": "execute_result"
    }
   ],
   "source": [
    "len(room_offer['search_log_room_id'].unique())"
   ]
  },
  {
   "cell_type": "code",
   "execution_count": 63,
   "id": "687d3e2f-3e4d-41fc-8c96-fb6b9d8ee57a",
   "metadata": {},
   "outputs": [
    {
     "data": {
      "text/plain": [
       "id                    0\n",
       "search_log_id         0\n",
       "search_log_room_id    0\n",
       "room_code             0\n",
       "room_price_min        0\n",
       "room_price_max        0\n",
       "dtype: int64"
      ]
     },
     "execution_count": 63,
     "metadata": {},
     "output_type": "execute_result"
    }
   ],
   "source": [
    "room_offer.isna().sum()"
   ]
  },
  {
   "cell_type": "code",
   "execution_count": 64,
   "id": "1f505b75-1736-4a7d-a105-5a0f2318c6da",
   "metadata": {},
   "outputs": [
    {
     "data": {
      "text/html": [
       "<div>\n",
       "<style scoped>\n",
       "    .dataframe tbody tr th:only-of-type {\n",
       "        vertical-align: middle;\n",
       "    }\n",
       "\n",
       "    .dataframe tbody tr th {\n",
       "        vertical-align: top;\n",
       "    }\n",
       "\n",
       "    .dataframe thead th {\n",
       "        text-align: right;\n",
       "    }\n",
       "</style>\n",
       "<table border=\"1\" class=\"dataframe\">\n",
       "  <thead>\n",
       "    <tr style=\"text-align: right;\">\n",
       "      <th></th>\n",
       "      <th>id</th>\n",
       "      <th>search_log_id</th>\n",
       "      <th>search_log_room_id</th>\n",
       "      <th>room_code</th>\n",
       "      <th>room_price_min</th>\n",
       "      <th>room_price_max</th>\n",
       "    </tr>\n",
       "  </thead>\n",
       "  <tbody>\n",
       "  </tbody>\n",
       "</table>\n",
       "</div>"
      ],
      "text/plain": [
       "Empty DataFrame\n",
       "Columns: [id, search_log_id, search_log_room_id, room_code, room_price_min, room_price_max]\n",
       "Index: []"
      ]
     },
     "execution_count": 64,
     "metadata": {},
     "output_type": "execute_result"
    }
   ],
   "source": [
    "#no duplicated rows\n",
    "room_offer[room_offer.duplicated()]"
   ]
  },
  {
   "cell_type": "code",
   "execution_count": 65,
   "id": "07609fc0-1dcf-43ef-b88f-9a4374855676",
   "metadata": {},
   "outputs": [],
   "source": [
    "room_offer.to_csv('./../Morgens_notebooks/HOTEL_3/Clean_data/room_offer_hotel_3.csv')"
   ]
  },
  {
   "cell_type": "markdown",
   "id": "1a7091cc-3f55-4143-aac1-2bb64f0b2d06",
   "metadata": {},
   "source": [
    "#### 7 -  Session\n",
    "- 13048 sor\n",
    "- üres sorok a utm-es oszlopokban, amik nem fontosak a Morgens szerint"
   ]
  },
  {
   "cell_type": "code",
   "execution_count": 67,
   "id": "772e3cce-c5f3-4783-86c8-631e05cb9314",
   "metadata": {},
   "outputs": [],
   "source": [
    "session = pd.read_csv('./../Morgens_notebooks/HOTEL_3/Original_data/search_log_session_hotel_3.csv', sep=\";\",encoding='latin-1' )"
   ]
  },
  {
   "cell_type": "code",
   "execution_count": 68,
   "id": "0102be60-fde0-4801-a20b-729d92879697",
   "metadata": {},
   "outputs": [
    {
     "data": {
      "text/html": [
       "<div>\n",
       "<style scoped>\n",
       "    .dataframe tbody tr th:only-of-type {\n",
       "        vertical-align: middle;\n",
       "    }\n",
       "\n",
       "    .dataframe tbody tr th {\n",
       "        vertical-align: top;\n",
       "    }\n",
       "\n",
       "    .dataframe thead th {\n",
       "        text-align: right;\n",
       "    }\n",
       "</style>\n",
       "<table border=\"1\" class=\"dataframe\">\n",
       "  <thead>\n",
       "    <tr style=\"text-align: right;\">\n",
       "      <th></th>\n",
       "      <th>id</th>\n",
       "      <th>uuid</th>\n",
       "      <th>session_id</th>\n",
       "      <th>utm_source</th>\n",
       "      <th>utm_medium</th>\n",
       "      <th>utm_campaign</th>\n",
       "    </tr>\n",
       "  </thead>\n",
       "  <tbody>\n",
       "    <tr>\n",
       "      <th>0</th>\n",
       "      <td>4255</td>\n",
       "      <td>1534019404.1726608826</td>\n",
       "      <td>1726610240</td>\n",
       "      <td>NaN</td>\n",
       "      <td>NaN</td>\n",
       "      <td>(not set)</td>\n",
       "    </tr>\n",
       "    <tr>\n",
       "      <th>1</th>\n",
       "      <td>4257</td>\n",
       "      <td>1544215904.1725304369</td>\n",
       "      <td>1726613742</td>\n",
       "      <td>google</td>\n",
       "      <td>organic</td>\n",
       "      <td>(not set)</td>\n",
       "    </tr>\n",
       "    <tr>\n",
       "      <th>2</th>\n",
       "      <td>4258</td>\n",
       "      <td>2122792873.1726614284</td>\n",
       "      <td>1726614307</td>\n",
       "      <td>google</td>\n",
       "      <td>cpc</td>\n",
       "      <td>(not set)</td>\n",
       "    </tr>\n",
       "    <tr>\n",
       "      <th>3</th>\n",
       "      <td>4259</td>\n",
       "      <td>85389975.1726614091</td>\n",
       "      <td>1726614366</td>\n",
       "      <td>google</td>\n",
       "      <td>cpc</td>\n",
       "      <td>(not set)</td>\n",
       "    </tr>\n",
       "    <tr>\n",
       "      <th>4</th>\n",
       "      <td>4260</td>\n",
       "      <td>85389975.1726614091</td>\n",
       "      <td>1726618263</td>\n",
       "      <td>google</td>\n",
       "      <td>cpc</td>\n",
       "      <td>(not set)</td>\n",
       "    </tr>\n",
       "  </tbody>\n",
       "</table>\n",
       "</div>"
      ],
      "text/plain": [
       "     id                   uuid  session_id utm_source utm_medium utm_campaign\n",
       "0  4255  1534019404.1726608826  1726610240        NaN        NaN    (not set)\n",
       "1  4257  1544215904.1725304369  1726613742     google    organic    (not set)\n",
       "2  4258  2122792873.1726614284  1726614307     google        cpc    (not set)\n",
       "3  4259    85389975.1726614091  1726614366     google        cpc    (not set)\n",
       "4  4260    85389975.1726614091  1726618263     google        cpc    (not set)"
      ]
     },
     "execution_count": 68,
     "metadata": {},
     "output_type": "execute_result"
    }
   ],
   "source": [
    "session.head()"
   ]
  },
  {
   "cell_type": "code",
   "execution_count": 69,
   "id": "6cb0d0de-a560-47c9-8a4c-8417102ad1db",
   "metadata": {},
   "outputs": [
    {
     "data": {
      "text/plain": [
       "13048"
      ]
     },
     "execution_count": 69,
     "metadata": {},
     "output_type": "execute_result"
    }
   ],
   "source": [
    "len(session)"
   ]
  },
  {
   "cell_type": "code",
   "execution_count": 70,
   "id": "662e70f1-6718-49d2-aecb-f43682d1a452",
   "metadata": {},
   "outputs": [
    {
     "data": {
      "text/plain": [
       "id                0\n",
       "uuid              0\n",
       "session_id        0\n",
       "utm_source      633\n",
       "utm_medium      633\n",
       "utm_campaign     11\n",
       "dtype: int64"
      ]
     },
     "execution_count": 70,
     "metadata": {},
     "output_type": "execute_result"
    }
   ],
   "source": [
    "session.isna().sum()"
   ]
  },
  {
   "cell_type": "code",
   "execution_count": 71,
   "id": "56767159-88d1-4c40-92d8-7e91b9217a5f",
   "metadata": {},
   "outputs": [
    {
     "data": {
      "text/html": [
       "<div>\n",
       "<style scoped>\n",
       "    .dataframe tbody tr th:only-of-type {\n",
       "        vertical-align: middle;\n",
       "    }\n",
       "\n",
       "    .dataframe tbody tr th {\n",
       "        vertical-align: top;\n",
       "    }\n",
       "\n",
       "    .dataframe thead th {\n",
       "        text-align: right;\n",
       "    }\n",
       "</style>\n",
       "<table border=\"1\" class=\"dataframe\">\n",
       "  <thead>\n",
       "    <tr style=\"text-align: right;\">\n",
       "      <th></th>\n",
       "      <th>id</th>\n",
       "      <th>uuid</th>\n",
       "      <th>session_id</th>\n",
       "      <th>utm_medium</th>\n",
       "      <th>utm_campaign</th>\n",
       "    </tr>\n",
       "    <tr>\n",
       "      <th>utm_source</th>\n",
       "      <th></th>\n",
       "      <th></th>\n",
       "      <th></th>\n",
       "      <th></th>\n",
       "      <th></th>\n",
       "    </tr>\n",
       "  </thead>\n",
       "  <tbody>\n",
       "    <tr>\n",
       "      <th>(direct)</th>\n",
       "      <td>1693</td>\n",
       "      <td>1693</td>\n",
       "      <td>1693</td>\n",
       "      <td>1693</td>\n",
       "      <td>1693</td>\n",
       "    </tr>\n",
       "    <tr>\n",
       "      <th>ajanlat</th>\n",
       "      <td>42</td>\n",
       "      <td>42</td>\n",
       "      <td>42</td>\n",
       "      <td>42</td>\n",
       "      <td>42</td>\n",
       "    </tr>\n",
       "    <tr>\n",
       "      <th>app.optimonk.com</th>\n",
       "      <td>1</td>\n",
       "      <td>1</td>\n",
       "      <td>1</td>\n",
       "      <td>1</td>\n",
       "      <td>1</td>\n",
       "    </tr>\n",
       "    <tr>\n",
       "      <th>bing</th>\n",
       "      <td>231</td>\n",
       "      <td>231</td>\n",
       "      <td>231</td>\n",
       "      <td>231</td>\n",
       "      <td>231</td>\n",
       "    </tr>\n",
       "    <tr>\n",
       "      <th>duckduckgo.com</th>\n",
       "      <td>1</td>\n",
       "      <td>1</td>\n",
       "      <td>1</td>\n",
       "      <td>1</td>\n",
       "      <td>1</td>\n",
       "    </tr>\n",
       "    <tr>\n",
       "      <th>email</th>\n",
       "      <td>1</td>\n",
       "      <td>1</td>\n",
       "      <td>1</td>\n",
       "      <td>1</td>\n",
       "      <td>1</td>\n",
       "    </tr>\n",
       "    <tr>\n",
       "      <th>facebook</th>\n",
       "      <td>936</td>\n",
       "      <td>936</td>\n",
       "      <td>936</td>\n",
       "      <td>936</td>\n",
       "      <td>936</td>\n",
       "    </tr>\n",
       "    <tr>\n",
       "      <th>fb</th>\n",
       "      <td>1</td>\n",
       "      <td>1</td>\n",
       "      <td>1</td>\n",
       "      <td>1</td>\n",
       "      <td>1</td>\n",
       "    </tr>\n",
       "    <tr>\n",
       "      <th>gmail.hu</th>\n",
       "      <td>1</td>\n",
       "      <td>1</td>\n",
       "      <td>1</td>\n",
       "      <td>1</td>\n",
       "      <td>1</td>\n",
       "    </tr>\n",
       "    <tr>\n",
       "      <th>google</th>\n",
       "      <td>8888</td>\n",
       "      <td>8888</td>\n",
       "      <td>8888</td>\n",
       "      <td>8888</td>\n",
       "      <td>8877</td>\n",
       "    </tr>\n",
       "    <tr>\n",
       "      <th>hirlevel</th>\n",
       "      <td>1</td>\n",
       "      <td>1</td>\n",
       "      <td>1</td>\n",
       "      <td>1</td>\n",
       "      <td>1</td>\n",
       "    </tr>\n",
       "    <tr>\n",
       "      <th>hirlevel_s1</th>\n",
       "      <td>3</td>\n",
       "      <td>3</td>\n",
       "      <td>3</td>\n",
       "      <td>3</td>\n",
       "      <td>3</td>\n",
       "    </tr>\n",
       "    <tr>\n",
       "      <th>hirlevel_s2</th>\n",
       "      <td>158</td>\n",
       "      <td>158</td>\n",
       "      <td>158</td>\n",
       "      <td>158</td>\n",
       "      <td>158</td>\n",
       "    </tr>\n",
       "    <tr>\n",
       "      <th>hirlevel_s3</th>\n",
       "      <td>5</td>\n",
       "      <td>5</td>\n",
       "      <td>5</td>\n",
       "      <td>5</td>\n",
       "      <td>5</td>\n",
       "    </tr>\n",
       "    <tr>\n",
       "      <th>hirlevel_s4</th>\n",
       "      <td>1</td>\n",
       "      <td>1</td>\n",
       "      <td>1</td>\n",
       "      <td>1</td>\n",
       "      <td>1</td>\n",
       "    </tr>\n",
       "    <tr>\n",
       "      <th>hirlevel_s5</th>\n",
       "      <td>2</td>\n",
       "      <td>2</td>\n",
       "      <td>2</td>\n",
       "      <td>2</td>\n",
       "      <td>2</td>\n",
       "    </tr>\n",
       "    <tr>\n",
       "      <th>hotelcms.hu</th>\n",
       "      <td>4</td>\n",
       "      <td>4</td>\n",
       "      <td>4</td>\n",
       "      <td>4</td>\n",
       "      <td>4</td>\n",
       "    </tr>\n",
       "    <tr>\n",
       "      <th>ig</th>\n",
       "      <td>1</td>\n",
       "      <td>1</td>\n",
       "      <td>1</td>\n",
       "      <td>1</td>\n",
       "      <td>1</td>\n",
       "    </tr>\n",
       "    <tr>\n",
       "      <th>instagram</th>\n",
       "      <td>1</td>\n",
       "      <td>1</td>\n",
       "      <td>1</td>\n",
       "      <td>1</td>\n",
       "      <td>1</td>\n",
       "    </tr>\n",
       "    <tr>\n",
       "      <th>instagram.com</th>\n",
       "      <td>21</td>\n",
       "      <td>21</td>\n",
       "      <td>21</td>\n",
       "      <td>21</td>\n",
       "      <td>21</td>\n",
       "    </tr>\n",
       "    <tr>\n",
       "      <th>kereso.startlap.hu</th>\n",
       "      <td>6</td>\n",
       "      <td>6</td>\n",
       "      <td>6</td>\n",
       "      <td>6</td>\n",
       "      <td>6</td>\n",
       "    </tr>\n",
       "    <tr>\n",
       "      <th>l.facebook.com</th>\n",
       "      <td>99</td>\n",
       "      <td>99</td>\n",
       "      <td>99</td>\n",
       "      <td>99</td>\n",
       "      <td>99</td>\n",
       "    </tr>\n",
       "    <tr>\n",
       "      <th>l.instagram.com</th>\n",
       "      <td>29</td>\n",
       "      <td>29</td>\n",
       "      <td>29</td>\n",
       "      <td>29</td>\n",
       "      <td>29</td>\n",
       "    </tr>\n",
       "    <tr>\n",
       "      <th>live</th>\n",
       "      <td>68</td>\n",
       "      <td>68</td>\n",
       "      <td>68</td>\n",
       "      <td>68</td>\n",
       "      <td>68</td>\n",
       "    </tr>\n",
       "    <tr>\n",
       "      <th>lm.facebook.com</th>\n",
       "      <td>8</td>\n",
       "      <td>8</td>\n",
       "      <td>8</td>\n",
       "      <td>8</td>\n",
       "      <td>8</td>\n",
       "    </tr>\n",
       "    <tr>\n",
       "      <th>loyalty</th>\n",
       "      <td>3</td>\n",
       "      <td>3</td>\n",
       "      <td>3</td>\n",
       "      <td>3</td>\n",
       "      <td>3</td>\n",
       "    </tr>\n",
       "    <tr>\n",
       "      <th>m.facebook.com</th>\n",
       "      <td>69</td>\n",
       "      <td>69</td>\n",
       "      <td>69</td>\n",
       "      <td>69</td>\n",
       "      <td>69</td>\n",
       "    </tr>\n",
       "    <tr>\n",
       "      <th>ntp.msn.com</th>\n",
       "      <td>1</td>\n",
       "      <td>1</td>\n",
       "      <td>1</td>\n",
       "      <td>1</td>\n",
       "      <td>1</td>\n",
       "    </tr>\n",
       "    <tr>\n",
       "      <th>redir.d-edgeconnect.media</th>\n",
       "      <td>74</td>\n",
       "      <td>74</td>\n",
       "      <td>74</td>\n",
       "      <td>74</td>\n",
       "      <td>74</td>\n",
       "    </tr>\n",
       "    <tr>\n",
       "      <th>securepay.simplepay.hu</th>\n",
       "      <td>2</td>\n",
       "      <td>2</td>\n",
       "      <td>2</td>\n",
       "      <td>2</td>\n",
       "      <td>2</td>\n",
       "    </tr>\n",
       "    <tr>\n",
       "      <th>seznam</th>\n",
       "      <td>1</td>\n",
       "      <td>1</td>\n",
       "      <td>1</td>\n",
       "      <td>1</td>\n",
       "      <td>1</td>\n",
       "    </tr>\n",
       "    <tr>\n",
       "      <th>source_1</th>\n",
       "      <td>1</td>\n",
       "      <td>1</td>\n",
       "      <td>1</td>\n",
       "      <td>1</td>\n",
       "      <td>1</td>\n",
       "    </tr>\n",
       "    <tr>\n",
       "      <th>source_11</th>\n",
       "      <td>1</td>\n",
       "      <td>1</td>\n",
       "      <td>1</td>\n",
       "      <td>1</td>\n",
       "      <td>1</td>\n",
       "    </tr>\n",
       "    <tr>\n",
       "      <th>source_13</th>\n",
       "      <td>1</td>\n",
       "      <td>1</td>\n",
       "      <td>1</td>\n",
       "      <td>1</td>\n",
       "      <td>1</td>\n",
       "    </tr>\n",
       "    <tr>\n",
       "      <th>source_14</th>\n",
       "      <td>2</td>\n",
       "      <td>2</td>\n",
       "      <td>2</td>\n",
       "      <td>2</td>\n",
       "      <td>2</td>\n",
       "    </tr>\n",
       "    <tr>\n",
       "      <th>source_15</th>\n",
       "      <td>1</td>\n",
       "      <td>1</td>\n",
       "      <td>1</td>\n",
       "      <td>1</td>\n",
       "      <td>1</td>\n",
       "    </tr>\n",
       "    <tr>\n",
       "      <th>source_4</th>\n",
       "      <td>1</td>\n",
       "      <td>1</td>\n",
       "      <td>1</td>\n",
       "      <td>1</td>\n",
       "      <td>1</td>\n",
       "    </tr>\n",
       "    <tr>\n",
       "      <th>source_5</th>\n",
       "      <td>14</td>\n",
       "      <td>14</td>\n",
       "      <td>14</td>\n",
       "      <td>14</td>\n",
       "      <td>14</td>\n",
       "    </tr>\n",
       "    <tr>\n",
       "      <th>source_6</th>\n",
       "      <td>4</td>\n",
       "      <td>4</td>\n",
       "      <td>4</td>\n",
       "      <td>4</td>\n",
       "      <td>4</td>\n",
       "    </tr>\n",
       "    <tr>\n",
       "      <th>source_8</th>\n",
       "      <td>2</td>\n",
       "      <td>2</td>\n",
       "      <td>2</td>\n",
       "      <td>2</td>\n",
       "      <td>2</td>\n",
       "    </tr>\n",
       "    <tr>\n",
       "      <th>source_9</th>\n",
       "      <td>1</td>\n",
       "      <td>1</td>\n",
       "      <td>1</td>\n",
       "      <td>1</td>\n",
       "      <td>1</td>\n",
       "    </tr>\n",
       "    <tr>\n",
       "      <th>teszt22</th>\n",
       "      <td>1</td>\n",
       "      <td>1</td>\n",
       "      <td>1</td>\n",
       "      <td>1</td>\n",
       "      <td>1</td>\n",
       "    </tr>\n",
       "    <tr>\n",
       "      <th>webmail.telekom.hu</th>\n",
       "      <td>3</td>\n",
       "      <td>3</td>\n",
       "      <td>3</td>\n",
       "      <td>3</td>\n",
       "      <td>3</td>\n",
       "    </tr>\n",
       "    <tr>\n",
       "      <th>www.connexservice.com</th>\n",
       "      <td>2</td>\n",
       "      <td>2</td>\n",
       "      <td>2</td>\n",
       "      <td>2</td>\n",
       "      <td>2</td>\n",
       "    </tr>\n",
       "    <tr>\n",
       "      <th>www.ecosia.org</th>\n",
       "      <td>1</td>\n",
       "      <td>1</td>\n",
       "      <td>1</td>\n",
       "      <td>1</td>\n",
       "      <td>1</td>\n",
       "    </tr>\n",
       "    <tr>\n",
       "      <th>www.glamour.hu</th>\n",
       "      <td>2</td>\n",
       "      <td>2</td>\n",
       "      <td>2</td>\n",
       "      <td>2</td>\n",
       "      <td>2</td>\n",
       "    </tr>\n",
       "    <tr>\n",
       "      <th>www.kapu.hu</th>\n",
       "      <td>3</td>\n",
       "      <td>3</td>\n",
       "      <td>3</td>\n",
       "      <td>3</td>\n",
       "      <td>3</td>\n",
       "    </tr>\n",
       "    <tr>\n",
       "      <th>www.otpbankdirekt.hu</th>\n",
       "      <td>1</td>\n",
       "      <td>1</td>\n",
       "      <td>1</td>\n",
       "      <td>1</td>\n",
       "      <td>1</td>\n",
       "    </tr>\n",
       "    <tr>\n",
       "      <th>www.qwant.com</th>\n",
       "      <td>1</td>\n",
       "      <td>1</td>\n",
       "      <td>1</td>\n",
       "      <td>1</td>\n",
       "      <td>1</td>\n",
       "    </tr>\n",
       "    <tr>\n",
       "      <th>www.saferpay.com</th>\n",
       "      <td>7</td>\n",
       "      <td>7</td>\n",
       "      <td>7</td>\n",
       "      <td>7</td>\n",
       "      <td>7</td>\n",
       "    </tr>\n",
       "    <tr>\n",
       "      <th>www.thermenhotels.at</th>\n",
       "      <td>1</td>\n",
       "      <td>1</td>\n",
       "      <td>1</td>\n",
       "      <td>1</td>\n",
       "      <td>1</td>\n",
       "    </tr>\n",
       "    <tr>\n",
       "      <th>www.wellcard.at</th>\n",
       "      <td>7</td>\n",
       "      <td>7</td>\n",
       "      <td>7</td>\n",
       "      <td>7</td>\n",
       "      <td>7</td>\n",
       "    </tr>\n",
       "    <tr>\n",
       "      <th>www.youtube.com</th>\n",
       "      <td>3</td>\n",
       "      <td>3</td>\n",
       "      <td>3</td>\n",
       "      <td>3</td>\n",
       "      <td>3</td>\n",
       "    </tr>\n",
       "    <tr>\n",
       "      <th>yahoo</th>\n",
       "      <td>2</td>\n",
       "      <td>2</td>\n",
       "      <td>2</td>\n",
       "      <td>2</td>\n",
       "      <td>2</td>\n",
       "    </tr>\n",
       "    <tr>\n",
       "      <th>zadir.hu</th>\n",
       "      <td>1</td>\n",
       "      <td>1</td>\n",
       "      <td>1</td>\n",
       "      <td>1</td>\n",
       "      <td>1</td>\n",
       "    </tr>\n",
       "  </tbody>\n",
       "</table>\n",
       "</div>"
      ],
      "text/plain": [
       "                             id  uuid  session_id  utm_medium  utm_campaign\n",
       "utm_source                                                                 \n",
       "(direct)                   1693  1693        1693        1693          1693\n",
       "ajanlat                      42    42          42          42            42\n",
       "app.optimonk.com              1     1           1           1             1\n",
       "bing                        231   231         231         231           231\n",
       "duckduckgo.com                1     1           1           1             1\n",
       "email                         1     1           1           1             1\n",
       "facebook                    936   936         936         936           936\n",
       "fb                            1     1           1           1             1\n",
       "gmail.hu                      1     1           1           1             1\n",
       "google                     8888  8888        8888        8888          8877\n",
       "hirlevel                      1     1           1           1             1\n",
       "hirlevel_s1                   3     3           3           3             3\n",
       "hirlevel_s2                 158   158         158         158           158\n",
       "hirlevel_s3                   5     5           5           5             5\n",
       "hirlevel_s4                   1     1           1           1             1\n",
       "hirlevel_s5                   2     2           2           2             2\n",
       "hotelcms.hu                   4     4           4           4             4\n",
       "ig                            1     1           1           1             1\n",
       "instagram                     1     1           1           1             1\n",
       "instagram.com                21    21          21          21            21\n",
       "kereso.startlap.hu            6     6           6           6             6\n",
       "l.facebook.com               99    99          99          99            99\n",
       "l.instagram.com              29    29          29          29            29\n",
       "live                         68    68          68          68            68\n",
       "lm.facebook.com               8     8           8           8             8\n",
       "loyalty                       3     3           3           3             3\n",
       "m.facebook.com               69    69          69          69            69\n",
       "ntp.msn.com                   1     1           1           1             1\n",
       "redir.d-edgeconnect.media    74    74          74          74            74\n",
       "securepay.simplepay.hu        2     2           2           2             2\n",
       "seznam                        1     1           1           1             1\n",
       "source_1                      1     1           1           1             1\n",
       "source_11                     1     1           1           1             1\n",
       "source_13                     1     1           1           1             1\n",
       "source_14                     2     2           2           2             2\n",
       "source_15                     1     1           1           1             1\n",
       "source_4                      1     1           1           1             1\n",
       "source_5                     14    14          14          14            14\n",
       "source_6                      4     4           4           4             4\n",
       "source_8                      2     2           2           2             2\n",
       "source_9                      1     1           1           1             1\n",
       "teszt22                       1     1           1           1             1\n",
       "webmail.telekom.hu            3     3           3           3             3\n",
       "www.connexservice.com         2     2           2           2             2\n",
       "www.ecosia.org                1     1           1           1             1\n",
       "www.glamour.hu                2     2           2           2             2\n",
       "www.kapu.hu                   3     3           3           3             3\n",
       "www.otpbankdirekt.hu          1     1           1           1             1\n",
       "www.qwant.com                 1     1           1           1             1\n",
       "www.saferpay.com              7     7           7           7             7\n",
       "www.thermenhotels.at          1     1           1           1             1\n",
       "www.wellcard.at               7     7           7           7             7\n",
       "www.youtube.com               3     3           3           3             3\n",
       "yahoo                         2     2           2           2             2\n",
       "zadir.hu                      1     1           1           1             1"
      ]
     },
     "execution_count": 71,
     "metadata": {},
     "output_type": "execute_result"
    }
   ],
   "source": [
    "session.groupby('utm_source').count()"
   ]
  },
  {
   "cell_type": "code",
   "execution_count": 72,
   "id": "8c36beb3-c75d-44ff-b0af-df4408b2dad6",
   "metadata": {},
   "outputs": [
    {
     "data": {
      "text/html": [
       "<div>\n",
       "<style scoped>\n",
       "    .dataframe tbody tr th:only-of-type {\n",
       "        vertical-align: middle;\n",
       "    }\n",
       "\n",
       "    .dataframe tbody tr th {\n",
       "        vertical-align: top;\n",
       "    }\n",
       "\n",
       "    .dataframe thead th {\n",
       "        text-align: right;\n",
       "    }\n",
       "</style>\n",
       "<table border=\"1\" class=\"dataframe\">\n",
       "  <thead>\n",
       "    <tr style=\"text-align: right;\">\n",
       "      <th></th>\n",
       "      <th>id</th>\n",
       "      <th>uuid</th>\n",
       "      <th>session_id</th>\n",
       "      <th>utm_source</th>\n",
       "      <th>utm_campaign</th>\n",
       "    </tr>\n",
       "    <tr>\n",
       "      <th>utm_medium</th>\n",
       "      <th></th>\n",
       "      <th></th>\n",
       "      <th></th>\n",
       "      <th></th>\n",
       "      <th></th>\n",
       "    </tr>\n",
       "  </thead>\n",
       "  <tbody>\n",
       "    <tr>\n",
       "      <th>(none)</th>\n",
       "      <td>1693</td>\n",
       "      <td>1693</td>\n",
       "      <td>1693</td>\n",
       "      <td>1693</td>\n",
       "      <td>1693</td>\n",
       "    </tr>\n",
       "    <tr>\n",
       "      <th>cpc</th>\n",
       "      <td>8423</td>\n",
       "      <td>8423</td>\n",
       "      <td>8423</td>\n",
       "      <td>8423</td>\n",
       "      <td>8412</td>\n",
       "    </tr>\n",
       "    <tr>\n",
       "      <th>ct</th>\n",
       "      <td>170</td>\n",
       "      <td>170</td>\n",
       "      <td>170</td>\n",
       "      <td>170</td>\n",
       "      <td>170</td>\n",
       "    </tr>\n",
       "    <tr>\n",
       "      <th>email</th>\n",
       "      <td>22</td>\n",
       "      <td>22</td>\n",
       "      <td>22</td>\n",
       "      <td>22</td>\n",
       "      <td>22</td>\n",
       "    </tr>\n",
       "    <tr>\n",
       "      <th>offline</th>\n",
       "      <td>24</td>\n",
       "      <td>24</td>\n",
       "      <td>24</td>\n",
       "      <td>24</td>\n",
       "      <td>24</td>\n",
       "    </tr>\n",
       "    <tr>\n",
       "      <th>organic</th>\n",
       "      <td>1704</td>\n",
       "      <td>1704</td>\n",
       "      <td>1704</td>\n",
       "      <td>1704</td>\n",
       "      <td>1704</td>\n",
       "    </tr>\n",
       "    <tr>\n",
       "      <th>paid</th>\n",
       "      <td>2</td>\n",
       "      <td>2</td>\n",
       "      <td>2</td>\n",
       "      <td>2</td>\n",
       "      <td>2</td>\n",
       "    </tr>\n",
       "    <tr>\n",
       "      <th>referral</th>\n",
       "      <td>376</td>\n",
       "      <td>376</td>\n",
       "      <td>376</td>\n",
       "      <td>376</td>\n",
       "      <td>376</td>\n",
       "    </tr>\n",
       "    <tr>\n",
       "      <th>teszt</th>\n",
       "      <td>1</td>\n",
       "      <td>1</td>\n",
       "      <td>1</td>\n",
       "      <td>1</td>\n",
       "      <td>1</td>\n",
       "    </tr>\n",
       "  </tbody>\n",
       "</table>\n",
       "</div>"
      ],
      "text/plain": [
       "              id  uuid  session_id  utm_source  utm_campaign\n",
       "utm_medium                                                  \n",
       "(none)      1693  1693        1693        1693          1693\n",
       "cpc         8423  8423        8423        8423          8412\n",
       "ct           170   170         170         170           170\n",
       "email         22    22          22          22            22\n",
       "offline       24    24          24          24            24\n",
       "organic     1704  1704        1704        1704          1704\n",
       "paid           2     2           2           2             2\n",
       "referral     376   376         376         376           376\n",
       "teszt          1     1           1           1             1"
      ]
     },
     "execution_count": 72,
     "metadata": {},
     "output_type": "execute_result"
    }
   ],
   "source": [
    "session.groupby('utm_medium').count()"
   ]
  },
  {
   "cell_type": "code",
   "execution_count": 73,
   "id": "38a83844-fdce-45f6-9858-740d439ba12d",
   "metadata": {},
   "outputs": [
    {
     "data": {
      "text/html": [
       "<div>\n",
       "<style scoped>\n",
       "    .dataframe tbody tr th:only-of-type {\n",
       "        vertical-align: middle;\n",
       "    }\n",
       "\n",
       "    .dataframe tbody tr th {\n",
       "        vertical-align: top;\n",
       "    }\n",
       "\n",
       "    .dataframe thead th {\n",
       "        text-align: right;\n",
       "    }\n",
       "</style>\n",
       "<table border=\"1\" class=\"dataframe\">\n",
       "  <thead>\n",
       "    <tr style=\"text-align: right;\">\n",
       "      <th></th>\n",
       "      <th>id</th>\n",
       "      <th>uuid</th>\n",
       "      <th>session_id</th>\n",
       "      <th>utm_source</th>\n",
       "      <th>utm_medium</th>\n",
       "    </tr>\n",
       "    <tr>\n",
       "      <th>utm_campaign</th>\n",
       "      <th></th>\n",
       "      <th></th>\n",
       "      <th></th>\n",
       "      <th></th>\n",
       "      <th></th>\n",
       "    </tr>\n",
       "  </thead>\n",
       "  <tbody>\n",
       "    <tr>\n",
       "      <th>(not set)</th>\n",
       "      <td>11575</td>\n",
       "      <td>11575</td>\n",
       "      <td>11575</td>\n",
       "      <td>10942</td>\n",
       "      <td>10942</td>\n",
       "    </tr>\n",
       "    <tr>\n",
       "      <th>(not+set)</th>\n",
       "      <td>19</td>\n",
       "      <td>19</td>\n",
       "      <td>19</td>\n",
       "      <td>19</td>\n",
       "      <td>19</td>\n",
       "    </tr>\n",
       "    <tr>\n",
       "      <th>AT</th>\n",
       "      <td>10</td>\n",
       "      <td>10</td>\n",
       "      <td>10</td>\n",
       "      <td>10</td>\n",
       "      <td>10</td>\n",
       "    </tr>\n",
       "    <tr>\n",
       "      <th>DE</th>\n",
       "      <td>1</td>\n",
       "      <td>1</td>\n",
       "      <td>1</td>\n",
       "      <td>1</td>\n",
       "      <td>1</td>\n",
       "    </tr>\n",
       "    <tr>\n",
       "      <th>HU</th>\n",
       "      <td>59</td>\n",
       "      <td>59</td>\n",
       "      <td>59</td>\n",
       "      <td>59</td>\n",
       "      <td>59</td>\n",
       "    </tr>\n",
       "    <tr>\n",
       "      <th>HU I PERF I Display I Fagus lombhullás</th>\n",
       "      <td>2</td>\n",
       "      <td>2</td>\n",
       "      <td>2</td>\n",
       "      <td>2</td>\n",
       "      <td>2</td>\n",
       "    </tr>\n",
       "    <tr>\n",
       "      <th>campaign_1</th>\n",
       "      <td>936</td>\n",
       "      <td>936</td>\n",
       "      <td>936</td>\n",
       "      <td>936</td>\n",
       "      <td>936</td>\n",
       "    </tr>\n",
       "    <tr>\n",
       "      <th>campaign_10</th>\n",
       "      <td>22</td>\n",
       "      <td>22</td>\n",
       "      <td>22</td>\n",
       "      <td>22</td>\n",
       "      <td>22</td>\n",
       "    </tr>\n",
       "    <tr>\n",
       "      <th>campaign_11</th>\n",
       "      <td>3</td>\n",
       "      <td>3</td>\n",
       "      <td>3</td>\n",
       "      <td>3</td>\n",
       "      <td>3</td>\n",
       "    </tr>\n",
       "    <tr>\n",
       "      <th>campaign_12</th>\n",
       "      <td>1</td>\n",
       "      <td>1</td>\n",
       "      <td>1</td>\n",
       "      <td>1</td>\n",
       "      <td>1</td>\n",
       "    </tr>\n",
       "    <tr>\n",
       "      <th>campaign_14</th>\n",
       "      <td>6</td>\n",
       "      <td>6</td>\n",
       "      <td>6</td>\n",
       "      <td>6</td>\n",
       "      <td>6</td>\n",
       "    </tr>\n",
       "    <tr>\n",
       "      <th>campaign_15</th>\n",
       "      <td>19</td>\n",
       "      <td>19</td>\n",
       "      <td>19</td>\n",
       "      <td>19</td>\n",
       "      <td>19</td>\n",
       "    </tr>\n",
       "    <tr>\n",
       "      <th>campaign_16</th>\n",
       "      <td>1</td>\n",
       "      <td>1</td>\n",
       "      <td>1</td>\n",
       "      <td>1</td>\n",
       "      <td>1</td>\n",
       "    </tr>\n",
       "    <tr>\n",
       "      <th>campaign_2</th>\n",
       "      <td>72</td>\n",
       "      <td>72</td>\n",
       "      <td>72</td>\n",
       "      <td>72</td>\n",
       "      <td>72</td>\n",
       "    </tr>\n",
       "    <tr>\n",
       "      <th>campaign_4</th>\n",
       "      <td>4</td>\n",
       "      <td>4</td>\n",
       "      <td>4</td>\n",
       "      <td>4</td>\n",
       "      <td>4</td>\n",
       "    </tr>\n",
       "    <tr>\n",
       "      <th>campaign_5</th>\n",
       "      <td>7</td>\n",
       "      <td>7</td>\n",
       "      <td>7</td>\n",
       "      <td>7</td>\n",
       "      <td>7</td>\n",
       "    </tr>\n",
       "    <tr>\n",
       "      <th>campaign_6</th>\n",
       "      <td>4</td>\n",
       "      <td>4</td>\n",
       "      <td>4</td>\n",
       "      <td>4</td>\n",
       "      <td>4</td>\n",
       "    </tr>\n",
       "    <tr>\n",
       "      <th>campaign_7</th>\n",
       "      <td>1</td>\n",
       "      <td>1</td>\n",
       "      <td>1</td>\n",
       "      <td>1</td>\n",
       "      <td>1</td>\n",
       "    </tr>\n",
       "    <tr>\n",
       "      <th>campaign_8</th>\n",
       "      <td>6</td>\n",
       "      <td>6</td>\n",
       "      <td>6</td>\n",
       "      <td>6</td>\n",
       "      <td>6</td>\n",
       "    </tr>\n",
       "    <tr>\n",
       "      <th>feliratkozas_hu</th>\n",
       "      <td>1</td>\n",
       "      <td>1</td>\n",
       "      <td>1</td>\n",
       "      <td>1</td>\n",
       "      <td>1</td>\n",
       "    </tr>\n",
       "    <tr>\n",
       "      <th>hirlevel_c1</th>\n",
       "      <td>3</td>\n",
       "      <td>3</td>\n",
       "      <td>3</td>\n",
       "      <td>3</td>\n",
       "      <td>3</td>\n",
       "    </tr>\n",
       "    <tr>\n",
       "      <th>hirlevel_c2</th>\n",
       "      <td>5</td>\n",
       "      <td>5</td>\n",
       "      <td>5</td>\n",
       "      <td>5</td>\n",
       "      <td>5</td>\n",
       "    </tr>\n",
       "    <tr>\n",
       "      <th>hirlevel_c3</th>\n",
       "      <td>1</td>\n",
       "      <td>1</td>\n",
       "      <td>1</td>\n",
       "      <td>1</td>\n",
       "      <td>1</td>\n",
       "    </tr>\n",
       "    <tr>\n",
       "      <th>hirlevel_c4</th>\n",
       "      <td>2</td>\n",
       "      <td>2</td>\n",
       "      <td>2</td>\n",
       "      <td>2</td>\n",
       "      <td>2</td>\n",
       "    </tr>\n",
       "    <tr>\n",
       "      <th>hirlevel_c5</th>\n",
       "      <td>12</td>\n",
       "      <td>12</td>\n",
       "      <td>12</td>\n",
       "      <td>12</td>\n",
       "      <td>12</td>\n",
       "    </tr>\n",
       "    <tr>\n",
       "      <th>hirlevel_c6</th>\n",
       "      <td>138</td>\n",
       "      <td>138</td>\n",
       "      <td>138</td>\n",
       "      <td>138</td>\n",
       "      <td>138</td>\n",
       "    </tr>\n",
       "    <tr>\n",
       "      <th>hu_brand</th>\n",
       "      <td>91</td>\n",
       "      <td>91</td>\n",
       "      <td>91</td>\n",
       "      <td>91</td>\n",
       "      <td>91</td>\n",
       "    </tr>\n",
       "    <tr>\n",
       "      <th>hu_pmax_brand</th>\n",
       "      <td>30</td>\n",
       "      <td>30</td>\n",
       "      <td>30</td>\n",
       "      <td>30</td>\n",
       "      <td>30</td>\n",
       "    </tr>\n",
       "    <tr>\n",
       "      <th>loyalty-email</th>\n",
       "      <td>3</td>\n",
       "      <td>3</td>\n",
       "      <td>3</td>\n",
       "      <td>3</td>\n",
       "      <td>3</td>\n",
       "    </tr>\n",
       "    <tr>\n",
       "      <th>proposal-by-phone</th>\n",
       "      <td>2</td>\n",
       "      <td>2</td>\n",
       "      <td>2</td>\n",
       "      <td>2</td>\n",
       "      <td>2</td>\n",
       "    </tr>\n",
       "    <tr>\n",
       "      <th>teszt</th>\n",
       "      <td>1</td>\n",
       "      <td>1</td>\n",
       "      <td>1</td>\n",
       "      <td>1</td>\n",
       "      <td>1</td>\n",
       "    </tr>\n",
       "  </tbody>\n",
       "</table>\n",
       "</div>"
      ],
      "text/plain": [
       "                                           id   uuid  session_id  utm_source  \\\n",
       "utm_campaign                                                                   \n",
       "(not set)                               11575  11575       11575       10942   \n",
       "(not+set)                                  19     19          19          19   \n",
       "AT                                         10     10          10          10   \n",
       "DE                                          1      1           1           1   \n",
       "HU                                         59     59          59          59   \n",
       "HU I PERF I Display I Fagus lombhullás      2      2           2           2   \n",
       "campaign_1                                936    936         936         936   \n",
       "campaign_10                                22     22          22          22   \n",
       "campaign_11                                 3      3           3           3   \n",
       "campaign_12                                 1      1           1           1   \n",
       "campaign_14                                 6      6           6           6   \n",
       "campaign_15                                19     19          19          19   \n",
       "campaign_16                                 1      1           1           1   \n",
       "campaign_2                                 72     72          72          72   \n",
       "campaign_4                                  4      4           4           4   \n",
       "campaign_5                                  7      7           7           7   \n",
       "campaign_6                                  4      4           4           4   \n",
       "campaign_7                                  1      1           1           1   \n",
       "campaign_8                                  6      6           6           6   \n",
       "feliratkozas_hu                             1      1           1           1   \n",
       "hirlevel_c1                                 3      3           3           3   \n",
       "hirlevel_c2                                 5      5           5           5   \n",
       "hirlevel_c3                                 1      1           1           1   \n",
       "hirlevel_c4                                 2      2           2           2   \n",
       "hirlevel_c5                                12     12          12          12   \n",
       "hirlevel_c6                               138    138         138         138   \n",
       "hu_brand                                   91     91          91          91   \n",
       "hu_pmax_brand                              30     30          30          30   \n",
       "loyalty-email                               3      3           3           3   \n",
       "proposal-by-phone                           2      2           2           2   \n",
       "teszt                                       1      1           1           1   \n",
       "\n",
       "                                        utm_medium  \n",
       "utm_campaign                                        \n",
       "(not set)                                    10942  \n",
       "(not+set)                                       19  \n",
       "AT                                              10  \n",
       "DE                                               1  \n",
       "HU                                              59  \n",
       "HU I PERF I Display I Fagus lombhullás           2  \n",
       "campaign_1                                     936  \n",
       "campaign_10                                     22  \n",
       "campaign_11                                      3  \n",
       "campaign_12                                      1  \n",
       "campaign_14                                      6  \n",
       "campaign_15                                     19  \n",
       "campaign_16                                      1  \n",
       "campaign_2                                      72  \n",
       "campaign_4                                       4  \n",
       "campaign_5                                       7  \n",
       "campaign_6                                       4  \n",
       "campaign_7                                       1  \n",
       "campaign_8                                       6  \n",
       "feliratkozas_hu                                  1  \n",
       "hirlevel_c1                                      3  \n",
       "hirlevel_c2                                      5  \n",
       "hirlevel_c3                                      1  \n",
       "hirlevel_c4                                      2  \n",
       "hirlevel_c5                                     12  \n",
       "hirlevel_c6                                    138  \n",
       "hu_brand                                        91  \n",
       "hu_pmax_brand                                   30  \n",
       "loyalty-email                                    3  \n",
       "proposal-by-phone                                2  \n",
       "teszt                                            1  "
      ]
     },
     "execution_count": 73,
     "metadata": {},
     "output_type": "execute_result"
    }
   ],
   "source": [
    "session.groupby('utm_campaign').count()"
   ]
  },
  {
   "cell_type": "code",
   "execution_count": 74,
   "id": "43598f59-49d6-4ca0-9922-041e66b9a4e2",
   "metadata": {},
   "outputs": [
    {
     "data": {
      "text/html": [
       "<div>\n",
       "<style scoped>\n",
       "    .dataframe tbody tr th:only-of-type {\n",
       "        vertical-align: middle;\n",
       "    }\n",
       "\n",
       "    .dataframe tbody tr th {\n",
       "        vertical-align: top;\n",
       "    }\n",
       "\n",
       "    .dataframe thead th {\n",
       "        text-align: right;\n",
       "    }\n",
       "</style>\n",
       "<table border=\"1\" class=\"dataframe\">\n",
       "  <thead>\n",
       "    <tr style=\"text-align: right;\">\n",
       "      <th></th>\n",
       "      <th>id</th>\n",
       "      <th>uuid</th>\n",
       "      <th>session_id</th>\n",
       "      <th>utm_source</th>\n",
       "      <th>utm_medium</th>\n",
       "      <th>utm_campaign</th>\n",
       "    </tr>\n",
       "  </thead>\n",
       "  <tbody>\n",
       "  </tbody>\n",
       "</table>\n",
       "</div>"
      ],
      "text/plain": [
       "Empty DataFrame\n",
       "Columns: [id, uuid, session_id, utm_source, utm_medium, utm_campaign]\n",
       "Index: []"
      ]
     },
     "execution_count": 74,
     "metadata": {},
     "output_type": "execute_result"
    }
   ],
   "source": [
    "#no duplicated rows\n",
    "session[session.duplicated()]"
   ]
  },
  {
   "cell_type": "code",
   "execution_count": 75,
   "id": "ee730d0f-7963-4459-98ce-a33e27821654",
   "metadata": {},
   "outputs": [],
   "source": [
    "session.to_csv('./../Morgens_notebooks/HOTEL_3/Clean_data/session_hotel_3.csv')"
   ]
  },
  {
   "cell_type": "markdown",
   "id": "fc1f311d-ec2b-4a0c-9224-2658f3ca672c",
   "metadata": {},
   "source": [
    "#### 8 -  DAILY_USERS\n",
    "- 1661 sor\n",
    "- date oszlop: adattípus változtatás\n",
    "- beolvasásnál: hibaüzenet, megoldás: encoding='latin-1'\n",
    "- van dupla sor, egyszer"
   ]
  },
  {
   "cell_type": "code",
   "execution_count": 77,
   "id": "ea580b71-9f71-48ef-ac10-ac18ca47e89b",
   "metadata": {},
   "outputs": [],
   "source": [
    "daily_users = pd.read_csv('./../Morgens_notebooks/HOTEL_3/Original_data/website_daily_users_hotel_3.csv', sep=\";\", encoding='latin-1')"
   ]
  },
  {
   "cell_type": "code",
   "execution_count": 78,
   "id": "4172bdc2-99d0-47fd-a981-989c82c061bc",
   "metadata": {},
   "outputs": [
    {
     "data": {
      "text/plain": [
       "1661"
      ]
     },
     "execution_count": 78,
     "metadata": {},
     "output_type": "execute_result"
    }
   ],
   "source": [
    "len(daily_users)"
   ]
  },
  {
   "cell_type": "code",
   "execution_count": 79,
   "id": "e7573820-20b1-43e2-859a-eb501b8637c5",
   "metadata": {},
   "outputs": [
    {
     "data": {
      "text/html": [
       "<div>\n",
       "<style scoped>\n",
       "    .dataframe tbody tr th:only-of-type {\n",
       "        vertical-align: middle;\n",
       "    }\n",
       "\n",
       "    .dataframe tbody tr th {\n",
       "        vertical-align: top;\n",
       "    }\n",
       "\n",
       "    .dataframe thead th {\n",
       "        text-align: right;\n",
       "    }\n",
       "</style>\n",
       "<table border=\"1\" class=\"dataframe\">\n",
       "  <thead>\n",
       "    <tr style=\"text-align: right;\">\n",
       "      <th></th>\n",
       "      <th>date</th>\n",
       "      <th>utm_source_and_medium</th>\n",
       "      <th>utm_campaign</th>\n",
       "      <th>user_count</th>\n",
       "      <th>session_count</th>\n",
       "    </tr>\n",
       "  </thead>\n",
       "  <tbody>\n",
       "    <tr>\n",
       "      <th>0</th>\n",
       "      <td>2024-09-18</td>\n",
       "      <td>(not set)</td>\n",
       "      <td>(not set)</td>\n",
       "      <td>516</td>\n",
       "      <td>676</td>\n",
       "    </tr>\n",
       "    <tr>\n",
       "      <th>1</th>\n",
       "      <td>2024-09-18</td>\n",
       "      <td>(direct) / (none)</td>\n",
       "      <td>(direct)</td>\n",
       "      <td>227</td>\n",
       "      <td>260</td>\n",
       "    </tr>\n",
       "    <tr>\n",
       "      <th>2</th>\n",
       "      <td>2024-09-18</td>\n",
       "      <td>google / cpc</td>\n",
       "      <td>(organic)</td>\n",
       "      <td>221</td>\n",
       "      <td>246</td>\n",
       "    </tr>\n",
       "    <tr>\n",
       "      <th>3</th>\n",
       "      <td>2024-09-18</td>\n",
       "      <td>google / cpc</td>\n",
       "      <td>HU | pMAX | PERF I Brand</td>\n",
       "      <td>172</td>\n",
       "      <td>187</td>\n",
       "    </tr>\n",
       "    <tr>\n",
       "      <th>4</th>\n",
       "      <td>2024-09-18</td>\n",
       "      <td>google / organic</td>\n",
       "      <td>(organic)</td>\n",
       "      <td>153</td>\n",
       "      <td>180</td>\n",
       "    </tr>\n",
       "    <tr>\n",
       "      <th>5</th>\n",
       "      <td>2024-09-18</td>\n",
       "      <td>google / cpc</td>\n",
       "      <td>HU | GSN | PERF I Brand</td>\n",
       "      <td>130</td>\n",
       "      <td>161</td>\n",
       "    </tr>\n",
       "    <tr>\n",
       "      <th>6</th>\n",
       "      <td>2024-09-18</td>\n",
       "      <td>google / cpc</td>\n",
       "      <td>(not set)</td>\n",
       "      <td>92</td>\n",
       "      <td>105</td>\n",
       "    </tr>\n",
       "    <tr>\n",
       "      <th>7</th>\n",
       "      <td>2024-09-18</td>\n",
       "      <td>facebook / cpc</td>\n",
       "      <td>campaign_19</td>\n",
       "      <td>79</td>\n",
       "      <td>83</td>\n",
       "    </tr>\n",
       "    <tr>\n",
       "      <th>8</th>\n",
       "      <td>2024-09-18</td>\n",
       "      <td>facebook / cpc</td>\n",
       "      <td>campaign_20</td>\n",
       "      <td>51</td>\n",
       "      <td>52</td>\n",
       "    </tr>\n",
       "    <tr>\n",
       "      <th>9</th>\n",
       "      <td>2024-09-18</td>\n",
       "      <td>facebook / cpc</td>\n",
       "      <td>campaign_21</td>\n",
       "      <td>35</td>\n",
       "      <td>38</td>\n",
       "    </tr>\n",
       "    <tr>\n",
       "      <th>10</th>\n",
       "      <td>2024-09-18</td>\n",
       "      <td>google / cpc</td>\n",
       "      <td>campaign_22</td>\n",
       "      <td>27</td>\n",
       "      <td>31</td>\n",
       "    </tr>\n",
       "    <tr>\n",
       "      <th>11</th>\n",
       "      <td>2024-09-18</td>\n",
       "      <td>bing / organic</td>\n",
       "      <td>(organic)</td>\n",
       "      <td>7</td>\n",
       "      <td>20</td>\n",
       "    </tr>\n",
       "    <tr>\n",
       "      <th>12</th>\n",
       "      <td>2024-09-18</td>\n",
       "      <td>bing / cpc</td>\n",
       "      <td>campaign_2</td>\n",
       "      <td>20</td>\n",
       "      <td>20</td>\n",
       "    </tr>\n",
       "    <tr>\n",
       "      <th>13</th>\n",
       "      <td>2024-09-18</td>\n",
       "      <td>google / cpc</td>\n",
       "      <td>campaign_23</td>\n",
       "      <td>16</td>\n",
       "      <td>19</td>\n",
       "    </tr>\n",
       "    <tr>\n",
       "      <th>14</th>\n",
       "      <td>2024-09-18</td>\n",
       "      <td>google / cpc</td>\n",
       "      <td>campaign_24</td>\n",
       "      <td>19</td>\n",
       "      <td>19</td>\n",
       "    </tr>\n",
       "    <tr>\n",
       "      <th>15</th>\n",
       "      <td>2024-09-18</td>\n",
       "      <td>google / cpc</td>\n",
       "      <td>DE | pMAX | PERF I Brand</td>\n",
       "      <td>14</td>\n",
       "      <td>18</td>\n",
       "    </tr>\n",
       "    <tr>\n",
       "      <th>16</th>\n",
       "      <td>2024-09-18</td>\n",
       "      <td>m.facebook.com / referral</td>\n",
       "      <td>(referral)</td>\n",
       "      <td>16</td>\n",
       "      <td>17</td>\n",
       "    </tr>\n",
       "    <tr>\n",
       "      <th>17</th>\n",
       "      <td>2024-09-18</td>\n",
       "      <td>google / cpc</td>\n",
       "      <td>campaign_25</td>\n",
       "      <td>17</td>\n",
       "      <td>17</td>\n",
       "    </tr>\n",
       "    <tr>\n",
       "      <th>18</th>\n",
       "      <td>2024-09-18</td>\n",
       "      <td>l.facebook.com / referral</td>\n",
       "      <td>(referral)</td>\n",
       "      <td>12</td>\n",
       "      <td>14</td>\n",
       "    </tr>\n",
       "    <tr>\n",
       "      <th>19</th>\n",
       "      <td>2024-09-18</td>\n",
       "      <td>ajanlat / offline</td>\n",
       "      <td>campaign_10</td>\n",
       "      <td>8</td>\n",
       "      <td>14</td>\n",
       "    </tr>\n",
       "    <tr>\n",
       "      <th>20</th>\n",
       "      <td>2024-09-18</td>\n",
       "      <td>bing / cpc</td>\n",
       "      <td>campaign_5</td>\n",
       "      <td>3</td>\n",
       "      <td>13</td>\n",
       "    </tr>\n",
       "    <tr>\n",
       "      <th>21</th>\n",
       "      <td>2024-09-18</td>\n",
       "      <td>redir.d-edgeconnect.media / referral</td>\n",
       "      <td>(referral)</td>\n",
       "      <td>9</td>\n",
       "      <td>10</td>\n",
       "    </tr>\n",
       "    <tr>\n",
       "      <th>22</th>\n",
       "      <td>2024-09-18</td>\n",
       "      <td>google / cpc</td>\n",
       "      <td>(referral)</td>\n",
       "      <td>7</td>\n",
       "      <td>8</td>\n",
       "    </tr>\n",
       "    <tr>\n",
       "      <th>23</th>\n",
       "      <td>2024-09-18</td>\n",
       "      <td>google / cpc</td>\n",
       "      <td>campaign_26</td>\n",
       "      <td>5</td>\n",
       "      <td>7</td>\n",
       "    </tr>\n",
       "    <tr>\n",
       "      <th>24</th>\n",
       "      <td>2024-09-18</td>\n",
       "      <td>google / cpc</td>\n",
       "      <td>HU | GDN | ENGM I Programok '24</td>\n",
       "      <td>7</td>\n",
       "      <td>7</td>\n",
       "    </tr>\n",
       "    <tr>\n",
       "      <th>25</th>\n",
       "      <td>2024-09-18</td>\n",
       "      <td>phone / offline</td>\n",
       "      <td>proposal-by-phone</td>\n",
       "      <td>2</td>\n",
       "      <td>7</td>\n",
       "    </tr>\n",
       "    <tr>\n",
       "      <th>26</th>\n",
       "      <td>2024-09-18</td>\n",
       "      <td>l.instagram.com / referral</td>\n",
       "      <td>(referral)</td>\n",
       "      <td>4</td>\n",
       "      <td>5</td>\n",
       "    </tr>\n",
       "    <tr>\n",
       "      <th>27</th>\n",
       "      <td>2024-09-18</td>\n",
       "      <td>lm.facebook.com / referral</td>\n",
       "      <td>(referral)</td>\n",
       "      <td>3</td>\n",
       "      <td>5</td>\n",
       "    </tr>\n",
       "    <tr>\n",
       "      <th>28</th>\n",
       "      <td>2024-09-18</td>\n",
       "      <td>otpbankdirekt.hu / referral</td>\n",
       "      <td>(referral)</td>\n",
       "      <td>2</td>\n",
       "      <td>5</td>\n",
       "    </tr>\n",
       "    <tr>\n",
       "      <th>29</th>\n",
       "      <td>2024-09-18</td>\n",
       "      <td>google / cpc</td>\n",
       "      <td>campaign_27</td>\n",
       "      <td>3</td>\n",
       "      <td>5</td>\n",
       "    </tr>\n",
       "  </tbody>\n",
       "</table>\n",
       "</div>"
      ],
      "text/plain": [
       "          date                 utm_source_and_medium  \\\n",
       "0   2024-09-18                             (not set)   \n",
       "1   2024-09-18                     (direct) / (none)   \n",
       "2   2024-09-18                          google / cpc   \n",
       "3   2024-09-18                          google / cpc   \n",
       "4   2024-09-18                      google / organic   \n",
       "5   2024-09-18                          google / cpc   \n",
       "6   2024-09-18                          google / cpc   \n",
       "7   2024-09-18                        facebook / cpc   \n",
       "8   2024-09-18                        facebook / cpc   \n",
       "9   2024-09-18                        facebook / cpc   \n",
       "10  2024-09-18                          google / cpc   \n",
       "11  2024-09-18                        bing / organic   \n",
       "12  2024-09-18                            bing / cpc   \n",
       "13  2024-09-18                          google / cpc   \n",
       "14  2024-09-18                          google / cpc   \n",
       "15  2024-09-18                          google / cpc   \n",
       "16  2024-09-18             m.facebook.com / referral   \n",
       "17  2024-09-18                          google / cpc   \n",
       "18  2024-09-18             l.facebook.com / referral   \n",
       "19  2024-09-18                     ajanlat / offline   \n",
       "20  2024-09-18                            bing / cpc   \n",
       "21  2024-09-18  redir.d-edgeconnect.media / referral   \n",
       "22  2024-09-18                          google / cpc   \n",
       "23  2024-09-18                          google / cpc   \n",
       "24  2024-09-18                          google / cpc   \n",
       "25  2024-09-18                       phone / offline   \n",
       "26  2024-09-18            l.instagram.com / referral   \n",
       "27  2024-09-18            lm.facebook.com / referral   \n",
       "28  2024-09-18           otpbankdirekt.hu / referral   \n",
       "29  2024-09-18                          google / cpc   \n",
       "\n",
       "                       utm_campaign  user_count  session_count  \n",
       "0                         (not set)         516            676  \n",
       "1                          (direct)         227            260  \n",
       "2                         (organic)         221            246  \n",
       "3          HU | pMAX | PERF I Brand         172            187  \n",
       "4                         (organic)         153            180  \n",
       "5           HU | GSN | PERF I Brand         130            161  \n",
       "6                         (not set)          92            105  \n",
       "7                       campaign_19          79             83  \n",
       "8                       campaign_20          51             52  \n",
       "9                       campaign_21          35             38  \n",
       "10                      campaign_22          27             31  \n",
       "11                        (organic)           7             20  \n",
       "12                       campaign_2          20             20  \n",
       "13                      campaign_23          16             19  \n",
       "14                      campaign_24          19             19  \n",
       "15         DE | pMAX | PERF I Brand          14             18  \n",
       "16                       (referral)          16             17  \n",
       "17                      campaign_25          17             17  \n",
       "18                       (referral)          12             14  \n",
       "19                      campaign_10           8             14  \n",
       "20                       campaign_5           3             13  \n",
       "21                       (referral)           9             10  \n",
       "22                       (referral)           7              8  \n",
       "23                      campaign_26           5              7  \n",
       "24  HU | GDN | ENGM I Programok '24           7              7  \n",
       "25                proposal-by-phone           2              7  \n",
       "26                       (referral)           4              5  \n",
       "27                       (referral)           3              5  \n",
       "28                       (referral)           2              5  \n",
       "29                      campaign_27           3              5  "
      ]
     },
     "execution_count": 79,
     "metadata": {},
     "output_type": "execute_result"
    }
   ],
   "source": [
    "daily_users.head(30)"
   ]
  },
  {
   "cell_type": "code",
   "execution_count": 80,
   "id": "71d02a69-ffae-488e-9917-a69ccf314933",
   "metadata": {},
   "outputs": [
    {
     "name": "stdout",
     "output_type": "stream",
     "text": [
      "<class 'pandas.core.frame.DataFrame'>\n",
      "RangeIndex: 1661 entries, 0 to 1660\n",
      "Data columns (total 5 columns):\n",
      " #   Column                 Non-Null Count  Dtype \n",
      "---  ------                 --------------  ----- \n",
      " 0   date                   1661 non-null   object\n",
      " 1   utm_source_and_medium  1661 non-null   object\n",
      " 2   utm_campaign           1661 non-null   object\n",
      " 3   user_count             1661 non-null   int64 \n",
      " 4   session_count          1661 non-null   int64 \n",
      "dtypes: int64(2), object(3)\n",
      "memory usage: 65.0+ KB\n"
     ]
    }
   ],
   "source": [
    "daily_users.info()"
   ]
  },
  {
   "cell_type": "code",
   "execution_count": 81,
   "id": "63c245c6-58ee-469a-b76a-42a89a165a47",
   "metadata": {},
   "outputs": [],
   "source": [
    "#datatype change to date\n",
    "daily_users['date'] = pd.to_datetime(daily_users['date'])\n"
   ]
  },
  {
   "cell_type": "code",
   "execution_count": 82,
   "id": "231b042a-fd07-4c2e-9ea3-4cad4a3e57bd",
   "metadata": {},
   "outputs": [
    {
     "data": {
      "text/plain": [
       "date                     0\n",
       "utm_source_and_medium    0\n",
       "utm_campaign             0\n",
       "user_count               0\n",
       "session_count            0\n",
       "dtype: int64"
      ]
     },
     "execution_count": 82,
     "metadata": {},
     "output_type": "execute_result"
    }
   ],
   "source": [
    "daily_users.isna().sum()"
   ]
  },
  {
   "cell_type": "code",
   "execution_count": 83,
   "id": "16f56251-ba3e-41a1-bedb-89b07448fbac",
   "metadata": {},
   "outputs": [
    {
     "data": {
      "text/html": [
       "<div>\n",
       "<style scoped>\n",
       "    .dataframe tbody tr th:only-of-type {\n",
       "        vertical-align: middle;\n",
       "    }\n",
       "\n",
       "    .dataframe tbody tr th {\n",
       "        vertical-align: top;\n",
       "    }\n",
       "\n",
       "    .dataframe thead th {\n",
       "        text-align: right;\n",
       "    }\n",
       "</style>\n",
       "<table border=\"1\" class=\"dataframe\">\n",
       "  <thead>\n",
       "    <tr style=\"text-align: right;\">\n",
       "      <th></th>\n",
       "      <th>date</th>\n",
       "      <th>utm_source_and_medium</th>\n",
       "      <th>utm_campaign</th>\n",
       "      <th>user_count</th>\n",
       "      <th>session_count</th>\n",
       "    </tr>\n",
       "  </thead>\n",
       "  <tbody>\n",
       "    <tr>\n",
       "      <th>768</th>\n",
       "      <td>2024-09-30</td>\n",
       "      <td>source_21</td>\n",
       "      <td>(referral)</td>\n",
       "      <td>1</td>\n",
       "      <td>1</td>\n",
       "    </tr>\n",
       "  </tbody>\n",
       "</table>\n",
       "</div>"
      ],
      "text/plain": [
       "          date utm_source_and_medium utm_campaign  user_count  session_count\n",
       "768 2024-09-30             source_21   (referral)           1              1"
      ]
     },
     "execution_count": 83,
     "metadata": {},
     "output_type": "execute_result"
    }
   ],
   "source": [
    "#there is duplicated rows\n",
    "daily_users[daily_users.duplicated()]"
   ]
  },
  {
   "cell_type": "code",
   "execution_count": 84,
   "id": "f13344b4-ceee-4645-a97e-a9257b34ac93",
   "metadata": {},
   "outputs": [],
   "source": [
    "daily_users.to_csv('./../Morgens_notebooks/HOTEL_3/Clean_data/daily_users_hotel_3.csv')"
   ]
  },
  {
   "cell_type": "markdown",
   "id": "cf54caee-cd92-497c-b245-391a71b4b14e",
   "metadata": {},
   "source": [
    "#### 9 -  BUDGET\n",
    "- 31 sor\n",
    "- első oszlopot átnevezni\n",
    "- adattípus változtatás"
   ]
  },
  {
   "cell_type": "code",
   "execution_count": 86,
   "id": "f12712ba-db83-40e1-9d8c-fd9fdf5d9cab",
   "metadata": {},
   "outputs": [],
   "source": [
    "budget = pd.read_csv('./../Morgens_notebooks/HOTEL_3/Original_data/daily_ppc_budget_hotel_3.csv', sep=\",\")"
   ]
  },
  {
   "cell_type": "code",
   "execution_count": 87,
   "id": "e273fc01-4b48-491c-9939-1b8b23b425c8",
   "metadata": {},
   "outputs": [
    {
     "data": {
      "text/html": [
       "<div>\n",
       "<style scoped>\n",
       "    .dataframe tbody tr th:only-of-type {\n",
       "        vertical-align: middle;\n",
       "    }\n",
       "\n",
       "    .dataframe tbody tr th {\n",
       "        vertical-align: top;\n",
       "    }\n",
       "\n",
       "    .dataframe thead th {\n",
       "        text-align: right;\n",
       "    }\n",
       "</style>\n",
       "<table border=\"1\" class=\"dataframe\">\n",
       "  <thead>\n",
       "    <tr style=\"text-align: right;\">\n",
       "      <th></th>\n",
       "      <th>Unnamed: 0</th>\n",
       "      <th>daily_google_spend</th>\n",
       "      <th>daily_microsoft_spend</th>\n",
       "      <th>daily_meta_spend</th>\n",
       "    </tr>\n",
       "  </thead>\n",
       "  <tbody>\n",
       "    <tr>\n",
       "      <th>0</th>\n",
       "      <td>2024.09.18.</td>\n",
       "      <td>103187</td>\n",
       "      <td>13076</td>\n",
       "      <td>28788</td>\n",
       "    </tr>\n",
       "    <tr>\n",
       "      <th>1</th>\n",
       "      <td>2024.09.19.</td>\n",
       "      <td>105303</td>\n",
       "      <td>19576</td>\n",
       "      <td>64102</td>\n",
       "    </tr>\n",
       "    <tr>\n",
       "      <th>2</th>\n",
       "      <td>2024.09.20.</td>\n",
       "      <td>104991</td>\n",
       "      <td>20604</td>\n",
       "      <td>73873</td>\n",
       "    </tr>\n",
       "    <tr>\n",
       "      <th>3</th>\n",
       "      <td>2024.09.21.</td>\n",
       "      <td>98337</td>\n",
       "      <td>12220</td>\n",
       "      <td>27476</td>\n",
       "    </tr>\n",
       "    <tr>\n",
       "      <th>4</th>\n",
       "      <td>2024.09.22.</td>\n",
       "      <td>113580</td>\n",
       "      <td>13024</td>\n",
       "      <td>36343</td>\n",
       "    </tr>\n",
       "  </tbody>\n",
       "</table>\n",
       "</div>"
      ],
      "text/plain": [
       "    Unnamed: 0  daily_google_spend  daily_microsoft_spend  daily_meta_spend\n",
       "0  2024.09.18.              103187                  13076             28788\n",
       "1  2024.09.19.              105303                  19576             64102\n",
       "2  2024.09.20.              104991                  20604             73873\n",
       "3  2024.09.21.               98337                  12220             27476\n",
       "4  2024.09.22.              113580                  13024             36343"
      ]
     },
     "execution_count": 87,
     "metadata": {},
     "output_type": "execute_result"
    }
   ],
   "source": [
    "budget.head()"
   ]
  },
  {
   "cell_type": "code",
   "execution_count": 88,
   "id": "d974f0fd-f372-4132-bf80-22bee359803e",
   "metadata": {},
   "outputs": [
    {
     "data": {
      "text/plain": [
       "31"
      ]
     },
     "execution_count": 88,
     "metadata": {},
     "output_type": "execute_result"
    }
   ],
   "source": [
    "len(budget)"
   ]
  },
  {
   "cell_type": "code",
   "execution_count": 89,
   "id": "b96a6e19-9d9f-4532-bae7-d97a2c762f3f",
   "metadata": {},
   "outputs": [],
   "source": [
    "#Rename the first column\n",
    "budget.rename(columns = {'Unnamed: 0':'date'}, inplace = True)"
   ]
  },
  {
   "cell_type": "code",
   "execution_count": 90,
   "id": "2c2d4af1-b9ae-40b3-a48e-f81bf9ee40da",
   "metadata": {},
   "outputs": [
    {
     "name": "stdout",
     "output_type": "stream",
     "text": [
      "<class 'pandas.core.frame.DataFrame'>\n",
      "RangeIndex: 31 entries, 0 to 30\n",
      "Data columns (total 4 columns):\n",
      " #   Column                 Non-Null Count  Dtype \n",
      "---  ------                 --------------  ----- \n",
      " 0   date                   31 non-null     object\n",
      " 1   daily_google_spend     31 non-null     int64 \n",
      " 2   daily_microsoft_spend  31 non-null     int64 \n",
      " 3   daily_meta_spend       31 non-null     int64 \n",
      "dtypes: int64(3), object(1)\n",
      "memory usage: 1.1+ KB\n"
     ]
    }
   ],
   "source": [
    "budget.info()"
   ]
  },
  {
   "cell_type": "code",
   "execution_count": 91,
   "id": "3732e3fd-9e6c-4b4a-be07-3a225db54fa9",
   "metadata": {},
   "outputs": [],
   "source": [
    "#change date type:\n",
    "budget['date'] = pd.to_datetime(budget['date'])"
   ]
  },
  {
   "cell_type": "code",
   "execution_count": 92,
   "id": "7a819461-d5d0-489c-9277-dbc40747d18d",
   "metadata": {},
   "outputs": [
    {
     "data": {
      "text/plain": [
       "date                     0\n",
       "daily_google_spend       0\n",
       "daily_microsoft_spend    0\n",
       "daily_meta_spend         0\n",
       "dtype: int64"
      ]
     },
     "execution_count": 92,
     "metadata": {},
     "output_type": "execute_result"
    }
   ],
   "source": [
    "budget.isna().sum()"
   ]
  },
  {
   "cell_type": "code",
   "execution_count": 93,
   "id": "be4798f3-c5bf-412c-b9db-0d8e801ccce7",
   "metadata": {},
   "outputs": [
    {
     "data": {
      "text/html": [
       "<div>\n",
       "<style scoped>\n",
       "    .dataframe tbody tr th:only-of-type {\n",
       "        vertical-align: middle;\n",
       "    }\n",
       "\n",
       "    .dataframe tbody tr th {\n",
       "        vertical-align: top;\n",
       "    }\n",
       "\n",
       "    .dataframe thead th {\n",
       "        text-align: right;\n",
       "    }\n",
       "</style>\n",
       "<table border=\"1\" class=\"dataframe\">\n",
       "  <thead>\n",
       "    <tr style=\"text-align: right;\">\n",
       "      <th></th>\n",
       "      <th>date</th>\n",
       "      <th>daily_google_spend</th>\n",
       "      <th>daily_microsoft_spend</th>\n",
       "      <th>daily_meta_spend</th>\n",
       "    </tr>\n",
       "  </thead>\n",
       "  <tbody>\n",
       "  </tbody>\n",
       "</table>\n",
       "</div>"
      ],
      "text/plain": [
       "Empty DataFrame\n",
       "Columns: [date, daily_google_spend, daily_microsoft_spend, daily_meta_spend]\n",
       "Index: []"
      ]
     },
     "execution_count": 93,
     "metadata": {},
     "output_type": "execute_result"
    }
   ],
   "source": [
    "#no duplicated rows\n",
    "budget[budget.duplicated()]"
   ]
  },
  {
   "cell_type": "code",
   "execution_count": 94,
   "id": "1ba59a0d-dcfc-48c6-ae80-beef9249641b",
   "metadata": {},
   "outputs": [],
   "source": [
    "budget.to_csv('./../Morgens_notebooks/HOTEL_3/Clean_data/budget_hotel_3.csv')"
   ]
  },
  {
   "cell_type": "markdown",
   "id": "2a2514a0-b1b8-47b6-96e6-f4d2d9fcc86f",
   "metadata": {},
   "source": [
    "#### 10 -  DATEPICKERS\n",
    "- 998 sor\n",
    "- date oszlop adatmódosítás\n",
    "- beolvasásnál hibaüzenet, megoldás: encoding='latin-1'"
   ]
  },
  {
   "cell_type": "code",
   "execution_count": 96,
   "id": "6de610d1-0cc5-444d-8a2b-c44f55ded150",
   "metadata": {},
   "outputs": [],
   "source": [
    "datepickers = pd.read_csv('./../Morgens_notebooks/HOTEL_3/Original_data/datepicker_daily_visitors_hotel_3.csv', sep=\";\", encoding='latin-1' )\n"
   ]
  },
  {
   "cell_type": "code",
   "execution_count": 97,
   "id": "4b8c3741-a560-49b9-837d-040fc023f8e9",
   "metadata": {},
   "outputs": [
    {
     "data": {
      "text/html": [
       "<div>\n",
       "<style scoped>\n",
       "    .dataframe tbody tr th:only-of-type {\n",
       "        vertical-align: middle;\n",
       "    }\n",
       "\n",
       "    .dataframe tbody tr th {\n",
       "        vertical-align: top;\n",
       "    }\n",
       "\n",
       "    .dataframe thead th {\n",
       "        text-align: right;\n",
       "    }\n",
       "</style>\n",
       "<table border=\"1\" class=\"dataframe\">\n",
       "  <thead>\n",
       "    <tr style=\"text-align: right;\">\n",
       "      <th></th>\n",
       "      <th>date</th>\n",
       "      <th>utm_source_and_medium</th>\n",
       "      <th>utm_campaign</th>\n",
       "      <th>user_count</th>\n",
       "      <th>session_count</th>\n",
       "    </tr>\n",
       "  </thead>\n",
       "  <tbody>\n",
       "    <tr>\n",
       "      <th>0</th>\n",
       "      <td>2024-09-18</td>\n",
       "      <td>google / cpc</td>\n",
       "      <td>(organic)</td>\n",
       "      <td>75</td>\n",
       "      <td>80</td>\n",
       "    </tr>\n",
       "    <tr>\n",
       "      <th>1</th>\n",
       "      <td>2024-09-18</td>\n",
       "      <td>(direct) / (none)</td>\n",
       "      <td>(direct)</td>\n",
       "      <td>73</td>\n",
       "      <td>76</td>\n",
       "    </tr>\n",
       "    <tr>\n",
       "      <th>2</th>\n",
       "      <td>2024-09-18</td>\n",
       "      <td>google / cpc</td>\n",
       "      <td>HU | GSN | PERF I Brand</td>\n",
       "      <td>45</td>\n",
       "      <td>52</td>\n",
       "    </tr>\n",
       "    <tr>\n",
       "      <th>3</th>\n",
       "      <td>2024-09-18</td>\n",
       "      <td>google / organic</td>\n",
       "      <td>(organic)</td>\n",
       "      <td>37</td>\n",
       "      <td>42</td>\n",
       "    </tr>\n",
       "    <tr>\n",
       "      <th>4</th>\n",
       "      <td>2024-09-18</td>\n",
       "      <td>google / cpc</td>\n",
       "      <td>HU | pMAX | PERF I Brand</td>\n",
       "      <td>34</td>\n",
       "      <td>36</td>\n",
       "    </tr>\n",
       "  </tbody>\n",
       "</table>\n",
       "</div>"
      ],
      "text/plain": [
       "         date utm_source_and_medium              utm_campaign  user_count  \\\n",
       "0  2024-09-18          google / cpc                 (organic)          75   \n",
       "1  2024-09-18     (direct) / (none)                  (direct)          73   \n",
       "2  2024-09-18          google / cpc   HU | GSN | PERF I Brand          45   \n",
       "3  2024-09-18      google / organic                 (organic)          37   \n",
       "4  2024-09-18          google / cpc  HU | pMAX | PERF I Brand          34   \n",
       "\n",
       "   session_count  \n",
       "0             80  \n",
       "1             76  \n",
       "2             52  \n",
       "3             42  \n",
       "4             36  "
      ]
     },
     "execution_count": 97,
     "metadata": {},
     "output_type": "execute_result"
    }
   ],
   "source": [
    "datepickers.head()"
   ]
  },
  {
   "cell_type": "code",
   "execution_count": 98,
   "id": "f135d457-af44-444b-909a-975382bd8893",
   "metadata": {},
   "outputs": [
    {
     "data": {
      "text/plain": [
       "998"
      ]
     },
     "execution_count": 98,
     "metadata": {},
     "output_type": "execute_result"
    }
   ],
   "source": [
    "len(datepickers)"
   ]
  },
  {
   "cell_type": "code",
   "execution_count": 99,
   "id": "5b69af25-6e57-4e39-80c8-42ec194ebc14",
   "metadata": {},
   "outputs": [
    {
     "data": {
      "text/plain": [
       "31"
      ]
     },
     "execution_count": 99,
     "metadata": {},
     "output_type": "execute_result"
    }
   ],
   "source": [
    "len(datepickers['date'].unique())"
   ]
  },
  {
   "cell_type": "code",
   "execution_count": 100,
   "id": "f43471a4-b37f-4a45-ad03-526edb86948c",
   "metadata": {},
   "outputs": [
    {
     "data": {
      "text/plain": [
       "67"
      ]
     },
     "execution_count": 100,
     "metadata": {},
     "output_type": "execute_result"
    }
   ],
   "source": [
    "len(datepickers['utm_source_and_medium'].unique())"
   ]
  },
  {
   "cell_type": "code",
   "execution_count": 101,
   "id": "99f8f07d-e86f-45a6-a0fb-db743df9ee3b",
   "metadata": {},
   "outputs": [
    {
     "data": {
      "text/plain": [
       "48"
      ]
     },
     "execution_count": 101,
     "metadata": {},
     "output_type": "execute_result"
    }
   ],
   "source": [
    "len(datepickers['utm_campaign'].unique())"
   ]
  },
  {
   "cell_type": "code",
   "execution_count": 102,
   "id": "692062b8-7dcf-4a22-9213-8f186975426a",
   "metadata": {},
   "outputs": [
    {
     "name": "stdout",
     "output_type": "stream",
     "text": [
      "<class 'pandas.core.frame.DataFrame'>\n",
      "RangeIndex: 998 entries, 0 to 997\n",
      "Data columns (total 5 columns):\n",
      " #   Column                 Non-Null Count  Dtype \n",
      "---  ------                 --------------  ----- \n",
      " 0   date                   998 non-null    object\n",
      " 1   utm_source_and_medium  998 non-null    object\n",
      " 2   utm_campaign           998 non-null    object\n",
      " 3   user_count             998 non-null    int64 \n",
      " 4   session_count          998 non-null    int64 \n",
      "dtypes: int64(2), object(3)\n",
      "memory usage: 39.1+ KB\n"
     ]
    }
   ],
   "source": [
    "datepickers.info()"
   ]
  },
  {
   "cell_type": "code",
   "execution_count": 103,
   "id": "5c2c37f6-bf01-4802-aa0a-32d1737a8de4",
   "metadata": {},
   "outputs": [],
   "source": [
    "datepickers['date'] = pd.to_datetime(datepickers['date'])"
   ]
  },
  {
   "cell_type": "code",
   "execution_count": 104,
   "id": "24a03a46-d0f5-49fd-b63f-3c6519eb30ea",
   "metadata": {},
   "outputs": [
    {
     "data": {
      "text/plain": [
       "date                     0\n",
       "utm_source_and_medium    0\n",
       "utm_campaign             0\n",
       "user_count               0\n",
       "session_count            0\n",
       "dtype: int64"
      ]
     },
     "execution_count": 104,
     "metadata": {},
     "output_type": "execute_result"
    }
   ],
   "source": [
    "datepickers.isna().sum()"
   ]
  },
  {
   "cell_type": "code",
   "execution_count": 105,
   "id": "67b7c1d6-d59e-46f8-8e98-9a16539411f6",
   "metadata": {},
   "outputs": [
    {
     "data": {
      "text/html": [
       "<div>\n",
       "<style scoped>\n",
       "    .dataframe tbody tr th:only-of-type {\n",
       "        vertical-align: middle;\n",
       "    }\n",
       "\n",
       "    .dataframe tbody tr th {\n",
       "        vertical-align: top;\n",
       "    }\n",
       "\n",
       "    .dataframe thead th {\n",
       "        text-align: right;\n",
       "    }\n",
       "</style>\n",
       "<table border=\"1\" class=\"dataframe\">\n",
       "  <thead>\n",
       "    <tr style=\"text-align: right;\">\n",
       "      <th></th>\n",
       "      <th>date</th>\n",
       "      <th>utm_source_and_medium</th>\n",
       "      <th>utm_campaign</th>\n",
       "      <th>user_count</th>\n",
       "      <th>session_count</th>\n",
       "    </tr>\n",
       "  </thead>\n",
       "  <tbody>\n",
       "  </tbody>\n",
       "</table>\n",
       "</div>"
      ],
      "text/plain": [
       "Empty DataFrame\n",
       "Columns: [date, utm_source_and_medium, utm_campaign, user_count, session_count]\n",
       "Index: []"
      ]
     },
     "execution_count": 105,
     "metadata": {},
     "output_type": "execute_result"
    }
   ],
   "source": [
    "#no duplicated rows\n",
    "datepickers[datepickers.duplicated()]"
   ]
  },
  {
   "cell_type": "code",
   "execution_count": 106,
   "id": "8476803f-1014-491e-bc1f-500f13b9c301",
   "metadata": {},
   "outputs": [],
   "source": [
    "datepickers.to_csv('./../Morgens_notebooks/HOTEL_3/Clean_data/datepickers_hotel_3.csv')"
   ]
  },
  {
   "cell_type": "markdown",
   "id": "add05af3-7c05-4561-9731-cd2aee145ca4",
   "metadata": {},
   "source": [
    "#### 11 - OCCUPANCY\n",
    "- 10788 dor, mert 31 napon át nézzük (x) a 348 napos időszakot\n",
    "- két dátum oszlopnál adattípus módosítás"
   ]
  },
  {
   "cell_type": "code",
   "execution_count": 108,
   "id": "d5acf92c-5009-4cc2-a7ab-4cdc0168fdff",
   "metadata": {},
   "outputs": [],
   "source": [
    "occupancy = pd.read_csv('./../Morgens_notebooks/HOTEL_3/Original_data/daily_occupancy_hotel_3.csv', sep=\";\")"
   ]
  },
  {
   "cell_type": "code",
   "execution_count": 109,
   "id": "48cfc12f-57e7-43a7-8cb2-f3eb08c252a6",
   "metadata": {},
   "outputs": [
    {
     "data": {
      "text/html": [
       "<div>\n",
       "<style scoped>\n",
       "    .dataframe tbody tr th:only-of-type {\n",
       "        vertical-align: middle;\n",
       "    }\n",
       "\n",
       "    .dataframe tbody tr th {\n",
       "        vertical-align: top;\n",
       "    }\n",
       "\n",
       "    .dataframe thead th {\n",
       "        text-align: right;\n",
       "    }\n",
       "</style>\n",
       "<table border=\"1\" class=\"dataframe\">\n",
       "  <thead>\n",
       "    <tr style=\"text-align: right;\">\n",
       "      <th></th>\n",
       "      <th>recording_date</th>\n",
       "      <th>subject_date</th>\n",
       "      <th>fill_rate</th>\n",
       "    </tr>\n",
       "  </thead>\n",
       "  <tbody>\n",
       "    <tr>\n",
       "      <th>0</th>\n",
       "      <td>2024-09-18</td>\n",
       "      <td>2024-09-18</td>\n",
       "      <td>94.737</td>\n",
       "    </tr>\n",
       "    <tr>\n",
       "      <th>1</th>\n",
       "      <td>2024-09-18</td>\n",
       "      <td>2024-09-19</td>\n",
       "      <td>85.088</td>\n",
       "    </tr>\n",
       "    <tr>\n",
       "      <th>2</th>\n",
       "      <td>2024-09-18</td>\n",
       "      <td>2024-09-20</td>\n",
       "      <td>98.246</td>\n",
       "    </tr>\n",
       "    <tr>\n",
       "      <th>3</th>\n",
       "      <td>2024-09-18</td>\n",
       "      <td>2024-09-21</td>\n",
       "      <td>81.579</td>\n",
       "    </tr>\n",
       "    <tr>\n",
       "      <th>4</th>\n",
       "      <td>2024-09-18</td>\n",
       "      <td>2024-09-22</td>\n",
       "      <td>62.281</td>\n",
       "    </tr>\n",
       "  </tbody>\n",
       "</table>\n",
       "</div>"
      ],
      "text/plain": [
       "  recording_date subject_date  fill_rate\n",
       "0     2024-09-18   2024-09-18     94.737\n",
       "1     2024-09-18   2024-09-19     85.088\n",
       "2     2024-09-18   2024-09-20     98.246\n",
       "3     2024-09-18   2024-09-21     81.579\n",
       "4     2024-09-18   2024-09-22     62.281"
      ]
     },
     "execution_count": 109,
     "metadata": {},
     "output_type": "execute_result"
    }
   ],
   "source": [
    "occupancy.head()"
   ]
  },
  {
   "cell_type": "code",
   "execution_count": 110,
   "id": "3aa4c3e3-94a0-4f9a-9496-1a92641e8275",
   "metadata": {},
   "outputs": [
    {
     "name": "stdout",
     "output_type": "stream",
     "text": [
      "<class 'pandas.core.frame.DataFrame'>\n",
      "RangeIndex: 10788 entries, 0 to 10787\n",
      "Data columns (total 3 columns):\n",
      " #   Column          Non-Null Count  Dtype  \n",
      "---  ------          --------------  -----  \n",
      " 0   recording_date  10788 non-null  object \n",
      " 1   subject_date    10788 non-null  object \n",
      " 2   fill_rate       10788 non-null  float64\n",
      "dtypes: float64(1), object(2)\n",
      "memory usage: 253.0+ KB\n"
     ]
    }
   ],
   "source": [
    "occupancy.info()"
   ]
  },
  {
   "cell_type": "code",
   "execution_count": 111,
   "id": "a04bbf14-f9f3-483c-afc6-d46456fdc869",
   "metadata": {},
   "outputs": [],
   "source": [
    "occupancy['recording_date'] = pd.to_datetime(occupancy['recording_date'])\n",
    "occupancy['subject_date'] = pd.to_datetime(occupancy['subject_date'])"
   ]
  },
  {
   "cell_type": "code",
   "execution_count": 112,
   "id": "df80356f-0ec5-41d3-9378-35be7d809aec",
   "metadata": {},
   "outputs": [
    {
     "data": {
      "text/plain": [
       "recording_date    0\n",
       "subject_date      0\n",
       "fill_rate         0\n",
       "dtype: int64"
      ]
     },
     "execution_count": 112,
     "metadata": {},
     "output_type": "execute_result"
    }
   ],
   "source": [
    "occupancy.isna().sum()"
   ]
  },
  {
   "cell_type": "code",
   "execution_count": 113,
   "id": "f946adb6-3c65-4f3f-a8bb-8e4924d83a22",
   "metadata": {},
   "outputs": [
    {
     "data": {
      "text/html": [
       "<div>\n",
       "<style scoped>\n",
       "    .dataframe tbody tr th:only-of-type {\n",
       "        vertical-align: middle;\n",
       "    }\n",
       "\n",
       "    .dataframe tbody tr th {\n",
       "        vertical-align: top;\n",
       "    }\n",
       "\n",
       "    .dataframe thead th {\n",
       "        text-align: right;\n",
       "    }\n",
       "</style>\n",
       "<table border=\"1\" class=\"dataframe\">\n",
       "  <thead>\n",
       "    <tr style=\"text-align: right;\">\n",
       "      <th></th>\n",
       "      <th>recording_date</th>\n",
       "      <th>subject_date</th>\n",
       "      <th>fill_rate</th>\n",
       "    </tr>\n",
       "  </thead>\n",
       "  <tbody>\n",
       "  </tbody>\n",
       "</table>\n",
       "</div>"
      ],
      "text/plain": [
       "Empty DataFrame\n",
       "Columns: [recording_date, subject_date, fill_rate]\n",
       "Index: []"
      ]
     },
     "execution_count": 113,
     "metadata": {},
     "output_type": "execute_result"
    }
   ],
   "source": [
    "#no duplicated rows\n",
    "occupancy[occupancy.duplicated()]"
   ]
  },
  {
   "cell_type": "code",
   "execution_count": 114,
   "id": "d4770b0f-833a-439e-849c-7e5701a4e883",
   "metadata": {},
   "outputs": [],
   "source": [
    "occupancy.to_csv('./../Morgens_notebooks/HOTEL_3/Clean_data/occupancy_hotel_3.csv')"
   ]
  },
  {
   "cell_type": "code",
   "execution_count": null,
   "id": "ff4edf91-120a-4d55-a756-163c72ad67a7",
   "metadata": {},
   "outputs": [],
   "source": []
  }
 ],
 "metadata": {
  "kernelspec": {
   "display_name": "Python 3 (ipykernel)",
   "language": "python",
   "name": "python3"
  },
  "language_info": {
   "codemirror_mode": {
    "name": "ipython",
    "version": 3
   },
   "file_extension": ".py",
   "mimetype": "text/x-python",
   "name": "python",
   "nbconvert_exporter": "python",
   "pygments_lexer": "ipython3",
   "version": "3.11.9"
  }
 },
 "nbformat": 4,
 "nbformat_minor": 5
}
