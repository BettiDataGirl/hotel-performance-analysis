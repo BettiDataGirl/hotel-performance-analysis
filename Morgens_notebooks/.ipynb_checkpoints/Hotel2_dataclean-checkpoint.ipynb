{
 "cells": [
  {
   "cell_type": "markdown",
   "id": "772dd674-304e-4ab6-bb4d-22f2cd78c116",
   "metadata": {},
   "source": [
    "## Data cleaning"
   ]
  },
  {
   "cell_type": "markdown",
   "id": "731a4efb-bf58-4583-97e1-65dcac97e26e",
   "metadata": {},
   "source": [
    "### Import the libraries"
   ]
  },
  {
   "cell_type": "code",
   "execution_count": 4,
   "id": "53558fab-1592-49e8-8022-ccb7d537167c",
   "metadata": {},
   "outputs": [],
   "source": [
    "import pandas as pd\n",
    "import plotly.express as px\n",
    "import numpy as np\n",
    "import datetime"
   ]
  },
  {
   "cell_type": "markdown",
   "id": "3d68505e-8dfa-4ddb-8be7-4ed50327e086",
   "metadata": {},
   "source": [
    "## Import the data"
   ]
  },
  {
   "cell_type": "markdown",
   "id": "838d7f3f-1014-4465-92f6-ad286169b908",
   "metadata": {},
   "source": [
    "### 11 tables of Hotel_2"
   ]
  },
  {
   "cell_type": "markdown",
   "id": "0014c262-61d8-41c3-a3d3-20bd2503c690",
   "metadata": {},
   "source": [
    "## 1 - Upsell tábla\n",
    "- 62 sor\n",
    "- adattípusok OK\n",
    "- nincs NaN,\n",
    "- gond: EUR és HUF összegek egy oszlopban vannak\n",
    "- gond: vannak teljesen egyforma sorok, de ez életszerű, kérhetett ugyanaz a foglalás többször ugyanolyan szolgáltatást "
   ]
  },
  {
   "cell_type": "code",
   "execution_count": 7,
   "id": "6cfc0104-a4fa-4ec0-8cef-325d2f62acd9",
   "metadata": {},
   "outputs": [
    {
     "data": {
      "text/html": [
       "<div>\n",
       "<style scoped>\n",
       "    .dataframe tbody tr th:only-of-type {\n",
       "        vertical-align: middle;\n",
       "    }\n",
       "\n",
       "    .dataframe tbody tr th {\n",
       "        vertical-align: top;\n",
       "    }\n",
       "\n",
       "    .dataframe thead th {\n",
       "        text-align: right;\n",
       "    }\n",
       "</style>\n",
       "<table border=\"1\" class=\"dataframe\">\n",
       "  <thead>\n",
       "    <tr style=\"text-align: right;\">\n",
       "      <th></th>\n",
       "      <th>search_log_id</th>\n",
       "      <th>upsell_type</th>\n",
       "      <th>name</th>\n",
       "      <th>unit_price</th>\n",
       "      <th>pieces</th>\n",
       "      <th>sum_price</th>\n",
       "    </tr>\n",
       "  </thead>\n",
       "  <tbody>\n",
       "    <tr>\n",
       "      <th>0</th>\n",
       "      <td>76849</td>\n",
       "      <td>27</td>\n",
       "      <td>WEINP_HU</td>\n",
       "      <td>6950.0</td>\n",
       "      <td>1</td>\n",
       "      <td>6950.0</td>\n",
       "    </tr>\n",
       "    <tr>\n",
       "      <th>1</th>\n",
       "      <td>77317</td>\n",
       "      <td>10</td>\n",
       "      <td>FRUITS_HU</td>\n",
       "      <td>2990.0</td>\n",
       "      <td>1</td>\n",
       "      <td>2990.0</td>\n",
       "    </tr>\n",
       "    <tr>\n",
       "      <th>2</th>\n",
       "      <td>78857</td>\n",
       "      <td>10</td>\n",
       "      <td>FRUITS_HU</td>\n",
       "      <td>2990.0</td>\n",
       "      <td>1</td>\n",
       "      <td>2990.0</td>\n",
       "    </tr>\n",
       "  </tbody>\n",
       "</table>\n",
       "</div>"
      ],
      "text/plain": [
       "   search_log_id  upsell_type       name  unit_price  pieces  sum_price\n",
       "0          76849           27   WEINP_HU      6950.0       1     6950.0\n",
       "1          77317           10  FRUITS_HU      2990.0       1     2990.0\n",
       "2          78857           10  FRUITS_HU      2990.0       1     2990.0"
      ]
     },
     "execution_count": 7,
     "metadata": {},
     "output_type": "execute_result"
    }
   ],
   "source": [
    "upsell = pd.read_csv('./../Morgens_notebooks/HOTEL_2/Original_data/upsell_data_hotel_2.csv', sep=';')\n",
    "upsell.head(3)"
   ]
  },
  {
   "cell_type": "code",
   "execution_count": 8,
   "id": "57dec771-e57e-41de-a701-5c7217402b37",
   "metadata": {},
   "outputs": [
    {
     "data": {
      "text/plain": [
       "62"
      ]
     },
     "execution_count": 8,
     "metadata": {},
     "output_type": "execute_result"
    }
   ],
   "source": [
    "len(upsell)"
   ]
  },
  {
   "cell_type": "code",
   "execution_count": 9,
   "id": "dd1f1021-b70a-4f51-800f-e5d28c9ca706",
   "metadata": {},
   "outputs": [
    {
     "data": {
      "text/html": [
       "<div>\n",
       "<style scoped>\n",
       "    .dataframe tbody tr th:only-of-type {\n",
       "        vertical-align: middle;\n",
       "    }\n",
       "\n",
       "    .dataframe tbody tr th {\n",
       "        vertical-align: top;\n",
       "    }\n",
       "\n",
       "    .dataframe thead th {\n",
       "        text-align: right;\n",
       "    }\n",
       "</style>\n",
       "<table border=\"1\" class=\"dataframe\">\n",
       "  <thead>\n",
       "    <tr style=\"text-align: right;\">\n",
       "      <th></th>\n",
       "      <th>search_log_id</th>\n",
       "      <th>upsell_type</th>\n",
       "      <th>unit_price</th>\n",
       "      <th>pieces</th>\n",
       "      <th>sum_price</th>\n",
       "    </tr>\n",
       "  </thead>\n",
       "  <tbody>\n",
       "    <tr>\n",
       "      <th>count</th>\n",
       "      <td>62.000000</td>\n",
       "      <td>62.000000</td>\n",
       "      <td>62.000000</td>\n",
       "      <td>62.000000</td>\n",
       "      <td>62.000000</td>\n",
       "    </tr>\n",
       "    <tr>\n",
       "      <th>mean</th>\n",
       "      <td>89900.935484</td>\n",
       "      <td>20.806452</td>\n",
       "      <td>4993.311935</td>\n",
       "      <td>1.048387</td>\n",
       "      <td>5074.311935</td>\n",
       "    </tr>\n",
       "    <tr>\n",
       "      <th>std</th>\n",
       "      <td>6463.348279</td>\n",
       "      <td>9.874356</td>\n",
       "      <td>3473.814116</td>\n",
       "      <td>0.216335</td>\n",
       "      <td>3527.563884</td>\n",
       "    </tr>\n",
       "    <tr>\n",
       "      <th>min</th>\n",
       "      <td>76849.000000</td>\n",
       "      <td>7.000000</td>\n",
       "      <td>19.300000</td>\n",
       "      <td>1.000000</td>\n",
       "      <td>19.300000</td>\n",
       "    </tr>\n",
       "    <tr>\n",
       "      <th>25%</th>\n",
       "      <td>85892.500000</td>\n",
       "      <td>10.000000</td>\n",
       "      <td>2990.000000</td>\n",
       "      <td>1.000000</td>\n",
       "      <td>2990.000000</td>\n",
       "    </tr>\n",
       "    <tr>\n",
       "      <th>50%</th>\n",
       "      <td>91430.500000</td>\n",
       "      <td>27.000000</td>\n",
       "      <td>2990.000000</td>\n",
       "      <td>1.000000</td>\n",
       "      <td>2990.000000</td>\n",
       "    </tr>\n",
       "    <tr>\n",
       "      <th>75%</th>\n",
       "      <td>95125.000000</td>\n",
       "      <td>30.000000</td>\n",
       "      <td>6950.000000</td>\n",
       "      <td>1.000000</td>\n",
       "      <td>6950.000000</td>\n",
       "    </tr>\n",
       "    <tr>\n",
       "      <th>max</th>\n",
       "      <td>98583.000000</td>\n",
       "      <td>36.000000</td>\n",
       "      <td>11500.000000</td>\n",
       "      <td>2.000000</td>\n",
       "      <td>11500.000000</td>\n",
       "    </tr>\n",
       "  </tbody>\n",
       "</table>\n",
       "</div>"
      ],
      "text/plain": [
       "       search_log_id  upsell_type    unit_price     pieces     sum_price\n",
       "count      62.000000    62.000000     62.000000  62.000000     62.000000\n",
       "mean    89900.935484    20.806452   4993.311935   1.048387   5074.311935\n",
       "std      6463.348279     9.874356   3473.814116   0.216335   3527.563884\n",
       "min     76849.000000     7.000000     19.300000   1.000000     19.300000\n",
       "25%     85892.500000    10.000000   2990.000000   1.000000   2990.000000\n",
       "50%     91430.500000    27.000000   2990.000000   1.000000   2990.000000\n",
       "75%     95125.000000    30.000000   6950.000000   1.000000   6950.000000\n",
       "max     98583.000000    36.000000  11500.000000   2.000000  11500.000000"
      ]
     },
     "execution_count": 9,
     "metadata": {},
     "output_type": "execute_result"
    }
   ],
   "source": [
    "upsell.describe()"
   ]
  },
  {
   "cell_type": "code",
   "execution_count": 10,
   "id": "7dbbc839-bd76-41d5-9856-d4c05a528547",
   "metadata": {},
   "outputs": [
    {
     "name": "stdout",
     "output_type": "stream",
     "text": [
      "<class 'pandas.core.frame.DataFrame'>\n",
      "RangeIndex: 62 entries, 0 to 61\n",
      "Data columns (total 6 columns):\n",
      " #   Column         Non-Null Count  Dtype  \n",
      "---  ------         --------------  -----  \n",
      " 0   search_log_id  62 non-null     int64  \n",
      " 1   upsell_type    62 non-null     int64  \n",
      " 2   name           62 non-null     object \n",
      " 3   unit_price     62 non-null     float64\n",
      " 4   pieces         62 non-null     int64  \n",
      " 5   sum_price      62 non-null     float64\n",
      "dtypes: float64(2), int64(3), object(1)\n",
      "memory usage: 3.0+ KB\n"
     ]
    }
   ],
   "source": [
    "upsell.info()"
   ]
  },
  {
   "cell_type": "code",
   "execution_count": 11,
   "id": "79a789cf-a46e-46d3-8521-92c6f3b0df45",
   "metadata": {},
   "outputs": [
    {
     "data": {
      "text/plain": [
       "62"
      ]
     },
     "execution_count": 11,
     "metadata": {},
     "output_type": "execute_result"
    }
   ],
   "source": [
    "upsell['name'].count()"
   ]
  },
  {
   "cell_type": "code",
   "execution_count": 12,
   "id": "83943992-4d03-4af8-8f26-b4cc3ddbdea8",
   "metadata": {},
   "outputs": [
    {
     "data": {
      "text/html": [
       "<div>\n",
       "<style scoped>\n",
       "    .dataframe tbody tr th:only-of-type {\n",
       "        vertical-align: middle;\n",
       "    }\n",
       "\n",
       "    .dataframe tbody tr th {\n",
       "        vertical-align: top;\n",
       "    }\n",
       "\n",
       "    .dataframe thead th {\n",
       "        text-align: right;\n",
       "    }\n",
       "</style>\n",
       "<table border=\"1\" class=\"dataframe\">\n",
       "  <thead>\n",
       "    <tr style=\"text-align: right;\">\n",
       "      <th></th>\n",
       "      <th>search_log_id</th>\n",
       "      <th>upsell_type</th>\n",
       "      <th>unit_price</th>\n",
       "      <th>pieces</th>\n",
       "      <th>sum_price</th>\n",
       "    </tr>\n",
       "    <tr>\n",
       "      <th>name</th>\n",
       "      <th></th>\n",
       "      <th></th>\n",
       "      <th></th>\n",
       "      <th></th>\n",
       "      <th></th>\n",
       "    </tr>\n",
       "  </thead>\n",
       "  <tbody>\n",
       "    <tr>\n",
       "      <th>31PRESSO_HU</th>\n",
       "      <td>3</td>\n",
       "      <td>3</td>\n",
       "      <td>3</td>\n",
       "      <td>3</td>\n",
       "      <td>3</td>\n",
       "    </tr>\n",
       "    <tr>\n",
       "      <th>FRUITS_HU</th>\n",
       "      <td>21</td>\n",
       "      <td>21</td>\n",
       "      <td>21</td>\n",
       "      <td>21</td>\n",
       "      <td>21</td>\n",
       "    </tr>\n",
       "    <tr>\n",
       "      <th>HCHAMPAGNE_HU</th>\n",
       "      <td>2</td>\n",
       "      <td>2</td>\n",
       "      <td>2</td>\n",
       "      <td>2</td>\n",
       "      <td>2</td>\n",
       "    </tr>\n",
       "    <tr>\n",
       "      <th>LOVE_DE</th>\n",
       "      <td>1</td>\n",
       "      <td>1</td>\n",
       "      <td>1</td>\n",
       "      <td>1</td>\n",
       "      <td>1</td>\n",
       "    </tr>\n",
       "    <tr>\n",
       "      <th>LOVE_HU</th>\n",
       "      <td>5</td>\n",
       "      <td>5</td>\n",
       "      <td>5</td>\n",
       "      <td>5</td>\n",
       "      <td>5</td>\n",
       "    </tr>\n",
       "    <tr>\n",
       "      <th>M50_DE</th>\n",
       "      <td>2</td>\n",
       "      <td>2</td>\n",
       "      <td>2</td>\n",
       "      <td>2</td>\n",
       "      <td>2</td>\n",
       "    </tr>\n",
       "    <tr>\n",
       "      <th>MF50_DE</th>\n",
       "      <td>1</td>\n",
       "      <td>1</td>\n",
       "      <td>1</td>\n",
       "      <td>1</td>\n",
       "      <td>1</td>\n",
       "    </tr>\n",
       "    <tr>\n",
       "      <th>MF50_HU</th>\n",
       "      <td>1</td>\n",
       "      <td>1</td>\n",
       "      <td>1</td>\n",
       "      <td>1</td>\n",
       "      <td>1</td>\n",
       "    </tr>\n",
       "    <tr>\n",
       "      <th>MINI2_HU</th>\n",
       "      <td>1</td>\n",
       "      <td>1</td>\n",
       "      <td>1</td>\n",
       "      <td>1</td>\n",
       "      <td>1</td>\n",
       "    </tr>\n",
       "    <tr>\n",
       "      <th>MINI_DE</th>\n",
       "      <td>4</td>\n",
       "      <td>4</td>\n",
       "      <td>4</td>\n",
       "      <td>4</td>\n",
       "      <td>4</td>\n",
       "    </tr>\n",
       "    <tr>\n",
       "      <th>MINI_HU</th>\n",
       "      <td>3</td>\n",
       "      <td>3</td>\n",
       "      <td>3</td>\n",
       "      <td>3</td>\n",
       "      <td>3</td>\n",
       "    </tr>\n",
       "    <tr>\n",
       "      <th>TCDCHAMPAGNE_HU</th>\n",
       "      <td>3</td>\n",
       "      <td>3</td>\n",
       "      <td>3</td>\n",
       "      <td>3</td>\n",
       "      <td>3</td>\n",
       "    </tr>\n",
       "    <tr>\n",
       "      <th>WEINP_DE</th>\n",
       "      <td>1</td>\n",
       "      <td>1</td>\n",
       "      <td>1</td>\n",
       "      <td>1</td>\n",
       "      <td>1</td>\n",
       "    </tr>\n",
       "    <tr>\n",
       "      <th>WEINP_HU</th>\n",
       "      <td>14</td>\n",
       "      <td>14</td>\n",
       "      <td>14</td>\n",
       "      <td>14</td>\n",
       "      <td>14</td>\n",
       "    </tr>\n",
       "  </tbody>\n",
       "</table>\n",
       "</div>"
      ],
      "text/plain": [
       "                 search_log_id  upsell_type  unit_price  pieces  sum_price\n",
       "name                                                                      \n",
       "31PRESSO_HU                  3            3           3       3          3\n",
       "FRUITS_HU                   21           21          21      21         21\n",
       "HCHAMPAGNE_HU                2            2           2       2          2\n",
       "LOVE_DE                      1            1           1       1          1\n",
       "LOVE_HU                      5            5           5       5          5\n",
       "M50_DE                       2            2           2       2          2\n",
       "MF50_DE                      1            1           1       1          1\n",
       "MF50_HU                      1            1           1       1          1\n",
       "MINI2_HU                     1            1           1       1          1\n",
       "MINI_DE                      4            4           4       4          4\n",
       "MINI_HU                      3            3           3       3          3\n",
       "TCDCHAMPAGNE_HU              3            3           3       3          3\n",
       "WEINP_DE                     1            1           1       1          1\n",
       "WEINP_HU                    14           14          14      14         14"
      ]
     },
     "execution_count": 12,
     "metadata": {},
     "output_type": "execute_result"
    }
   ],
   "source": [
    "upsell.groupby('name').count().head(30)"
   ]
  },
  {
   "cell_type": "code",
   "execution_count": 13,
   "id": "459a4328-cd99-4ec7-86b4-0b443cc41574",
   "metadata": {},
   "outputs": [
    {
     "data": {
      "text/plain": [
       "48"
      ]
     },
     "execution_count": 13,
     "metadata": {},
     "output_type": "execute_result"
    }
   ],
   "source": [
    "#48 db foglaláshoz tartozik a 62 sor, a search_log_id itt nem egyedi azonosító\n",
    "len(upsell['search_log_id'].unique())"
   ]
  },
  {
   "cell_type": "code",
   "execution_count": 14,
   "id": "0a7b1604-0e75-4e63-b486-cb66bebf583b",
   "metadata": {},
   "outputs": [
    {
     "data": {
      "text/html": [
       "<div>\n",
       "<style scoped>\n",
       "    .dataframe tbody tr th:only-of-type {\n",
       "        vertical-align: middle;\n",
       "    }\n",
       "\n",
       "    .dataframe tbody tr th {\n",
       "        vertical-align: top;\n",
       "    }\n",
       "\n",
       "    .dataframe thead th {\n",
       "        text-align: right;\n",
       "    }\n",
       "</style>\n",
       "<table border=\"1\" class=\"dataframe\">\n",
       "  <thead>\n",
       "    <tr style=\"text-align: right;\">\n",
       "      <th></th>\n",
       "      <th>search_log_id</th>\n",
       "      <th>upsell_type</th>\n",
       "      <th>name</th>\n",
       "      <th>unit_price</th>\n",
       "      <th>pieces</th>\n",
       "      <th>sum_price</th>\n",
       "    </tr>\n",
       "  </thead>\n",
       "  <tbody>\n",
       "    <tr>\n",
       "      <th>17</th>\n",
       "      <td>85942</td>\n",
       "      <td>30</td>\n",
       "      <td>MINI_DE</td>\n",
       "      <td>23.6</td>\n",
       "      <td>1</td>\n",
       "      <td>23.6</td>\n",
       "    </tr>\n",
       "  </tbody>\n",
       "</table>\n",
       "</div>"
      ],
      "text/plain": [
       "    search_log_id  upsell_type     name  unit_price  pieces  sum_price\n",
       "17          85942           30  MINI_DE        23.6       1       23.6"
      ]
     },
     "execution_count": 14,
     "metadata": {},
     "output_type": "execute_result"
    }
   ],
   "source": [
    "#there are duplicated rows\n",
    "upsell[upsell.duplicated()]"
   ]
  },
  {
   "cell_type": "code",
   "execution_count": 15,
   "id": "9f912405-7b1b-4464-9938-9e9860251259",
   "metadata": {},
   "outputs": [],
   "source": [
    "upsell.to_csv('./../Morgens_notebooks/HOTEL_2/Clean_data/upsell_hotel_2.csv')"
   ]
  },
  {
   "cell_type": "markdown",
   "id": "e4c30f86-f8d5-4c08-bff8-5291109d6734",
   "metadata": {},
   "source": [
    "#### 2 - Booking_data\n",
    "- 569 sor\n",
    "- adattípusok rendben\n",
    "- gond: EUR és HUF összegek egy oszlopban vannak"
   ]
  },
  {
   "cell_type": "code",
   "execution_count": 17,
   "id": "42713269-be3b-4ef8-93de-6a5862c2d2da",
   "metadata": {},
   "outputs": [],
   "source": [
    "booking = pd.read_csv('./../Morgens_notebooks/HOTEL_2/Original_data/booking_data_hotel_2.csv', sep=';')"
   ]
  },
  {
   "cell_type": "code",
   "execution_count": 18,
   "id": "7d3026d8-ccc2-471a-971b-cc07ec41b86d",
   "metadata": {},
   "outputs": [
    {
     "data": {
      "text/html": [
       "<div>\n",
       "<style scoped>\n",
       "    .dataframe tbody tr th:only-of-type {\n",
       "        vertical-align: middle;\n",
       "    }\n",
       "\n",
       "    .dataframe tbody tr th {\n",
       "        vertical-align: top;\n",
       "    }\n",
       "\n",
       "    .dataframe thead th {\n",
       "        text-align: right;\n",
       "    }\n",
       "</style>\n",
       "<table border=\"1\" class=\"dataframe\">\n",
       "  <thead>\n",
       "    <tr style=\"text-align: right;\">\n",
       "      <th></th>\n",
       "      <th>search_log_id</th>\n",
       "      <th>total_price_final</th>\n",
       "      <th>rooms_total_price</th>\n",
       "      <th>upsell_total_price</th>\n",
       "      <th>vouchers_total_price</th>\n",
       "      <th>loyalty_discount_total</th>\n",
       "      <th>redeemed_loyalty_points_total</th>\n",
       "    </tr>\n",
       "  </thead>\n",
       "  <tbody>\n",
       "    <tr>\n",
       "      <th>0</th>\n",
       "      <td>76659</td>\n",
       "      <td>510.0</td>\n",
       "      <td>510.00</td>\n",
       "      <td>0.0</td>\n",
       "      <td>0</td>\n",
       "      <td>0.00</td>\n",
       "      <td>0.0</td>\n",
       "    </tr>\n",
       "    <tr>\n",
       "      <th>1</th>\n",
       "      <td>76669</td>\n",
       "      <td>259.3</td>\n",
       "      <td>302.00</td>\n",
       "      <td>0.0</td>\n",
       "      <td>0</td>\n",
       "      <td>30.20</td>\n",
       "      <td>12.5</td>\n",
       "    </tr>\n",
       "    <tr>\n",
       "      <th>2</th>\n",
       "      <td>76674</td>\n",
       "      <td>140288.0</td>\n",
       "      <td>155875.56</td>\n",
       "      <td>0.0</td>\n",
       "      <td>0</td>\n",
       "      <td>15587.56</td>\n",
       "      <td>0.0</td>\n",
       "    </tr>\n",
       "  </tbody>\n",
       "</table>\n",
       "</div>"
      ],
      "text/plain": [
       "   search_log_id  total_price_final  rooms_total_price  upsell_total_price  \\\n",
       "0          76659              510.0             510.00                 0.0   \n",
       "1          76669              259.3             302.00                 0.0   \n",
       "2          76674           140288.0          155875.56                 0.0   \n",
       "\n",
       "   vouchers_total_price  loyalty_discount_total  redeemed_loyalty_points_total  \n",
       "0                     0                    0.00                            0.0  \n",
       "1                     0                   30.20                           12.5  \n",
       "2                     0                15587.56                            0.0  "
      ]
     },
     "execution_count": 18,
     "metadata": {},
     "output_type": "execute_result"
    }
   ],
   "source": [
    "booking.head(3)"
   ]
  },
  {
   "cell_type": "code",
   "execution_count": 19,
   "id": "0090c9bf-7cc2-47f5-9200-7e01256a0816",
   "metadata": {},
   "outputs": [
    {
     "data": {
      "text/plain": [
       "569"
      ]
     },
     "execution_count": 19,
     "metadata": {},
     "output_type": "execute_result"
    }
   ],
   "source": [
    "len(booking)"
   ]
  },
  {
   "cell_type": "code",
   "execution_count": 20,
   "id": "ab6d75ee-c1ff-4ace-b2a5-a70685a1f46c",
   "metadata": {},
   "outputs": [
    {
     "data": {
      "text/html": [
       "<div>\n",
       "<style scoped>\n",
       "    .dataframe tbody tr th:only-of-type {\n",
       "        vertical-align: middle;\n",
       "    }\n",
       "\n",
       "    .dataframe tbody tr th {\n",
       "        vertical-align: top;\n",
       "    }\n",
       "\n",
       "    .dataframe thead th {\n",
       "        text-align: right;\n",
       "    }\n",
       "</style>\n",
       "<table border=\"1\" class=\"dataframe\">\n",
       "  <thead>\n",
       "    <tr style=\"text-align: right;\">\n",
       "      <th></th>\n",
       "      <th>search_log_id</th>\n",
       "      <th>total_price_final</th>\n",
       "      <th>rooms_total_price</th>\n",
       "      <th>upsell_total_price</th>\n",
       "      <th>vouchers_total_price</th>\n",
       "      <th>loyalty_discount_total</th>\n",
       "      <th>redeemed_loyalty_points_total</th>\n",
       "    </tr>\n",
       "  </thead>\n",
       "  <tbody>\n",
       "    <tr>\n",
       "      <th>count</th>\n",
       "      <td>569.000000</td>\n",
       "      <td>569.000000</td>\n",
       "      <td>569.000000</td>\n",
       "      <td>569.000000</td>\n",
       "      <td>569.000000</td>\n",
       "      <td>569.000000</td>\n",
       "      <td>569.000000</td>\n",
       "    </tr>\n",
       "    <tr>\n",
       "      <th>mean</th>\n",
       "      <td>89013.768014</td>\n",
       "      <td>159373.084205</td>\n",
       "      <td>177248.403902</td>\n",
       "      <td>552.912724</td>\n",
       "      <td>263.620387</td>\n",
       "      <td>14319.355167</td>\n",
       "      <td>3783.745448</td>\n",
       "    </tr>\n",
       "    <tr>\n",
       "      <th>std</th>\n",
       "      <td>6452.025595</td>\n",
       "      <td>125938.640981</td>\n",
       "      <td>139168.538912</td>\n",
       "      <td>2446.415392</td>\n",
       "      <td>6288.327122</td>\n",
       "      <td>15603.359080</td>\n",
       "      <td>8983.381280</td>\n",
       "    </tr>\n",
       "    <tr>\n",
       "      <th>min</th>\n",
       "      <td>76659.000000</td>\n",
       "      <td>219.900000</td>\n",
       "      <td>200.600000</td>\n",
       "      <td>0.000000</td>\n",
       "      <td>0.000000</td>\n",
       "      <td>0.000000</td>\n",
       "      <td>0.000000</td>\n",
       "    </tr>\n",
       "    <tr>\n",
       "      <th>25%</th>\n",
       "      <td>83946.000000</td>\n",
       "      <td>82091.000000</td>\n",
       "      <td>94464.440000</td>\n",
       "      <td>0.000000</td>\n",
       "      <td>0.000000</td>\n",
       "      <td>0.000000</td>\n",
       "      <td>0.000000</td>\n",
       "    </tr>\n",
       "    <tr>\n",
       "      <th>50%</th>\n",
       "      <td>90283.000000</td>\n",
       "      <td>134638.000000</td>\n",
       "      <td>149040.000000</td>\n",
       "      <td>0.000000</td>\n",
       "      <td>0.000000</td>\n",
       "      <td>12096.000000</td>\n",
       "      <td>0.000000</td>\n",
       "    </tr>\n",
       "    <tr>\n",
       "      <th>75%</th>\n",
       "      <td>94662.000000</td>\n",
       "      <td>209240.000000</td>\n",
       "      <td>232560.000000</td>\n",
       "      <td>0.000000</td>\n",
       "      <td>0.000000</td>\n",
       "      <td>21067.220000</td>\n",
       "      <td>5000.000000</td>\n",
       "    </tr>\n",
       "    <tr>\n",
       "      <th>max</th>\n",
       "      <td>98690.000000</td>\n",
       "      <td>815680.000000</td>\n",
       "      <td>911866.670000</td>\n",
       "      <td>24390.000000</td>\n",
       "      <td>150000.000000</td>\n",
       "      <td>91186.670000</td>\n",
       "      <td>77973.000000</td>\n",
       "    </tr>\n",
       "  </tbody>\n",
       "</table>\n",
       "</div>"
      ],
      "text/plain": [
       "       search_log_id  total_price_final  rooms_total_price  \\\n",
       "count     569.000000         569.000000         569.000000   \n",
       "mean    89013.768014      159373.084205      177248.403902   \n",
       "std      6452.025595      125938.640981      139168.538912   \n",
       "min     76659.000000         219.900000         200.600000   \n",
       "25%     83946.000000       82091.000000       94464.440000   \n",
       "50%     90283.000000      134638.000000      149040.000000   \n",
       "75%     94662.000000      209240.000000      232560.000000   \n",
       "max     98690.000000      815680.000000      911866.670000   \n",
       "\n",
       "       upsell_total_price  vouchers_total_price  loyalty_discount_total  \\\n",
       "count          569.000000            569.000000              569.000000   \n",
       "mean           552.912724            263.620387            14319.355167   \n",
       "std           2446.415392           6288.327122            15603.359080   \n",
       "min              0.000000              0.000000                0.000000   \n",
       "25%              0.000000              0.000000                0.000000   \n",
       "50%              0.000000              0.000000            12096.000000   \n",
       "75%              0.000000              0.000000            21067.220000   \n",
       "max          24390.000000         150000.000000            91186.670000   \n",
       "\n",
       "       redeemed_loyalty_points_total  \n",
       "count                     569.000000  \n",
       "mean                     3783.745448  \n",
       "std                      8983.381280  \n",
       "min                         0.000000  \n",
       "25%                         0.000000  \n",
       "50%                         0.000000  \n",
       "75%                      5000.000000  \n",
       "max                     77973.000000  "
      ]
     },
     "execution_count": 20,
     "metadata": {},
     "output_type": "execute_result"
    }
   ],
   "source": [
    "booking.describe()"
   ]
  },
  {
   "cell_type": "code",
   "execution_count": 21,
   "id": "95c05152-66a2-4c78-bd29-8c54de408104",
   "metadata": {},
   "outputs": [
    {
     "data": {
      "text/html": [
       "<div>\n",
       "<style scoped>\n",
       "    .dataframe tbody tr th:only-of-type {\n",
       "        vertical-align: middle;\n",
       "    }\n",
       "\n",
       "    .dataframe tbody tr th {\n",
       "        vertical-align: top;\n",
       "    }\n",
       "\n",
       "    .dataframe thead th {\n",
       "        text-align: right;\n",
       "    }\n",
       "</style>\n",
       "<table border=\"1\" class=\"dataframe\">\n",
       "  <thead>\n",
       "    <tr style=\"text-align: right;\">\n",
       "      <th></th>\n",
       "      <th>search_log_id</th>\n",
       "      <th>total_price_final</th>\n",
       "      <th>rooms_total_price</th>\n",
       "      <th>upsell_total_price</th>\n",
       "      <th>vouchers_total_price</th>\n",
       "      <th>loyalty_discount_total</th>\n",
       "      <th>redeemed_loyalty_points_total</th>\n",
       "    </tr>\n",
       "  </thead>\n",
       "  <tbody>\n",
       "  </tbody>\n",
       "</table>\n",
       "</div>"
      ],
      "text/plain": [
       "Empty DataFrame\n",
       "Columns: [search_log_id, total_price_final, rooms_total_price, upsell_total_price, vouchers_total_price, loyalty_discount_total, redeemed_loyalty_points_total]\n",
       "Index: []"
      ]
     },
     "execution_count": 21,
     "metadata": {},
     "output_type": "execute_result"
    }
   ],
   "source": [
    "#no duplicated rows\n",
    "booking[booking.duplicated()]"
   ]
  },
  {
   "cell_type": "code",
   "execution_count": 22,
   "id": "54cb7118-6365-4e8e-81c2-b025d6c511e0",
   "metadata": {},
   "outputs": [
    {
     "data": {
      "text/plain": [
       "569"
      ]
     },
     "execution_count": 22,
     "metadata": {},
     "output_type": "execute_result"
    }
   ],
   "source": [
    "len(booking['search_log_id'].unique())"
   ]
  },
  {
   "cell_type": "code",
   "execution_count": 23,
   "id": "8960cab4-a7d3-45fa-9920-f959a559b4a3",
   "metadata": {},
   "outputs": [],
   "source": [
    "booking.to_csv('./../Morgens_notebooks/HOTEL_2/Clean_data/booking_hotel_2.csv')"
   ]
  },
  {
   "cell_type": "markdown",
   "id": "674f5e31-b0be-4548-a0b1-33dfde2b30e9",
   "metadata": {},
   "source": [
    "#### 3 - Child tábla (search_log_room_child)\n",
    "- 9558 sor\n",
    "-  adattípusok OK\n",
    "-  nincs NaN"
   ]
  },
  {
   "cell_type": "code",
   "execution_count": 6,
   "id": "d2dbac84-c994-4157-a4a7-636bd9ccc31e",
   "metadata": {},
   "outputs": [],
   "source": [
    "child = pd.read_csv('./../Morgens_notebooks/HOTEL_2/Original_data/search_log_room_child_hotel_2.csv', sep=';')\n"
   ]
  },
  {
   "cell_type": "code",
   "execution_count": 8,
   "id": "ce0eb0c7-11a3-47de-aac8-fd7566630a45",
   "metadata": {},
   "outputs": [
    {
     "data": {
      "text/html": [
       "<div>\n",
       "<style scoped>\n",
       "    .dataframe tbody tr th:only-of-type {\n",
       "        vertical-align: middle;\n",
       "    }\n",
       "\n",
       "    .dataframe tbody tr th {\n",
       "        vertical-align: top;\n",
       "    }\n",
       "\n",
       "    .dataframe thead th {\n",
       "        text-align: right;\n",
       "    }\n",
       "</style>\n",
       "<table border=\"1\" class=\"dataframe\">\n",
       "  <thead>\n",
       "    <tr style=\"text-align: right;\">\n",
       "      <th></th>\n",
       "      <th>id</th>\n",
       "      <th>search_log_room_id</th>\n",
       "      <th>age</th>\n",
       "      <th>baby_bed</th>\n",
       "    </tr>\n",
       "  </thead>\n",
       "  <tbody>\n",
       "    <tr>\n",
       "      <th>0</th>\n",
       "      <td>1398</td>\n",
       "      <td>3839</td>\n",
       "      <td>14</td>\n",
       "      <td>0</td>\n",
       "    </tr>\n",
       "    <tr>\n",
       "      <th>1</th>\n",
       "      <td>1399</td>\n",
       "      <td>3839</td>\n",
       "      <td>12</td>\n",
       "      <td>0</td>\n",
       "    </tr>\n",
       "    <tr>\n",
       "      <th>2</th>\n",
       "      <td>1400</td>\n",
       "      <td>3839</td>\n",
       "      <td>7</td>\n",
       "      <td>0</td>\n",
       "    </tr>\n",
       "  </tbody>\n",
       "</table>\n",
       "</div>"
      ],
      "text/plain": [
       "     id  search_log_room_id  age  baby_bed\n",
       "0  1398                3839   14         0\n",
       "1  1399                3839   12         0\n",
       "2  1400                3839    7         0"
      ]
     },
     "execution_count": 8,
     "metadata": {},
     "output_type": "execute_result"
    }
   ],
   "source": [
    "child.head(3)"
   ]
  },
  {
   "cell_type": "code",
   "execution_count": 27,
   "id": "3962ec3e-2311-4bb1-82d1-d93166fff920",
   "metadata": {},
   "outputs": [
    {
     "data": {
      "text/plain": [
       "9558"
      ]
     },
     "execution_count": 27,
     "metadata": {},
     "output_type": "execute_result"
    }
   ],
   "source": [
    "len(child)"
   ]
  },
  {
   "cell_type": "code",
   "execution_count": 28,
   "id": "1500b5cf-2336-49fe-bf83-318c4a9858cd",
   "metadata": {},
   "outputs": [
    {
     "data": {
      "text/html": [
       "<div>\n",
       "<style scoped>\n",
       "    .dataframe tbody tr th:only-of-type {\n",
       "        vertical-align: middle;\n",
       "    }\n",
       "\n",
       "    .dataframe tbody tr th {\n",
       "        vertical-align: top;\n",
       "    }\n",
       "\n",
       "    .dataframe thead th {\n",
       "        text-align: right;\n",
       "    }\n",
       "</style>\n",
       "<table border=\"1\" class=\"dataframe\">\n",
       "  <thead>\n",
       "    <tr style=\"text-align: right;\">\n",
       "      <th></th>\n",
       "      <th>id</th>\n",
       "      <th>search_log_room_id</th>\n",
       "      <th>age</th>\n",
       "      <th>baby_bed</th>\n",
       "    </tr>\n",
       "  </thead>\n",
       "  <tbody>\n",
       "  </tbody>\n",
       "</table>\n",
       "</div>"
      ],
      "text/plain": [
       "Empty DataFrame\n",
       "Columns: [id, search_log_room_id, age, baby_bed]\n",
       "Index: []"
      ]
     },
     "execution_count": 28,
     "metadata": {},
     "output_type": "execute_result"
    }
   ],
   "source": [
    "#no duplicated rows\n",
    "child[child.duplicated()]"
   ]
  },
  {
   "cell_type": "code",
   "execution_count": 29,
   "id": "249792b1-59f0-4874-8f76-6da7b90ba509",
   "metadata": {},
   "outputs": [
    {
     "data": {
      "text/plain": [
       "6297"
      ]
     },
     "execution_count": 29,
     "metadata": {},
     "output_type": "execute_result"
    }
   ],
   "source": [
    "len(child['search_log_room_id'].unique())"
   ]
  },
  {
   "cell_type": "code",
   "execution_count": 30,
   "id": "ad0e7e76-df5e-4255-b95c-0d6c67abf055",
   "metadata": {},
   "outputs": [
    {
     "data": {
      "text/plain": [
       "9558"
      ]
     },
     "execution_count": 30,
     "metadata": {},
     "output_type": "execute_result"
    }
   ],
   "source": [
    "len(child['id'].unique())"
   ]
  },
  {
   "cell_type": "code",
   "execution_count": 31,
   "id": "d830da6f-00eb-422f-b98c-9f583d08a086",
   "metadata": {},
   "outputs": [
    {
     "data": {
      "text/html": [
       "<div>\n",
       "<style scoped>\n",
       "    .dataframe tbody tr th:only-of-type {\n",
       "        vertical-align: middle;\n",
       "    }\n",
       "\n",
       "    .dataframe tbody tr th {\n",
       "        vertical-align: top;\n",
       "    }\n",
       "\n",
       "    .dataframe thead th {\n",
       "        text-align: right;\n",
       "    }\n",
       "</style>\n",
       "<table border=\"1\" class=\"dataframe\">\n",
       "  <thead>\n",
       "    <tr style=\"text-align: right;\">\n",
       "      <th></th>\n",
       "      <th>id</th>\n",
       "      <th>search_log_room_id</th>\n",
       "      <th>age</th>\n",
       "      <th>baby_bed</th>\n",
       "    </tr>\n",
       "  </thead>\n",
       "  <tbody>\n",
       "    <tr>\n",
       "      <th>count</th>\n",
       "      <td>9558.000000</td>\n",
       "      <td>9558.000000</td>\n",
       "      <td>9558.000000</td>\n",
       "      <td>9558.000000</td>\n",
       "    </tr>\n",
       "    <tr>\n",
       "      <th>mean</th>\n",
       "      <td>6420.151810</td>\n",
       "      <td>15912.873823</td>\n",
       "      <td>8.316907</td>\n",
       "      <td>0.055556</td>\n",
       "    </tr>\n",
       "    <tr>\n",
       "      <th>std</th>\n",
       "      <td>2903.615675</td>\n",
       "      <td>6935.151689</td>\n",
       "      <td>4.522219</td>\n",
       "      <td>0.229073</td>\n",
       "    </tr>\n",
       "    <tr>\n",
       "      <th>min</th>\n",
       "      <td>1398.000000</td>\n",
       "      <td>3839.000000</td>\n",
       "      <td>0.000000</td>\n",
       "      <td>0.000000</td>\n",
       "    </tr>\n",
       "    <tr>\n",
       "      <th>25%</th>\n",
       "      <td>3896.250000</td>\n",
       "      <td>9817.000000</td>\n",
       "      <td>5.000000</td>\n",
       "      <td>0.000000</td>\n",
       "    </tr>\n",
       "    <tr>\n",
       "      <th>50%</th>\n",
       "      <td>6398.500000</td>\n",
       "      <td>16446.000000</td>\n",
       "      <td>8.000000</td>\n",
       "      <td>0.000000</td>\n",
       "    </tr>\n",
       "    <tr>\n",
       "      <th>75%</th>\n",
       "      <td>8953.750000</td>\n",
       "      <td>21919.750000</td>\n",
       "      <td>12.000000</td>\n",
       "      <td>0.000000</td>\n",
       "    </tr>\n",
       "    <tr>\n",
       "      <th>max</th>\n",
       "      <td>11464.000000</td>\n",
       "      <td>28100.000000</td>\n",
       "      <td>17.000000</td>\n",
       "      <td>1.000000</td>\n",
       "    </tr>\n",
       "  </tbody>\n",
       "</table>\n",
       "</div>"
      ],
      "text/plain": [
       "                 id  search_log_room_id          age     baby_bed\n",
       "count   9558.000000         9558.000000  9558.000000  9558.000000\n",
       "mean    6420.151810        15912.873823     8.316907     0.055556\n",
       "std     2903.615675         6935.151689     4.522219     0.229073\n",
       "min     1398.000000         3839.000000     0.000000     0.000000\n",
       "25%     3896.250000         9817.000000     5.000000     0.000000\n",
       "50%     6398.500000        16446.000000     8.000000     0.000000\n",
       "75%     8953.750000        21919.750000    12.000000     0.000000\n",
       "max    11464.000000        28100.000000    17.000000     1.000000"
      ]
     },
     "execution_count": 31,
     "metadata": {},
     "output_type": "execute_result"
    }
   ],
   "source": [
    "child.describe()"
   ]
  },
  {
   "cell_type": "code",
   "execution_count": 32,
   "id": "aba274ff-81ed-4b2a-8eed-b5019f3bf9b2",
   "metadata": {},
   "outputs": [],
   "source": [
    "child.to_csv('./../Morgens_notebooks/HOTEL_2/Clean_data/child_hotel_2.csv')"
   ]
  },
  {
   "cell_type": "markdown",
   "id": "81ab7b5e-48c1-44eb-bb8c-a34e5fc80c30",
   "metadata": {},
   "source": [
    "#### 4 - tábla (search_log_hotel)\n",
    "- 15725 sor\n",
    "- nincs NaN\n",
    "- gond az EUR/HUF, de itt van dátum oszlop is, ide lehetne behozni az árfolyamokat először\n",
    "- adattisztitás:\n",
    "- dátumból: csak év-hónap-nap legyen\n",
    "- conversion oszlop: NaN értékeknek -1 érték (szűréshez kell)\n",
    "- total_price_final: NaN értékek nulla érték\n",
    "- új oszlop: total_price_HUF !!!"
   ]
  },
  {
   "cell_type": "code",
   "execution_count": 34,
   "id": "a55caf74-2eb8-44b6-8be9-c66b9dfdb667",
   "metadata": {},
   "outputs": [],
   "source": [
    "search = pd.read_csv('./../Morgens_notebooks/HOTEL_2/Original_data/search_log_hotel_2.csv', sep=';')"
   ]
  },
  {
   "cell_type": "code",
   "execution_count": 35,
   "id": "f4d7d55f-e601-47cb-957c-68b12787176d",
   "metadata": {},
   "outputs": [
    {
     "data": {
      "text/plain": [
       "15725"
      ]
     },
     "execution_count": 35,
     "metadata": {},
     "output_type": "execute_result"
    }
   ],
   "source": [
    "len(search)"
   ]
  },
  {
   "cell_type": "code",
   "execution_count": 36,
   "id": "b4c85529-5506-4529-a150-7865cf7f8494",
   "metadata": {},
   "outputs": [
    {
     "data": {
      "text/plain": [
       "9327"
      ]
     },
     "execution_count": 36,
     "metadata": {},
     "output_type": "execute_result"
    }
   ],
   "source": [
    "len(search['search_log_session_id'].unique())"
   ]
  },
  {
   "cell_type": "code",
   "execution_count": 37,
   "id": "031250c9-b034-43ca-8cb8-197401eeff0f",
   "metadata": {},
   "outputs": [
    {
     "name": "stdout",
     "output_type": "stream",
     "text": [
      "<class 'pandas.core.frame.DataFrame'>\n",
      "RangeIndex: 15725 entries, 0 to 15724\n",
      "Data columns (total 13 columns):\n",
      " #   Column                 Non-Null Count  Dtype  \n",
      "---  ------                 --------------  -----  \n",
      " 0   id                     15725 non-null  int64  \n",
      " 1   search_log_session_id  15725 non-null  int64  \n",
      " 2   utc_datetime           15725 non-null  object \n",
      " 3   lang_code              15725 non-null  object \n",
      " 4   currency               15725 non-null  object \n",
      " 5   arrival                15725 non-null  object \n",
      " 6   departure              15725 non-null  object \n",
      " 7   days                   15725 non-null  int64  \n",
      " 8   nights                 15725 non-null  int64  \n",
      " 9   adults                 15725 non-null  int64  \n",
      " 10  children               15725 non-null  int64  \n",
      " 11  conversion             569 non-null    float64\n",
      " 12  total_price_final      569 non-null    float64\n",
      "dtypes: float64(2), int64(6), object(5)\n",
      "memory usage: 1.6+ MB\n"
     ]
    }
   ],
   "source": [
    "search.info()"
   ]
  },
  {
   "cell_type": "code",
   "execution_count": 38,
   "id": "05ce8c7f-2596-4e19-9866-c9270114177e",
   "metadata": {},
   "outputs": [],
   "source": [
    "#datatype change to date:\n",
    "search['utc_datetime'] = pd.to_datetime(search['utc_datetime'])\n",
    "search['arrival'] = pd.to_datetime(search['arrival'])\n",
    "search['departure'] = pd.to_datetime(search['departure'])"
   ]
  },
  {
   "cell_type": "code",
   "execution_count": 39,
   "id": "4fe77f0f-711e-4bd4-9b1c-8af1f18c1f50",
   "metadata": {},
   "outputs": [],
   "source": [
    "#utc_datetime change to only year-month-day into a new column\n",
    "#szinesdf['when'] = szinesdf['when'].dt.strftime('%H:%M:%S')\n",
    "search['utc_date'] = search['utc_datetime'].dt.strftime('%Y-%m-%d')"
   ]
  },
  {
   "cell_type": "code",
   "execution_count": 40,
   "id": "536fa5c9-ef88-496c-925a-48c29fe7b2dc",
   "metadata": {},
   "outputs": [
    {
     "data": {
      "text/plain": [
       "id                           0\n",
       "search_log_session_id        0\n",
       "utc_datetime                 0\n",
       "lang_code                    0\n",
       "currency                     0\n",
       "arrival                      0\n",
       "departure                    0\n",
       "days                         0\n",
       "nights                       0\n",
       "adults                       0\n",
       "children                     0\n",
       "conversion               15156\n",
       "total_price_final        15156\n",
       "utc_date                     0\n",
       "dtype: int64"
      ]
     },
     "execution_count": 40,
     "metadata": {},
     "output_type": "execute_result"
    }
   ],
   "source": [
    "search.isna().sum()"
   ]
  },
  {
   "cell_type": "code",
   "execution_count": 41,
   "id": "3a2a6479-4305-4d40-b5f3-d57a6d48dda0",
   "metadata": {},
   "outputs": [
    {
     "data": {
      "text/plain": [
       "569"
      ]
     },
     "execution_count": 41,
     "metadata": {},
     "output_type": "execute_result"
    }
   ],
   "source": [
    "#Number of final bookings\n",
    "15725-15156"
   ]
  },
  {
   "cell_type": "code",
   "execution_count": 42,
   "id": "75212b75-e195-4535-b1dc-bf890ff3cef5",
   "metadata": {},
   "outputs": [],
   "source": [
    "#conversion column: replace NaN with -1\n",
    "search['conversion'].fillna(-1, inplace = True)"
   ]
  },
  {
   "cell_type": "code",
   "execution_count": 43,
   "id": "3cf2fea2-bc27-4c92-8ca4-f11f88f43e51",
   "metadata": {},
   "outputs": [],
   "source": [
    "#final_price column: replace NaN with 0\n",
    "search['total_price_final'].fillna(0, inplace = True)"
   ]
  },
  {
   "cell_type": "code",
   "execution_count": 44,
   "id": "68f36f45-fef6-46f6-9f98-1b575f554ce9",
   "metadata": {},
   "outputs": [
    {
     "data": {
      "text/html": [
       "<div>\n",
       "<style scoped>\n",
       "    .dataframe tbody tr th:only-of-type {\n",
       "        vertical-align: middle;\n",
       "    }\n",
       "\n",
       "    .dataframe tbody tr th {\n",
       "        vertical-align: top;\n",
       "    }\n",
       "\n",
       "    .dataframe thead th {\n",
       "        text-align: right;\n",
       "    }\n",
       "</style>\n",
       "<table border=\"1\" class=\"dataframe\">\n",
       "  <thead>\n",
       "    <tr style=\"text-align: right;\">\n",
       "      <th></th>\n",
       "      <th>id</th>\n",
       "      <th>search_log_session_id</th>\n",
       "      <th>utc_datetime</th>\n",
       "      <th>lang_code</th>\n",
       "      <th>currency</th>\n",
       "      <th>arrival</th>\n",
       "      <th>departure</th>\n",
       "      <th>days</th>\n",
       "      <th>nights</th>\n",
       "      <th>adults</th>\n",
       "      <th>children</th>\n",
       "      <th>conversion</th>\n",
       "      <th>total_price_final</th>\n",
       "      <th>utc_date</th>\n",
       "    </tr>\n",
       "  </thead>\n",
       "  <tbody>\n",
       "    <tr>\n",
       "      <th>0</th>\n",
       "      <td>76486</td>\n",
       "      <td>2476</td>\n",
       "      <td>2024-09-17 22:12:01</td>\n",
       "      <td>hu</td>\n",
       "      <td>HUF</td>\n",
       "      <td>2024-09-21</td>\n",
       "      <td>2024-09-25</td>\n",
       "      <td>5</td>\n",
       "      <td>4</td>\n",
       "      <td>2</td>\n",
       "      <td>0</td>\n",
       "      <td>-1.0</td>\n",
       "      <td>0.0</td>\n",
       "      <td>2024-09-17</td>\n",
       "    </tr>\n",
       "    <tr>\n",
       "      <th>1</th>\n",
       "      <td>76528</td>\n",
       "      <td>2518</td>\n",
       "      <td>2024-09-17 22:22:57</td>\n",
       "      <td>hu</td>\n",
       "      <td>HUF</td>\n",
       "      <td>2024-11-22</td>\n",
       "      <td>2024-11-24</td>\n",
       "      <td>3</td>\n",
       "      <td>2</td>\n",
       "      <td>2</td>\n",
       "      <td>0</td>\n",
       "      <td>-1.0</td>\n",
       "      <td>0.0</td>\n",
       "      <td>2024-09-17</td>\n",
       "    </tr>\n",
       "    <tr>\n",
       "      <th>2</th>\n",
       "      <td>76541</td>\n",
       "      <td>2531</td>\n",
       "      <td>2024-09-18 01:31:42</td>\n",
       "      <td>hu</td>\n",
       "      <td>HUF</td>\n",
       "      <td>2024-10-08</td>\n",
       "      <td>2024-10-12</td>\n",
       "      <td>5</td>\n",
       "      <td>4</td>\n",
       "      <td>2</td>\n",
       "      <td>0</td>\n",
       "      <td>-1.0</td>\n",
       "      <td>0.0</td>\n",
       "      <td>2024-09-18</td>\n",
       "    </tr>\n",
       "    <tr>\n",
       "      <th>3</th>\n",
       "      <td>76542</td>\n",
       "      <td>2532</td>\n",
       "      <td>2024-09-18 02:23:53</td>\n",
       "      <td>de</td>\n",
       "      <td>EUR</td>\n",
       "      <td>2024-10-11</td>\n",
       "      <td>2024-10-13</td>\n",
       "      <td>3</td>\n",
       "      <td>2</td>\n",
       "      <td>2</td>\n",
       "      <td>0</td>\n",
       "      <td>-1.0</td>\n",
       "      <td>0.0</td>\n",
       "      <td>2024-09-18</td>\n",
       "    </tr>\n",
       "    <tr>\n",
       "      <th>4</th>\n",
       "      <td>76543</td>\n",
       "      <td>2533</td>\n",
       "      <td>2024-09-18 03:07:46</td>\n",
       "      <td>hu</td>\n",
       "      <td>HUF</td>\n",
       "      <td>2024-11-14</td>\n",
       "      <td>2024-11-17</td>\n",
       "      <td>4</td>\n",
       "      <td>3</td>\n",
       "      <td>2</td>\n",
       "      <td>3</td>\n",
       "      <td>-1.0</td>\n",
       "      <td>0.0</td>\n",
       "      <td>2024-09-18</td>\n",
       "    </tr>\n",
       "  </tbody>\n",
       "</table>\n",
       "</div>"
      ],
      "text/plain": [
       "      id  search_log_session_id        utc_datetime lang_code currency  \\\n",
       "0  76486                   2476 2024-09-17 22:12:01        hu      HUF   \n",
       "1  76528                   2518 2024-09-17 22:22:57        hu      HUF   \n",
       "2  76541                   2531 2024-09-18 01:31:42        hu      HUF   \n",
       "3  76542                   2532 2024-09-18 02:23:53        de      EUR   \n",
       "4  76543                   2533 2024-09-18 03:07:46        hu      HUF   \n",
       "\n",
       "     arrival  departure  days  nights  adults  children  conversion  \\\n",
       "0 2024-09-21 2024-09-25     5       4       2         0        -1.0   \n",
       "1 2024-11-22 2024-11-24     3       2       2         0        -1.0   \n",
       "2 2024-10-08 2024-10-12     5       4       2         0        -1.0   \n",
       "3 2024-10-11 2024-10-13     3       2       2         0        -1.0   \n",
       "4 2024-11-14 2024-11-17     4       3       2         3        -1.0   \n",
       "\n",
       "   total_price_final    utc_date  \n",
       "0                0.0  2024-09-17  \n",
       "1                0.0  2024-09-17  \n",
       "2                0.0  2024-09-18  \n",
       "3                0.0  2024-09-18  \n",
       "4                0.0  2024-09-18  "
      ]
     },
     "execution_count": 44,
     "metadata": {},
     "output_type": "execute_result"
    }
   ],
   "source": [
    "search.head()"
   ]
  },
  {
   "cell_type": "code",
   "execution_count": 45,
   "id": "1bf03c5e-7fcf-4fe2-850e-5a616117c3d3",
   "metadata": {},
   "outputs": [
    {
     "data": {
      "text/html": [
       "<div>\n",
       "<style scoped>\n",
       "    .dataframe tbody tr th:only-of-type {\n",
       "        vertical-align: middle;\n",
       "    }\n",
       "\n",
       "    .dataframe tbody tr th {\n",
       "        vertical-align: top;\n",
       "    }\n",
       "\n",
       "    .dataframe thead th {\n",
       "        text-align: right;\n",
       "    }\n",
       "</style>\n",
       "<table border=\"1\" class=\"dataframe\">\n",
       "  <thead>\n",
       "    <tr style=\"text-align: right;\">\n",
       "      <th></th>\n",
       "      <th>id</th>\n",
       "      <th>search_log_session_id</th>\n",
       "      <th>utc_datetime</th>\n",
       "      <th>lang_code</th>\n",
       "      <th>currency</th>\n",
       "      <th>arrival</th>\n",
       "      <th>departure</th>\n",
       "      <th>days</th>\n",
       "      <th>nights</th>\n",
       "      <th>adults</th>\n",
       "      <th>children</th>\n",
       "      <th>conversion</th>\n",
       "      <th>total_price_final</th>\n",
       "      <th>utc_date</th>\n",
       "    </tr>\n",
       "  </thead>\n",
       "  <tbody>\n",
       "  </tbody>\n",
       "</table>\n",
       "</div>"
      ],
      "text/plain": [
       "Empty DataFrame\n",
       "Columns: [id, search_log_session_id, utc_datetime, lang_code, currency, arrival, departure, days, nights, adults, children, conversion, total_price_final, utc_date]\n",
       "Index: []"
      ]
     },
     "execution_count": 45,
     "metadata": {},
     "output_type": "execute_result"
    }
   ],
   "source": [
    "#no duplicated rows\n",
    "search[search.duplicated()]"
   ]
  },
  {
   "cell_type": "code",
   "execution_count": 46,
   "id": "cc0b2cb1-d27a-43df-96e3-c709ccde4cae",
   "metadata": {},
   "outputs": [],
   "source": [
    "search.to_csv('./../Morgens_notebooks/HOTEL_2/Clean_data/search_hotel_2.csv')"
   ]
  },
  {
   "cell_type": "markdown",
   "id": "5caf7ffe-ecb1-4f7b-8683-e7a7cd6c9391",
   "metadata": {},
   "source": [
    "#### 5 - Room details (search_log_room_hotel)\n",
    "- 17479 sor\n",
    "- adattípusok OK\n",
    "- van 16832 db NaN a picked_price, és picked_room oszlopban, ezek azért vannak mert nem választott már szobát a keresés során?\n",
    "- ami nem NaN, az kód a picked_room oszlopban, legyen 0 a NaN helyett?\n",
    "- ami nem NaN, az ár: HUF/EUR?, legyen 0 a NaN helyett?"
   ]
  },
  {
   "cell_type": "code",
   "execution_count": 48,
   "id": "2568699e-061f-4ae1-bff4-0ecb12852968",
   "metadata": {},
   "outputs": [],
   "source": [
    "room = pd.read_csv('./../Morgens_notebooks/HOTEL_2/Original_data/search_log_room_hotel_2.csv', sep=';')"
   ]
  },
  {
   "cell_type": "code",
   "execution_count": 49,
   "id": "a6d1c765-9d8f-450b-afa2-9cc7de6e71e3",
   "metadata": {},
   "outputs": [
    {
     "data": {
      "text/html": [
       "<div>\n",
       "<style scoped>\n",
       "    .dataframe tbody tr th:only-of-type {\n",
       "        vertical-align: middle;\n",
       "    }\n",
       "\n",
       "    .dataframe tbody tr th {\n",
       "        vertical-align: top;\n",
       "    }\n",
       "\n",
       "    .dataframe thead th {\n",
       "        text-align: right;\n",
       "    }\n",
       "</style>\n",
       "<table border=\"1\" class=\"dataframe\">\n",
       "  <thead>\n",
       "    <tr style=\"text-align: right;\">\n",
       "      <th></th>\n",
       "      <th>id</th>\n",
       "      <th>search_log_id</th>\n",
       "      <th>adults</th>\n",
       "      <th>children</th>\n",
       "      <th>picked_price</th>\n",
       "      <th>picked_room</th>\n",
       "    </tr>\n",
       "  </thead>\n",
       "  <tbody>\n",
       "    <tr>\n",
       "      <th>0</th>\n",
       "      <td>3782</td>\n",
       "      <td>76486</td>\n",
       "      <td>2</td>\n",
       "      <td>0</td>\n",
       "      <td>NaN</td>\n",
       "      <td>NaN</td>\n",
       "    </tr>\n",
       "    <tr>\n",
       "      <th>1</th>\n",
       "      <td>3824</td>\n",
       "      <td>76528</td>\n",
       "      <td>2</td>\n",
       "      <td>0</td>\n",
       "      <td>NaN</td>\n",
       "      <td>NaN</td>\n",
       "    </tr>\n",
       "    <tr>\n",
       "      <th>2</th>\n",
       "      <td>3837</td>\n",
       "      <td>76541</td>\n",
       "      <td>2</td>\n",
       "      <td>0</td>\n",
       "      <td>NaN</td>\n",
       "      <td>NaN</td>\n",
       "    </tr>\n",
       "    <tr>\n",
       "      <th>3</th>\n",
       "      <td>3838</td>\n",
       "      <td>76542</td>\n",
       "      <td>2</td>\n",
       "      <td>0</td>\n",
       "      <td>NaN</td>\n",
       "      <td>NaN</td>\n",
       "    </tr>\n",
       "    <tr>\n",
       "      <th>4</th>\n",
       "      <td>3839</td>\n",
       "      <td>76543</td>\n",
       "      <td>2</td>\n",
       "      <td>3</td>\n",
       "      <td>NaN</td>\n",
       "      <td>NaN</td>\n",
       "    </tr>\n",
       "  </tbody>\n",
       "</table>\n",
       "</div>"
      ],
      "text/plain": [
       "     id  search_log_id  adults  children  picked_price picked_room\n",
       "0  3782          76486       2         0           NaN         NaN\n",
       "1  3824          76528       2         0           NaN         NaN\n",
       "2  3837          76541       2         0           NaN         NaN\n",
       "3  3838          76542       2         0           NaN         NaN\n",
       "4  3839          76543       2         3           NaN         NaN"
      ]
     },
     "execution_count": 49,
     "metadata": {},
     "output_type": "execute_result"
    }
   ],
   "source": [
    "room.head(5)"
   ]
  },
  {
   "cell_type": "code",
   "execution_count": 50,
   "id": "ef8dab33-81dd-4212-a11b-96a93f8c920c",
   "metadata": {},
   "outputs": [
    {
     "data": {
      "text/plain": [
       "17479"
      ]
     },
     "execution_count": 50,
     "metadata": {},
     "output_type": "execute_result"
    }
   ],
   "source": [
    "len(room)"
   ]
  },
  {
   "cell_type": "code",
   "execution_count": 51,
   "id": "8ba6d630-260d-4811-9bf5-c92edd750481",
   "metadata": {},
   "outputs": [
    {
     "data": {
      "text/plain": [
       "15725"
      ]
     },
     "execution_count": 51,
     "metadata": {},
     "output_type": "execute_result"
    }
   ],
   "source": [
    "len(room['search_log_id'].unique())"
   ]
  },
  {
   "cell_type": "code",
   "execution_count": 52,
   "id": "0b200765-506c-4e1d-ae16-9074a01e6a6c",
   "metadata": {},
   "outputs": [
    {
     "data": {
      "text/plain": [
       "id                   0\n",
       "search_log_id        0\n",
       "adults               0\n",
       "children             0\n",
       "picked_price     16832\n",
       "picked_room      16832\n",
       "dtype: int64"
      ]
     },
     "execution_count": 52,
     "metadata": {},
     "output_type": "execute_result"
    }
   ],
   "source": [
    "room.isna().sum()"
   ]
  },
  {
   "cell_type": "code",
   "execution_count": 53,
   "id": "b52028c7-63e2-4e82-a01a-b5a17664593a",
   "metadata": {},
   "outputs": [
    {
     "data": {
      "text/plain": [
       "647"
      ]
     },
     "execution_count": 53,
     "metadata": {},
     "output_type": "execute_result"
    }
   ],
   "source": [
    "17479-16832"
   ]
  },
  {
   "cell_type": "code",
   "execution_count": 54,
   "id": "707be87d-b258-4e18-a0ab-d6f1d25761f8",
   "metadata": {},
   "outputs": [
    {
     "data": {
      "text/html": [
       "<div>\n",
       "<style scoped>\n",
       "    .dataframe tbody tr th:only-of-type {\n",
       "        vertical-align: middle;\n",
       "    }\n",
       "\n",
       "    .dataframe tbody tr th {\n",
       "        vertical-align: top;\n",
       "    }\n",
       "\n",
       "    .dataframe thead th {\n",
       "        text-align: right;\n",
       "    }\n",
       "</style>\n",
       "<table border=\"1\" class=\"dataframe\">\n",
       "  <thead>\n",
       "    <tr style=\"text-align: right;\">\n",
       "      <th></th>\n",
       "      <th>id</th>\n",
       "      <th>search_log_id</th>\n",
       "      <th>adults</th>\n",
       "      <th>children</th>\n",
       "      <th>picked_price</th>\n",
       "      <th>picked_room</th>\n",
       "    </tr>\n",
       "  </thead>\n",
       "  <tbody>\n",
       "  </tbody>\n",
       "</table>\n",
       "</div>"
      ],
      "text/plain": [
       "Empty DataFrame\n",
       "Columns: [id, search_log_id, adults, children, picked_price, picked_room]\n",
       "Index: []"
      ]
     },
     "execution_count": 54,
     "metadata": {},
     "output_type": "execute_result"
    }
   ],
   "source": [
    "#no duplicated rows\n",
    "room[room.duplicated()]"
   ]
  },
  {
   "cell_type": "code",
   "execution_count": 55,
   "id": "24054bed-58f5-4e8e-93ea-5fe5b8f27b47",
   "metadata": {},
   "outputs": [],
   "source": [
    "room.to_csv('./../Morgens_notebooks/HOTEL_2/Clean_data/room_hotel_2.csv')"
   ]
  },
  {
   "cell_type": "markdown",
   "id": "08ba3f9f-21c2-4b9d-92fb-4ba13dfdfb2b",
   "metadata": {},
   "source": [
    "#### 6 -   ROOM_OFFER\n",
    "\n",
    "- 53566 sor\n",
    "-  adattípusok OK\n",
    "-  room price min and max can be equal! \n",
    "- room price: EUR/HUF keveredik"
   ]
  },
  {
   "cell_type": "code",
   "execution_count": 57,
   "id": "50706a6f-4fa6-493f-b1e5-549d67e7b329",
   "metadata": {},
   "outputs": [],
   "source": [
    "room_offer = pd.read_csv('./../Morgens_notebooks/HOTEL_2/Original_data/search_log_room_offer_hotel_2.csv', sep=\";\")\n"
   ]
  },
  {
   "cell_type": "code",
   "execution_count": 58,
   "id": "7f4c4bde-3be7-4070-a9c0-f5f4c9e6988a",
   "metadata": {},
   "outputs": [
    {
     "data": {
      "text/html": [
       "<div>\n",
       "<style scoped>\n",
       "    .dataframe tbody tr th:only-of-type {\n",
       "        vertical-align: middle;\n",
       "    }\n",
       "\n",
       "    .dataframe tbody tr th {\n",
       "        vertical-align: top;\n",
       "    }\n",
       "\n",
       "    .dataframe thead th {\n",
       "        text-align: right;\n",
       "    }\n",
       "</style>\n",
       "<table border=\"1\" class=\"dataframe\">\n",
       "  <thead>\n",
       "    <tr style=\"text-align: right;\">\n",
       "      <th></th>\n",
       "      <th>id</th>\n",
       "      <th>search_log_id</th>\n",
       "      <th>search_log_room_id</th>\n",
       "      <th>room_code</th>\n",
       "      <th>room_price_min</th>\n",
       "      <th>room_price_max</th>\n",
       "    </tr>\n",
       "  </thead>\n",
       "  <tbody>\n",
       "    <tr>\n",
       "      <th>53563</th>\n",
       "      <td>90808</td>\n",
       "      <td>98918</td>\n",
       "      <td>28095</td>\n",
       "      <td>ROOMBB</td>\n",
       "      <td>709.5</td>\n",
       "      <td>981.75</td>\n",
       "    </tr>\n",
       "    <tr>\n",
       "      <th>53564</th>\n",
       "      <td>90809</td>\n",
       "      <td>98923</td>\n",
       "      <td>28100</td>\n",
       "      <td>ROOMEE</td>\n",
       "      <td>380970.0</td>\n",
       "      <td>523057.50</td>\n",
       "    </tr>\n",
       "    <tr>\n",
       "      <th>53565</th>\n",
       "      <td>90810</td>\n",
       "      <td>98923</td>\n",
       "      <td>28100</td>\n",
       "      <td>ROOMHH</td>\n",
       "      <td>445770.0</td>\n",
       "      <td>606513.50</td>\n",
       "    </tr>\n",
       "  </tbody>\n",
       "</table>\n",
       "</div>"
      ],
      "text/plain": [
       "          id  search_log_id  search_log_room_id room_code  room_price_min  \\\n",
       "53563  90808          98918               28095    ROOMBB           709.5   \n",
       "53564  90809          98923               28100    ROOMEE        380970.0   \n",
       "53565  90810          98923               28100    ROOMHH        445770.0   \n",
       "\n",
       "       room_price_max  \n",
       "53563          981.75  \n",
       "53564       523057.50  \n",
       "53565       606513.50  "
      ]
     },
     "execution_count": 58,
     "metadata": {},
     "output_type": "execute_result"
    }
   ],
   "source": [
    "room_offer.tail(3)"
   ]
  },
  {
   "cell_type": "code",
   "execution_count": 59,
   "id": "c538b2ac-439b-4def-b9d2-b985b9e5890d",
   "metadata": {},
   "outputs": [
    {
     "data": {
      "text/plain": [
       "53566"
      ]
     },
     "execution_count": 59,
     "metadata": {},
     "output_type": "execute_result"
    }
   ],
   "source": [
    "len(room_offer)"
   ]
  },
  {
   "cell_type": "code",
   "execution_count": 60,
   "id": "9ed7cfad-3117-448b-a984-5f8bbeeea63f",
   "metadata": {},
   "outputs": [
    {
     "data": {
      "text/plain": [
       "53566"
      ]
     },
     "execution_count": 60,
     "metadata": {},
     "output_type": "execute_result"
    }
   ],
   "source": [
    "len(room_offer['id'].unique())"
   ]
  },
  {
   "cell_type": "code",
   "execution_count": 61,
   "id": "80d6b35e-7293-4bc7-be5d-5cd96a6eded0",
   "metadata": {},
   "outputs": [
    {
     "data": {
      "text/plain": [
       "13086"
      ]
     },
     "execution_count": 61,
     "metadata": {},
     "output_type": "execute_result"
    }
   ],
   "source": [
    "len(room_offer['search_log_id'].unique())"
   ]
  },
  {
   "cell_type": "code",
   "execution_count": 62,
   "id": "76d7c9c0-5406-4781-8002-acc7684821eb",
   "metadata": {},
   "outputs": [
    {
     "data": {
      "text/plain": [
       "14450"
      ]
     },
     "execution_count": 62,
     "metadata": {},
     "output_type": "execute_result"
    }
   ],
   "source": [
    "len(room_offer['search_log_room_id'].unique())"
   ]
  },
  {
   "cell_type": "code",
   "execution_count": 63,
   "id": "687d3e2f-3e4d-41fc-8c96-fb6b9d8ee57a",
   "metadata": {},
   "outputs": [
    {
     "data": {
      "text/plain": [
       "id                    0\n",
       "search_log_id         0\n",
       "search_log_room_id    0\n",
       "room_code             0\n",
       "room_price_min        0\n",
       "room_price_max        0\n",
       "dtype: int64"
      ]
     },
     "execution_count": 63,
     "metadata": {},
     "output_type": "execute_result"
    }
   ],
   "source": [
    "room_offer.isna().sum()"
   ]
  },
  {
   "cell_type": "code",
   "execution_count": 64,
   "id": "1f505b75-1736-4a7d-a105-5a0f2318c6da",
   "metadata": {},
   "outputs": [
    {
     "data": {
      "text/html": [
       "<div>\n",
       "<style scoped>\n",
       "    .dataframe tbody tr th:only-of-type {\n",
       "        vertical-align: middle;\n",
       "    }\n",
       "\n",
       "    .dataframe tbody tr th {\n",
       "        vertical-align: top;\n",
       "    }\n",
       "\n",
       "    .dataframe thead th {\n",
       "        text-align: right;\n",
       "    }\n",
       "</style>\n",
       "<table border=\"1\" class=\"dataframe\">\n",
       "  <thead>\n",
       "    <tr style=\"text-align: right;\">\n",
       "      <th></th>\n",
       "      <th>id</th>\n",
       "      <th>search_log_id</th>\n",
       "      <th>search_log_room_id</th>\n",
       "      <th>room_code</th>\n",
       "      <th>room_price_min</th>\n",
       "      <th>room_price_max</th>\n",
       "    </tr>\n",
       "  </thead>\n",
       "  <tbody>\n",
       "  </tbody>\n",
       "</table>\n",
       "</div>"
      ],
      "text/plain": [
       "Empty DataFrame\n",
       "Columns: [id, search_log_id, search_log_room_id, room_code, room_price_min, room_price_max]\n",
       "Index: []"
      ]
     },
     "execution_count": 64,
     "metadata": {},
     "output_type": "execute_result"
    }
   ],
   "source": [
    "#no duplicated rows\n",
    "room_offer[room_offer.duplicated()]"
   ]
  },
  {
   "cell_type": "code",
   "execution_count": 65,
   "id": "07609fc0-1dcf-43ef-b88f-9a4374855676",
   "metadata": {},
   "outputs": [],
   "source": [
    "room_offer.to_csv('./../Morgens_notebooks/HOTEL_2/Clean_data/room_offer_hotel_2.csv')"
   ]
  },
  {
   "cell_type": "markdown",
   "id": "1a7091cc-3f55-4143-aac1-2bb64f0b2d06",
   "metadata": {},
   "source": [
    "#### 7 -  Session\n",
    "- 9327 sor\n",
    "- üres sorok a utm-es oszlopokban, amik nem fontosak a Morgens szerint"
   ]
  },
  {
   "cell_type": "code",
   "execution_count": 67,
   "id": "772e3cce-c5f3-4783-86c8-631e05cb9314",
   "metadata": {},
   "outputs": [],
   "source": [
    "session = pd.read_csv('./../Morgens_notebooks/HOTEL_2/Original_data/search_log_session_hotel_2.csv', sep=\";\")"
   ]
  },
  {
   "cell_type": "code",
   "execution_count": 68,
   "id": "0102be60-fde0-4801-a20b-729d92879697",
   "metadata": {},
   "outputs": [
    {
     "data": {
      "text/html": [
       "<div>\n",
       "<style scoped>\n",
       "    .dataframe tbody tr th:only-of-type {\n",
       "        vertical-align: middle;\n",
       "    }\n",
       "\n",
       "    .dataframe tbody tr th {\n",
       "        vertical-align: top;\n",
       "    }\n",
       "\n",
       "    .dataframe thead th {\n",
       "        text-align: right;\n",
       "    }\n",
       "</style>\n",
       "<table border=\"1\" class=\"dataframe\">\n",
       "  <thead>\n",
       "    <tr style=\"text-align: right;\">\n",
       "      <th></th>\n",
       "      <th>id</th>\n",
       "      <th>uuid</th>\n",
       "      <th>session_id</th>\n",
       "      <th>utm_source</th>\n",
       "      <th>utm_medium</th>\n",
       "      <th>utm_campaign</th>\n",
       "    </tr>\n",
       "  </thead>\n",
       "  <tbody>\n",
       "    <tr>\n",
       "      <th>0</th>\n",
       "      <td>2476</td>\n",
       "      <td>1895344029.1724419415</td>\n",
       "      <td>1726611121</td>\n",
       "      <td>NaN</td>\n",
       "      <td>NaN</td>\n",
       "      <td>(not set)</td>\n",
       "    </tr>\n",
       "    <tr>\n",
       "      <th>1</th>\n",
       "      <td>2518</td>\n",
       "      <td>329676168.1726611727</td>\n",
       "      <td>1726611777</td>\n",
       "      <td>google</td>\n",
       "      <td>cpc</td>\n",
       "      <td>(not set)</td>\n",
       "    </tr>\n",
       "    <tr>\n",
       "      <th>2</th>\n",
       "      <td>2531</td>\n",
       "      <td>1097283936.1726622460</td>\n",
       "      <td>1726623102</td>\n",
       "      <td>NaN</td>\n",
       "      <td>NaN</td>\n",
       "      <td>(not set)</td>\n",
       "    </tr>\n",
       "    <tr>\n",
       "      <th>3</th>\n",
       "      <td>2532</td>\n",
       "      <td>1609422878.1726626176</td>\n",
       "      <td>1726626233</td>\n",
       "      <td>google</td>\n",
       "      <td>cpc</td>\n",
       "      <td>(not set)</td>\n",
       "    </tr>\n",
       "    <tr>\n",
       "      <th>4</th>\n",
       "      <td>2533</td>\n",
       "      <td>444319917.1726628638</td>\n",
       "      <td>1726628866</td>\n",
       "      <td>facebook</td>\n",
       "      <td>cpc</td>\n",
       "      <td>campaign_1</td>\n",
       "    </tr>\n",
       "  </tbody>\n",
       "</table>\n",
       "</div>"
      ],
      "text/plain": [
       "     id                   uuid  session_id utm_source utm_medium utm_campaign\n",
       "0  2476  1895344029.1724419415  1726611121        NaN        NaN    (not set)\n",
       "1  2518   329676168.1726611727  1726611777     google        cpc    (not set)\n",
       "2  2531  1097283936.1726622460  1726623102        NaN        NaN    (not set)\n",
       "3  2532  1609422878.1726626176  1726626233     google        cpc    (not set)\n",
       "4  2533   444319917.1726628638  1726628866   facebook        cpc   campaign_1"
      ]
     },
     "execution_count": 68,
     "metadata": {},
     "output_type": "execute_result"
    }
   ],
   "source": [
    "session.head()"
   ]
  },
  {
   "cell_type": "code",
   "execution_count": 69,
   "id": "6cb0d0de-a560-47c9-8a4c-8417102ad1db",
   "metadata": {},
   "outputs": [
    {
     "data": {
      "text/plain": [
       "9327"
      ]
     },
     "execution_count": 69,
     "metadata": {},
     "output_type": "execute_result"
    }
   ],
   "source": [
    "len(session)"
   ]
  },
  {
   "cell_type": "code",
   "execution_count": 70,
   "id": "662e70f1-6718-49d2-aecb-f43682d1a452",
   "metadata": {},
   "outputs": [
    {
     "data": {
      "text/plain": [
       "id                0\n",
       "uuid              0\n",
       "session_id        0\n",
       "utm_source      434\n",
       "utm_medium      434\n",
       "utm_campaign     14\n",
       "dtype: int64"
      ]
     },
     "execution_count": 70,
     "metadata": {},
     "output_type": "execute_result"
    }
   ],
   "source": [
    "session.isna().sum()"
   ]
  },
  {
   "cell_type": "code",
   "execution_count": 71,
   "id": "56767159-88d1-4c40-92d8-7e91b9217a5f",
   "metadata": {},
   "outputs": [
    {
     "data": {
      "text/html": [
       "<div>\n",
       "<style scoped>\n",
       "    .dataframe tbody tr th:only-of-type {\n",
       "        vertical-align: middle;\n",
       "    }\n",
       "\n",
       "    .dataframe tbody tr th {\n",
       "        vertical-align: top;\n",
       "    }\n",
       "\n",
       "    .dataframe thead th {\n",
       "        text-align: right;\n",
       "    }\n",
       "</style>\n",
       "<table border=\"1\" class=\"dataframe\">\n",
       "  <thead>\n",
       "    <tr style=\"text-align: right;\">\n",
       "      <th></th>\n",
       "      <th>id</th>\n",
       "      <th>uuid</th>\n",
       "      <th>session_id</th>\n",
       "      <th>utm_medium</th>\n",
       "      <th>utm_campaign</th>\n",
       "    </tr>\n",
       "    <tr>\n",
       "      <th>utm_source</th>\n",
       "      <th></th>\n",
       "      <th></th>\n",
       "      <th></th>\n",
       "      <th></th>\n",
       "      <th></th>\n",
       "    </tr>\n",
       "  </thead>\n",
       "  <tbody>\n",
       "    <tr>\n",
       "      <th>(direct)</th>\n",
       "      <td>939</td>\n",
       "      <td>939</td>\n",
       "      <td>939</td>\n",
       "      <td>939</td>\n",
       "      <td>939</td>\n",
       "    </tr>\n",
       "    <tr>\n",
       "      <th>ajanlat</th>\n",
       "      <td>25</td>\n",
       "      <td>25</td>\n",
       "      <td>25</td>\n",
       "      <td>25</td>\n",
       "      <td>25</td>\n",
       "    </tr>\n",
       "    <tr>\n",
       "      <th>app.optimonk.com</th>\n",
       "      <td>1</td>\n",
       "      <td>1</td>\n",
       "      <td>1</td>\n",
       "      <td>1</td>\n",
       "      <td>1</td>\n",
       "    </tr>\n",
       "    <tr>\n",
       "      <th>bing</th>\n",
       "      <td>196</td>\n",
       "      <td>196</td>\n",
       "      <td>196</td>\n",
       "      <td>196</td>\n",
       "      <td>196</td>\n",
       "    </tr>\n",
       "    <tr>\n",
       "      <th>cdn.respond.io</th>\n",
       "      <td>3</td>\n",
       "      <td>3</td>\n",
       "      <td>3</td>\n",
       "      <td>3</td>\n",
       "      <td>3</td>\n",
       "    </tr>\n",
       "    <tr>\n",
       "      <th>checkout.simplepay.hu</th>\n",
       "      <td>12</td>\n",
       "      <td>12</td>\n",
       "      <td>12</td>\n",
       "      <td>12</td>\n",
       "      <td>12</td>\n",
       "    </tr>\n",
       "    <tr>\n",
       "      <th>duckduckgo.com</th>\n",
       "      <td>6</td>\n",
       "      <td>6</td>\n",
       "      <td>6</td>\n",
       "      <td>6</td>\n",
       "      <td>6</td>\n",
       "    </tr>\n",
       "    <tr>\n",
       "      <th>facebook</th>\n",
       "      <td>702</td>\n",
       "      <td>702</td>\n",
       "      <td>702</td>\n",
       "      <td>702</td>\n",
       "      <td>702</td>\n",
       "    </tr>\n",
       "    <tr>\n",
       "      <th>fb</th>\n",
       "      <td>3</td>\n",
       "      <td>3</td>\n",
       "      <td>3</td>\n",
       "      <td>3</td>\n",
       "      <td>3</td>\n",
       "    </tr>\n",
       "    <tr>\n",
       "      <th>google</th>\n",
       "      <td>6534</td>\n",
       "      <td>6534</td>\n",
       "      <td>6534</td>\n",
       "      <td>6534</td>\n",
       "      <td>6520</td>\n",
       "    </tr>\n",
       "    <tr>\n",
       "      <th>hirlevel</th>\n",
       "      <td>2</td>\n",
       "      <td>2</td>\n",
       "      <td>2</td>\n",
       "      <td>2</td>\n",
       "      <td>2</td>\n",
       "    </tr>\n",
       "    <tr>\n",
       "      <th>hirlevel_s1</th>\n",
       "      <td>16</td>\n",
       "      <td>16</td>\n",
       "      <td>16</td>\n",
       "      <td>16</td>\n",
       "      <td>16</td>\n",
       "    </tr>\n",
       "    <tr>\n",
       "      <th>hirlevel_s3</th>\n",
       "      <td>108</td>\n",
       "      <td>108</td>\n",
       "      <td>108</td>\n",
       "      <td>108</td>\n",
       "      <td>108</td>\n",
       "    </tr>\n",
       "    <tr>\n",
       "      <th>instagram</th>\n",
       "      <td>34</td>\n",
       "      <td>34</td>\n",
       "      <td>34</td>\n",
       "      <td>34</td>\n",
       "      <td>34</td>\n",
       "    </tr>\n",
       "    <tr>\n",
       "      <th>kereso.startlap.hu</th>\n",
       "      <td>6</td>\n",
       "      <td>6</td>\n",
       "      <td>6</td>\n",
       "      <td>6</td>\n",
       "      <td>6</td>\n",
       "    </tr>\n",
       "    <tr>\n",
       "      <th>l.facebook.com</th>\n",
       "      <td>105</td>\n",
       "      <td>105</td>\n",
       "      <td>105</td>\n",
       "      <td>105</td>\n",
       "      <td>105</td>\n",
       "    </tr>\n",
       "    <tr>\n",
       "      <th>l.instagram.com</th>\n",
       "      <td>14</td>\n",
       "      <td>14</td>\n",
       "      <td>14</td>\n",
       "      <td>14</td>\n",
       "      <td>14</td>\n",
       "    </tr>\n",
       "    <tr>\n",
       "      <th>live</th>\n",
       "      <td>28</td>\n",
       "      <td>28</td>\n",
       "      <td>28</td>\n",
       "      <td>28</td>\n",
       "      <td>28</td>\n",
       "    </tr>\n",
       "    <tr>\n",
       "      <th>lm.facebook.com</th>\n",
       "      <td>10</td>\n",
       "      <td>10</td>\n",
       "      <td>10</td>\n",
       "      <td>10</td>\n",
       "      <td>10</td>\n",
       "    </tr>\n",
       "    <tr>\n",
       "      <th>loyalty</th>\n",
       "      <td>1</td>\n",
       "      <td>1</td>\n",
       "      <td>1</td>\n",
       "      <td>1</td>\n",
       "      <td>1</td>\n",
       "    </tr>\n",
       "    <tr>\n",
       "      <th>m.facebook.com</th>\n",
       "      <td>58</td>\n",
       "      <td>58</td>\n",
       "      <td>58</td>\n",
       "      <td>58</td>\n",
       "      <td>58</td>\n",
       "    </tr>\n",
       "    <tr>\n",
       "      <th>m.hvg.hu</th>\n",
       "      <td>1</td>\n",
       "      <td>1</td>\n",
       "      <td>1</td>\n",
       "      <td>1</td>\n",
       "      <td>1</td>\n",
       "    </tr>\n",
       "    <tr>\n",
       "      <th>ntp.msn.com</th>\n",
       "      <td>1</td>\n",
       "      <td>1</td>\n",
       "      <td>1</td>\n",
       "      <td>1</td>\n",
       "      <td>1</td>\n",
       "    </tr>\n",
       "    <tr>\n",
       "      <th>other</th>\n",
       "      <td>4</td>\n",
       "      <td>4</td>\n",
       "      <td>4</td>\n",
       "      <td>4</td>\n",
       "      <td>4</td>\n",
       "    </tr>\n",
       "    <tr>\n",
       "      <th>phone</th>\n",
       "      <td>6</td>\n",
       "      <td>6</td>\n",
       "      <td>6</td>\n",
       "      <td>6</td>\n",
       "      <td>6</td>\n",
       "    </tr>\n",
       "    <tr>\n",
       "      <th>redir.d-edgeconnect.media</th>\n",
       "      <td>25</td>\n",
       "      <td>25</td>\n",
       "      <td>25</td>\n",
       "      <td>25</td>\n",
       "      <td>25</td>\n",
       "    </tr>\n",
       "    <tr>\n",
       "      <th>securepay.simplepay.hu</th>\n",
       "      <td>1</td>\n",
       "      <td>1</td>\n",
       "      <td>1</td>\n",
       "      <td>1</td>\n",
       "      <td>1</td>\n",
       "    </tr>\n",
       "    <tr>\n",
       "      <th>source_1</th>\n",
       "      <td>1</td>\n",
       "      <td>1</td>\n",
       "      <td>1</td>\n",
       "      <td>1</td>\n",
       "      <td>1</td>\n",
       "    </tr>\n",
       "    <tr>\n",
       "      <th>source_5</th>\n",
       "      <td>1</td>\n",
       "      <td>1</td>\n",
       "      <td>1</td>\n",
       "      <td>1</td>\n",
       "      <td>1</td>\n",
       "    </tr>\n",
       "    <tr>\n",
       "      <th>source_6</th>\n",
       "      <td>1</td>\n",
       "      <td>1</td>\n",
       "      <td>1</td>\n",
       "      <td>1</td>\n",
       "      <td>1</td>\n",
       "    </tr>\n",
       "    <tr>\n",
       "      <th>source_7</th>\n",
       "      <td>1</td>\n",
       "      <td>1</td>\n",
       "      <td>1</td>\n",
       "      <td>1</td>\n",
       "      <td>1</td>\n",
       "    </tr>\n",
       "    <tr>\n",
       "      <th>statics.teams.cdn.office.net</th>\n",
       "      <td>1</td>\n",
       "      <td>1</td>\n",
       "      <td>1</td>\n",
       "      <td>1</td>\n",
       "      <td>1</td>\n",
       "    </tr>\n",
       "    <tr>\n",
       "      <th>system.paymentgateway.hu</th>\n",
       "      <td>5</td>\n",
       "      <td>5</td>\n",
       "      <td>5</td>\n",
       "      <td>5</td>\n",
       "      <td>5</td>\n",
       "    </tr>\n",
       "    <tr>\n",
       "      <th>www.connexservice.com</th>\n",
       "      <td>2</td>\n",
       "      <td>2</td>\n",
       "      <td>2</td>\n",
       "      <td>2</td>\n",
       "      <td>2</td>\n",
       "    </tr>\n",
       "    <tr>\n",
       "      <th>www.familypark.at</th>\n",
       "      <td>9</td>\n",
       "      <td>9</td>\n",
       "      <td>9</td>\n",
       "      <td>9</td>\n",
       "      <td>9</td>\n",
       "    </tr>\n",
       "    <tr>\n",
       "      <th>www.glamour.hu</th>\n",
       "      <td>1</td>\n",
       "      <td>1</td>\n",
       "      <td>1</td>\n",
       "      <td>1</td>\n",
       "      <td>1</td>\n",
       "    </tr>\n",
       "    <tr>\n",
       "      <th>www.kapu.hu</th>\n",
       "      <td>1</td>\n",
       "      <td>1</td>\n",
       "      <td>1</td>\n",
       "      <td>1</td>\n",
       "      <td>1</td>\n",
       "    </tr>\n",
       "    <tr>\n",
       "      <th>www.otpbankdirekt.hu</th>\n",
       "      <td>4</td>\n",
       "      <td>4</td>\n",
       "      <td>4</td>\n",
       "      <td>4</td>\n",
       "      <td>4</td>\n",
       "    </tr>\n",
       "    <tr>\n",
       "      <th>www.qwant.com</th>\n",
       "      <td>1</td>\n",
       "      <td>1</td>\n",
       "      <td>1</td>\n",
       "      <td>1</td>\n",
       "      <td>1</td>\n",
       "    </tr>\n",
       "    <tr>\n",
       "      <th>www.saferpay.com</th>\n",
       "      <td>3</td>\n",
       "      <td>3</td>\n",
       "      <td>3</td>\n",
       "      <td>3</td>\n",
       "      <td>3</td>\n",
       "    </tr>\n",
       "    <tr>\n",
       "      <th>www.thermengutscheine.at</th>\n",
       "      <td>2</td>\n",
       "      <td>2</td>\n",
       "      <td>2</td>\n",
       "      <td>2</td>\n",
       "      <td>2</td>\n",
       "    </tr>\n",
       "    <tr>\n",
       "      <th>www.thermenhotels.at</th>\n",
       "      <td>2</td>\n",
       "      <td>2</td>\n",
       "      <td>2</td>\n",
       "      <td>2</td>\n",
       "      <td>2</td>\n",
       "    </tr>\n",
       "    <tr>\n",
       "      <th>www.wellcard.at</th>\n",
       "      <td>8</td>\n",
       "      <td>8</td>\n",
       "      <td>8</td>\n",
       "      <td>8</td>\n",
       "      <td>8</td>\n",
       "    </tr>\n",
       "    <tr>\n",
       "      <th>www.youtube.com</th>\n",
       "      <td>1</td>\n",
       "      <td>1</td>\n",
       "      <td>1</td>\n",
       "      <td>1</td>\n",
       "      <td>1</td>\n",
       "    </tr>\n",
       "    <tr>\n",
       "      <th>yahoo</th>\n",
       "      <td>6</td>\n",
       "      <td>6</td>\n",
       "      <td>6</td>\n",
       "      <td>6</td>\n",
       "      <td>6</td>\n",
       "    </tr>\n",
       "    <tr>\n",
       "      <th>zadir.hu</th>\n",
       "      <td>2</td>\n",
       "      <td>2</td>\n",
       "      <td>2</td>\n",
       "      <td>2</td>\n",
       "      <td>2</td>\n",
       "    </tr>\n",
       "  </tbody>\n",
       "</table>\n",
       "</div>"
      ],
      "text/plain": [
       "                                id  uuid  session_id  utm_medium  utm_campaign\n",
       "utm_source                                                                    \n",
       "(direct)                       939   939         939         939           939\n",
       "ajanlat                         25    25          25          25            25\n",
       "app.optimonk.com                 1     1           1           1             1\n",
       "bing                           196   196         196         196           196\n",
       "cdn.respond.io                   3     3           3           3             3\n",
       "checkout.simplepay.hu           12    12          12          12            12\n",
       "duckduckgo.com                   6     6           6           6             6\n",
       "facebook                       702   702         702         702           702\n",
       "fb                               3     3           3           3             3\n",
       "google                        6534  6534        6534        6534          6520\n",
       "hirlevel                         2     2           2           2             2\n",
       "hirlevel_s1                     16    16          16          16            16\n",
       "hirlevel_s3                    108   108         108         108           108\n",
       "instagram                       34    34          34          34            34\n",
       "kereso.startlap.hu               6     6           6           6             6\n",
       "l.facebook.com                 105   105         105         105           105\n",
       "l.instagram.com                 14    14          14          14            14\n",
       "live                            28    28          28          28            28\n",
       "lm.facebook.com                 10    10          10          10            10\n",
       "loyalty                          1     1           1           1             1\n",
       "m.facebook.com                  58    58          58          58            58\n",
       "m.hvg.hu                         1     1           1           1             1\n",
       "ntp.msn.com                      1     1           1           1             1\n",
       "other                            4     4           4           4             4\n",
       "phone                            6     6           6           6             6\n",
       "redir.d-edgeconnect.media       25    25          25          25            25\n",
       "securepay.simplepay.hu           1     1           1           1             1\n",
       "source_1                         1     1           1           1             1\n",
       "source_5                         1     1           1           1             1\n",
       "source_6                         1     1           1           1             1\n",
       "source_7                         1     1           1           1             1\n",
       "statics.teams.cdn.office.net     1     1           1           1             1\n",
       "system.paymentgateway.hu         5     5           5           5             5\n",
       "www.connexservice.com            2     2           2           2             2\n",
       "www.familypark.at                9     9           9           9             9\n",
       "www.glamour.hu                   1     1           1           1             1\n",
       "www.kapu.hu                      1     1           1           1             1\n",
       "www.otpbankdirekt.hu             4     4           4           4             4\n",
       "www.qwant.com                    1     1           1           1             1\n",
       "www.saferpay.com                 3     3           3           3             3\n",
       "www.thermengutscheine.at         2     2           2           2             2\n",
       "www.thermenhotels.at             2     2           2           2             2\n",
       "www.wellcard.at                  8     8           8           8             8\n",
       "www.youtube.com                  1     1           1           1             1\n",
       "yahoo                            6     6           6           6             6\n",
       "zadir.hu                         2     2           2           2             2"
      ]
     },
     "execution_count": 71,
     "metadata": {},
     "output_type": "execute_result"
    }
   ],
   "source": [
    "session.groupby('utm_source').count()"
   ]
  },
  {
   "cell_type": "code",
   "execution_count": 72,
   "id": "8c36beb3-c75d-44ff-b0af-df4408b2dad6",
   "metadata": {},
   "outputs": [
    {
     "data": {
      "text/html": [
       "<div>\n",
       "<style scoped>\n",
       "    .dataframe tbody tr th:only-of-type {\n",
       "        vertical-align: middle;\n",
       "    }\n",
       "\n",
       "    .dataframe tbody tr th {\n",
       "        vertical-align: top;\n",
       "    }\n",
       "\n",
       "    .dataframe thead th {\n",
       "        text-align: right;\n",
       "    }\n",
       "</style>\n",
       "<table border=\"1\" class=\"dataframe\">\n",
       "  <thead>\n",
       "    <tr style=\"text-align: right;\">\n",
       "      <th></th>\n",
       "      <th>id</th>\n",
       "      <th>uuid</th>\n",
       "      <th>session_id</th>\n",
       "      <th>utm_source</th>\n",
       "      <th>utm_campaign</th>\n",
       "    </tr>\n",
       "    <tr>\n",
       "      <th>utm_medium</th>\n",
       "      <th></th>\n",
       "      <th></th>\n",
       "      <th></th>\n",
       "      <th></th>\n",
       "      <th></th>\n",
       "    </tr>\n",
       "  </thead>\n",
       "  <tbody>\n",
       "    <tr>\n",
       "      <th>(none)</th>\n",
       "      <td>939</td>\n",
       "      <td>939</td>\n",
       "      <td>939</td>\n",
       "      <td>939</td>\n",
       "      <td>939</td>\n",
       "    </tr>\n",
       "    <tr>\n",
       "      <th>cpc</th>\n",
       "      <td>6100</td>\n",
       "      <td>6100</td>\n",
       "      <td>6100</td>\n",
       "      <td>6100</td>\n",
       "      <td>6086</td>\n",
       "    </tr>\n",
       "    <tr>\n",
       "      <th>ct</th>\n",
       "      <td>126</td>\n",
       "      <td>126</td>\n",
       "      <td>126</td>\n",
       "      <td>126</td>\n",
       "      <td>126</td>\n",
       "    </tr>\n",
       "    <tr>\n",
       "      <th>email</th>\n",
       "      <td>16</td>\n",
       "      <td>16</td>\n",
       "      <td>16</td>\n",
       "      <td>16</td>\n",
       "      <td>16</td>\n",
       "    </tr>\n",
       "    <tr>\n",
       "      <th>offline</th>\n",
       "      <td>20</td>\n",
       "      <td>20</td>\n",
       "      <td>20</td>\n",
       "      <td>20</td>\n",
       "      <td>20</td>\n",
       "    </tr>\n",
       "    <tr>\n",
       "      <th>organic</th>\n",
       "      <td>1400</td>\n",
       "      <td>1400</td>\n",
       "      <td>1400</td>\n",
       "      <td>1400</td>\n",
       "      <td>1400</td>\n",
       "    </tr>\n",
       "    <tr>\n",
       "      <th>paid</th>\n",
       "      <td>3</td>\n",
       "      <td>3</td>\n",
       "      <td>3</td>\n",
       "      <td>3</td>\n",
       "      <td>3</td>\n",
       "    </tr>\n",
       "    <tr>\n",
       "      <th>referral</th>\n",
       "      <td>289</td>\n",
       "      <td>289</td>\n",
       "      <td>289</td>\n",
       "      <td>289</td>\n",
       "      <td>289</td>\n",
       "    </tr>\n",
       "  </tbody>\n",
       "</table>\n",
       "</div>"
      ],
      "text/plain": [
       "              id  uuid  session_id  utm_source  utm_campaign\n",
       "utm_medium                                                  \n",
       "(none)       939   939         939         939           939\n",
       "cpc         6100  6100        6100        6100          6086\n",
       "ct           126   126         126         126           126\n",
       "email         16    16          16          16            16\n",
       "offline       20    20          20          20            20\n",
       "organic     1400  1400        1400        1400          1400\n",
       "paid           3     3           3           3             3\n",
       "referral     289   289         289         289           289"
      ]
     },
     "execution_count": 72,
     "metadata": {},
     "output_type": "execute_result"
    }
   ],
   "source": [
    "session.groupby('utm_medium').count()"
   ]
  },
  {
   "cell_type": "code",
   "execution_count": 73,
   "id": "38a83844-fdce-45f6-9858-740d439ba12d",
   "metadata": {},
   "outputs": [
    {
     "data": {
      "text/html": [
       "<div>\n",
       "<style scoped>\n",
       "    .dataframe tbody tr th:only-of-type {\n",
       "        vertical-align: middle;\n",
       "    }\n",
       "\n",
       "    .dataframe tbody tr th {\n",
       "        vertical-align: top;\n",
       "    }\n",
       "\n",
       "    .dataframe thead th {\n",
       "        text-align: right;\n",
       "    }\n",
       "</style>\n",
       "<table border=\"1\" class=\"dataframe\">\n",
       "  <thead>\n",
       "    <tr style=\"text-align: right;\">\n",
       "      <th></th>\n",
       "      <th>id</th>\n",
       "      <th>uuid</th>\n",
       "      <th>session_id</th>\n",
       "      <th>utm_source</th>\n",
       "      <th>utm_medium</th>\n",
       "    </tr>\n",
       "    <tr>\n",
       "      <th>utm_campaign</th>\n",
       "      <th></th>\n",
       "      <th></th>\n",
       "      <th></th>\n",
       "      <th></th>\n",
       "      <th></th>\n",
       "    </tr>\n",
       "  </thead>\n",
       "  <tbody>\n",
       "    <tr>\n",
       "      <th>(not set)</th>\n",
       "      <td>8170</td>\n",
       "      <td>8170</td>\n",
       "      <td>8170</td>\n",
       "      <td>7736</td>\n",
       "      <td>7736</td>\n",
       "    </tr>\n",
       "    <tr>\n",
       "      <th>(not+set)</th>\n",
       "      <td>17</td>\n",
       "      <td>17</td>\n",
       "      <td>17</td>\n",
       "      <td>17</td>\n",
       "      <td>17</td>\n",
       "    </tr>\n",
       "    <tr>\n",
       "      <th>AT</th>\n",
       "      <td>23</td>\n",
       "      <td>23</td>\n",
       "      <td>23</td>\n",
       "      <td>23</td>\n",
       "      <td>23</td>\n",
       "    </tr>\n",
       "    <tr>\n",
       "      <th>HU</th>\n",
       "      <td>82</td>\n",
       "      <td>82</td>\n",
       "      <td>82</td>\n",
       "      <td>82</td>\n",
       "      <td>82</td>\n",
       "    </tr>\n",
       "    <tr>\n",
       "      <th>campaign_1</th>\n",
       "      <td>735</td>\n",
       "      <td>735</td>\n",
       "      <td>735</td>\n",
       "      <td>735</td>\n",
       "      <td>735</td>\n",
       "    </tr>\n",
       "    <tr>\n",
       "      <th>campaign_10</th>\n",
       "      <td>16</td>\n",
       "      <td>16</td>\n",
       "      <td>16</td>\n",
       "      <td>16</td>\n",
       "      <td>16</td>\n",
       "    </tr>\n",
       "    <tr>\n",
       "      <th>campaign_13</th>\n",
       "      <td>3</td>\n",
       "      <td>3</td>\n",
       "      <td>3</td>\n",
       "      <td>3</td>\n",
       "      <td>3</td>\n",
       "    </tr>\n",
       "    <tr>\n",
       "      <th>campaign_15</th>\n",
       "      <td>1</td>\n",
       "      <td>1</td>\n",
       "      <td>1</td>\n",
       "      <td>1</td>\n",
       "      <td>1</td>\n",
       "    </tr>\n",
       "    <tr>\n",
       "      <th>campaign_2</th>\n",
       "      <td>6</td>\n",
       "      <td>6</td>\n",
       "      <td>6</td>\n",
       "      <td>6</td>\n",
       "      <td>6</td>\n",
       "    </tr>\n",
       "    <tr>\n",
       "      <th>campaign_3</th>\n",
       "      <td>16</td>\n",
       "      <td>16</td>\n",
       "      <td>16</td>\n",
       "      <td>16</td>\n",
       "      <td>16</td>\n",
       "    </tr>\n",
       "    <tr>\n",
       "      <th>campaign_33</th>\n",
       "      <td>22</td>\n",
       "      <td>22</td>\n",
       "      <td>22</td>\n",
       "      <td>22</td>\n",
       "      <td>22</td>\n",
       "    </tr>\n",
       "    <tr>\n",
       "      <th>campaign_5</th>\n",
       "      <td>1</td>\n",
       "      <td>1</td>\n",
       "      <td>1</td>\n",
       "      <td>1</td>\n",
       "      <td>1</td>\n",
       "    </tr>\n",
       "    <tr>\n",
       "      <th>campaign_7</th>\n",
       "      <td>15</td>\n",
       "      <td>15</td>\n",
       "      <td>15</td>\n",
       "      <td>15</td>\n",
       "      <td>15</td>\n",
       "    </tr>\n",
       "    <tr>\n",
       "      <th>campaign_8</th>\n",
       "      <td>2</td>\n",
       "      <td>2</td>\n",
       "      <td>2</td>\n",
       "      <td>2</td>\n",
       "      <td>2</td>\n",
       "    </tr>\n",
       "    <tr>\n",
       "      <th>campaign_9</th>\n",
       "      <td>1</td>\n",
       "      <td>1</td>\n",
       "      <td>1</td>\n",
       "      <td>1</td>\n",
       "      <td>1</td>\n",
       "    </tr>\n",
       "    <tr>\n",
       "      <th>feliratkozas_hu</th>\n",
       "      <td>2</td>\n",
       "      <td>2</td>\n",
       "      <td>2</td>\n",
       "      <td>2</td>\n",
       "      <td>2</td>\n",
       "    </tr>\n",
       "    <tr>\n",
       "      <th>hirlevel_c1</th>\n",
       "      <td>16</td>\n",
       "      <td>16</td>\n",
       "      <td>16</td>\n",
       "      <td>16</td>\n",
       "      <td>16</td>\n",
       "    </tr>\n",
       "    <tr>\n",
       "      <th>hirlevel_c2</th>\n",
       "      <td>10</td>\n",
       "      <td>10</td>\n",
       "      <td>10</td>\n",
       "      <td>10</td>\n",
       "      <td>10</td>\n",
       "    </tr>\n",
       "    <tr>\n",
       "      <th>hirlevel_c3</th>\n",
       "      <td>76</td>\n",
       "      <td>76</td>\n",
       "      <td>76</td>\n",
       "      <td>76</td>\n",
       "      <td>76</td>\n",
       "    </tr>\n",
       "    <tr>\n",
       "      <th>hirlevel_c4</th>\n",
       "      <td>2</td>\n",
       "      <td>2</td>\n",
       "      <td>2</td>\n",
       "      <td>2</td>\n",
       "      <td>2</td>\n",
       "    </tr>\n",
       "    <tr>\n",
       "      <th>hu_brand</th>\n",
       "      <td>63</td>\n",
       "      <td>63</td>\n",
       "      <td>63</td>\n",
       "      <td>63</td>\n",
       "      <td>63</td>\n",
       "    </tr>\n",
       "    <tr>\n",
       "      <th>hu_pmax_brand</th>\n",
       "      <td>19</td>\n",
       "      <td>19</td>\n",
       "      <td>19</td>\n",
       "      <td>19</td>\n",
       "      <td>19</td>\n",
       "    </tr>\n",
       "    <tr>\n",
       "      <th>loyalty-email</th>\n",
       "      <td>1</td>\n",
       "      <td>1</td>\n",
       "      <td>1</td>\n",
       "      <td>1</td>\n",
       "      <td>1</td>\n",
       "    </tr>\n",
       "    <tr>\n",
       "      <th>proposal-by-phone</th>\n",
       "      <td>14</td>\n",
       "      <td>14</td>\n",
       "      <td>14</td>\n",
       "      <td>14</td>\n",
       "      <td>14</td>\n",
       "    </tr>\n",
       "  </tbody>\n",
       "</table>\n",
       "</div>"
      ],
      "text/plain": [
       "                     id  uuid  session_id  utm_source  utm_medium\n",
       "utm_campaign                                                     \n",
       "(not set)          8170  8170        8170        7736        7736\n",
       "(not+set)            17    17          17          17          17\n",
       "AT                   23    23          23          23          23\n",
       "HU                   82    82          82          82          82\n",
       "campaign_1          735   735         735         735         735\n",
       "campaign_10          16    16          16          16          16\n",
       "campaign_13           3     3           3           3           3\n",
       "campaign_15           1     1           1           1           1\n",
       "campaign_2            6     6           6           6           6\n",
       "campaign_3           16    16          16          16          16\n",
       "campaign_33          22    22          22          22          22\n",
       "campaign_5            1     1           1           1           1\n",
       "campaign_7           15    15          15          15          15\n",
       "campaign_8            2     2           2           2           2\n",
       "campaign_9            1     1           1           1           1\n",
       "feliratkozas_hu       2     2           2           2           2\n",
       "hirlevel_c1          16    16          16          16          16\n",
       "hirlevel_c2          10    10          10          10          10\n",
       "hirlevel_c3          76    76          76          76          76\n",
       "hirlevel_c4           2     2           2           2           2\n",
       "hu_brand             63    63          63          63          63\n",
       "hu_pmax_brand        19    19          19          19          19\n",
       "loyalty-email         1     1           1           1           1\n",
       "proposal-by-phone    14    14          14          14          14"
      ]
     },
     "execution_count": 73,
     "metadata": {},
     "output_type": "execute_result"
    }
   ],
   "source": [
    "session.groupby('utm_campaign').count()"
   ]
  },
  {
   "cell_type": "code",
   "execution_count": 74,
   "id": "43598f59-49d6-4ca0-9922-041e66b9a4e2",
   "metadata": {},
   "outputs": [
    {
     "data": {
      "text/html": [
       "<div>\n",
       "<style scoped>\n",
       "    .dataframe tbody tr th:only-of-type {\n",
       "        vertical-align: middle;\n",
       "    }\n",
       "\n",
       "    .dataframe tbody tr th {\n",
       "        vertical-align: top;\n",
       "    }\n",
       "\n",
       "    .dataframe thead th {\n",
       "        text-align: right;\n",
       "    }\n",
       "</style>\n",
       "<table border=\"1\" class=\"dataframe\">\n",
       "  <thead>\n",
       "    <tr style=\"text-align: right;\">\n",
       "      <th></th>\n",
       "      <th>id</th>\n",
       "      <th>uuid</th>\n",
       "      <th>session_id</th>\n",
       "      <th>utm_source</th>\n",
       "      <th>utm_medium</th>\n",
       "      <th>utm_campaign</th>\n",
       "    </tr>\n",
       "  </thead>\n",
       "  <tbody>\n",
       "  </tbody>\n",
       "</table>\n",
       "</div>"
      ],
      "text/plain": [
       "Empty DataFrame\n",
       "Columns: [id, uuid, session_id, utm_source, utm_medium, utm_campaign]\n",
       "Index: []"
      ]
     },
     "execution_count": 74,
     "metadata": {},
     "output_type": "execute_result"
    }
   ],
   "source": [
    "#no duplicated rows\n",
    "session[session.duplicated()]"
   ]
  },
  {
   "cell_type": "code",
   "execution_count": 75,
   "id": "2b18cc54-4b98-4605-b72b-27278ac63baa",
   "metadata": {},
   "outputs": [],
   "source": [
    "session.to_csv('./../Morgens_notebooks/HOTEL_2/Clean_data/session_hotel_2.csv')"
   ]
  },
  {
   "cell_type": "markdown",
   "id": "fc1f311d-ec2b-4a0c-9224-2658f3ca672c",
   "metadata": {},
   "source": [
    "#### 8 -  DAILY_USERS\n",
    "- 1626 sor\n",
    "- date oszlop: adattípus változtatás\n",
    "- beolvasásnál: hibaüzenet, megoldás: encoding='latin-1'"
   ]
  },
  {
   "cell_type": "code",
   "execution_count": 77,
   "id": "ea580b71-9f71-48ef-ac10-ac18ca47e89b",
   "metadata": {},
   "outputs": [],
   "source": [
    "daily_users = pd.read_csv('./../Morgens_notebooks/HOTEL_2/Original_data/website_daily_users_hotel_2.csv', sep=\";\", encoding='latin-1')\n"
   ]
  },
  {
   "cell_type": "code",
   "execution_count": 78,
   "id": "4172bdc2-99d0-47fd-a981-989c82c061bc",
   "metadata": {},
   "outputs": [
    {
     "data": {
      "text/plain": [
       "1626"
      ]
     },
     "execution_count": 78,
     "metadata": {},
     "output_type": "execute_result"
    }
   ],
   "source": [
    "len(daily_users)"
   ]
  },
  {
   "cell_type": "code",
   "execution_count": 79,
   "id": "e7573820-20b1-43e2-859a-eb501b8637c5",
   "metadata": {},
   "outputs": [
    {
     "data": {
      "text/html": [
       "<div>\n",
       "<style scoped>\n",
       "    .dataframe tbody tr th:only-of-type {\n",
       "        vertical-align: middle;\n",
       "    }\n",
       "\n",
       "    .dataframe tbody tr th {\n",
       "        vertical-align: top;\n",
       "    }\n",
       "\n",
       "    .dataframe thead th {\n",
       "        text-align: right;\n",
       "    }\n",
       "</style>\n",
       "<table border=\"1\" class=\"dataframe\">\n",
       "  <thead>\n",
       "    <tr style=\"text-align: right;\">\n",
       "      <th></th>\n",
       "      <th>date</th>\n",
       "      <th>utm_source_and_medium</th>\n",
       "      <th>utm_campaign</th>\n",
       "      <th>user_count</th>\n",
       "      <th>session_count</th>\n",
       "    </tr>\n",
       "  </thead>\n",
       "  <tbody>\n",
       "    <tr>\n",
       "      <th>0</th>\n",
       "      <td>2024-09-18</td>\n",
       "      <td>(not set)</td>\n",
       "      <td>(not set)</td>\n",
       "      <td>425</td>\n",
       "      <td>551</td>\n",
       "    </tr>\n",
       "    <tr>\n",
       "      <th>1</th>\n",
       "      <td>2024-09-18</td>\n",
       "      <td>google / cpc</td>\n",
       "      <td>(organic)</td>\n",
       "      <td>292</td>\n",
       "      <td>342</td>\n",
       "    </tr>\n",
       "    <tr>\n",
       "      <th>2</th>\n",
       "      <td>2024-09-18</td>\n",
       "      <td>google / cpc</td>\n",
       "      <td>(not set)</td>\n",
       "      <td>206</td>\n",
       "      <td>232</td>\n",
       "    </tr>\n",
       "    <tr>\n",
       "      <th>3</th>\n",
       "      <td>2024-09-18</td>\n",
       "      <td>(direct) / (none)</td>\n",
       "      <td>(direct)</td>\n",
       "      <td>175</td>\n",
       "      <td>220</td>\n",
       "    </tr>\n",
       "    <tr>\n",
       "      <th>4</th>\n",
       "      <td>2024-09-18</td>\n",
       "      <td>google / organic</td>\n",
       "      <td>(organic)</td>\n",
       "      <td>145</td>\n",
       "      <td>170</td>\n",
       "    </tr>\n",
       "    <tr>\n",
       "      <th>5</th>\n",
       "      <td>2024-09-18</td>\n",
       "      <td>google / cpc</td>\n",
       "      <td>HU | pMAX | PERF I Brand</td>\n",
       "      <td>103</td>\n",
       "      <td>109</td>\n",
       "    </tr>\n",
       "    <tr>\n",
       "      <th>6</th>\n",
       "      <td>2024-09-18</td>\n",
       "      <td>google / cpc</td>\n",
       "      <td>HU | GSN | PERF I Brand</td>\n",
       "      <td>62</td>\n",
       "      <td>78</td>\n",
       "    </tr>\n",
       "    <tr>\n",
       "      <th>7</th>\n",
       "      <td>2024-09-18</td>\n",
       "      <td>google / cpc</td>\n",
       "      <td>AT | pMAX Hotel | PERF I Brand</td>\n",
       "      <td>55</td>\n",
       "      <td>59</td>\n",
       "    </tr>\n",
       "    <tr>\n",
       "      <th>8</th>\n",
       "      <td>2024-09-18</td>\n",
       "      <td>facebook / cpc</td>\n",
       "      <td>campaign_17</td>\n",
       "      <td>53</td>\n",
       "      <td>54</td>\n",
       "    </tr>\n",
       "    <tr>\n",
       "      <th>9</th>\n",
       "      <td>2024-09-18</td>\n",
       "      <td>google / cpc</td>\n",
       "      <td>HU | GSN | PERF I Lokáció</td>\n",
       "      <td>45</td>\n",
       "      <td>48</td>\n",
       "    </tr>\n",
       "    <tr>\n",
       "      <th>10</th>\n",
       "      <td>2024-09-18</td>\n",
       "      <td>google / cpc</td>\n",
       "      <td>HU | GSN | PERF I Brand 2</td>\n",
       "      <td>27</td>\n",
       "      <td>31</td>\n",
       "    </tr>\n",
       "    <tr>\n",
       "      <th>11</th>\n",
       "      <td>2024-09-18</td>\n",
       "      <td>facebook / cpc</td>\n",
       "      <td>campaign_18</td>\n",
       "      <td>27</td>\n",
       "      <td>30</td>\n",
       "    </tr>\n",
       "    <tr>\n",
       "      <th>12</th>\n",
       "      <td>2024-09-18</td>\n",
       "      <td>google / cpc</td>\n",
       "      <td>DE | pMAX Hotel | PERF I Brand</td>\n",
       "      <td>19</td>\n",
       "      <td>25</td>\n",
       "    </tr>\n",
       "    <tr>\n",
       "      <th>13</th>\n",
       "      <td>2024-09-18</td>\n",
       "      <td>bing / cpc</td>\n",
       "      <td>campaign_33</td>\n",
       "      <td>11</td>\n",
       "      <td>23</td>\n",
       "    </tr>\n",
       "    <tr>\n",
       "      <th>14</th>\n",
       "      <td>2024-09-18</td>\n",
       "      <td>google / cpc</td>\n",
       "      <td>AT | GSN | PERF I Brand</td>\n",
       "      <td>18</td>\n",
       "      <td>21</td>\n",
       "    </tr>\n",
       "    <tr>\n",
       "      <th>15</th>\n",
       "      <td>2024-09-18</td>\n",
       "      <td>l.facebook.com / referral</td>\n",
       "      <td>(referral)</td>\n",
       "      <td>11</td>\n",
       "      <td>16</td>\n",
       "    </tr>\n",
       "    <tr>\n",
       "      <th>16</th>\n",
       "      <td>2024-09-18</td>\n",
       "      <td>hirlevel / ct</td>\n",
       "      <td>campaign_3</td>\n",
       "      <td>9</td>\n",
       "      <td>15</td>\n",
       "    </tr>\n",
       "    <tr>\n",
       "      <th>17</th>\n",
       "      <td>2024-09-18</td>\n",
       "      <td>facebook / cpc</td>\n",
       "      <td>campaign_19</td>\n",
       "      <td>15</td>\n",
       "      <td>15</td>\n",
       "    </tr>\n",
       "    <tr>\n",
       "      <th>18</th>\n",
       "      <td>2024-09-18</td>\n",
       "      <td>m.facebook.com / referral</td>\n",
       "      <td>(referral)</td>\n",
       "      <td>6</td>\n",
       "      <td>12</td>\n",
       "    </tr>\n",
       "    <tr>\n",
       "      <th>19</th>\n",
       "      <td>2024-09-18</td>\n",
       "      <td>google / cpc</td>\n",
       "      <td>campaign_27</td>\n",
       "      <td>10</td>\n",
       "      <td>12</td>\n",
       "    </tr>\n",
       "    <tr>\n",
       "      <th>20</th>\n",
       "      <td>2024-09-18</td>\n",
       "      <td>google / cpc</td>\n",
       "      <td>CZ | pMAX | PERF I Brand</td>\n",
       "      <td>7</td>\n",
       "      <td>10</td>\n",
       "    </tr>\n",
       "    <tr>\n",
       "      <th>21</th>\n",
       "      <td>2024-09-18</td>\n",
       "      <td>ajanlat / offline</td>\n",
       "      <td>campaign_2</td>\n",
       "      <td>5</td>\n",
       "      <td>10</td>\n",
       "    </tr>\n",
       "    <tr>\n",
       "      <th>22</th>\n",
       "      <td>2024-09-18</td>\n",
       "      <td>redir.d-edgeconnect.media / referral</td>\n",
       "      <td>(referral)</td>\n",
       "      <td>8</td>\n",
       "      <td>9</td>\n",
       "    </tr>\n",
       "    <tr>\n",
       "      <th>23</th>\n",
       "      <td>2024-09-18</td>\n",
       "      <td>bing / cpc</td>\n",
       "      <td>HU | GSN | Brand 2024</td>\n",
       "      <td>7</td>\n",
       "      <td>9</td>\n",
       "    </tr>\n",
       "    <tr>\n",
       "      <th>24</th>\n",
       "      <td>2024-09-18</td>\n",
       "      <td>google / cpc</td>\n",
       "      <td>HU | GDN | ENGM I Programok '24</td>\n",
       "      <td>7</td>\n",
       "      <td>8</td>\n",
       "    </tr>\n",
       "    <tr>\n",
       "      <th>25</th>\n",
       "      <td>2024-09-18</td>\n",
       "      <td>phone / offline</td>\n",
       "      <td>proposal-by-phone</td>\n",
       "      <td>2</td>\n",
       "      <td>7</td>\n",
       "    </tr>\n",
       "    <tr>\n",
       "      <th>26</th>\n",
       "      <td>2024-09-18</td>\n",
       "      <td>bing / organic</td>\n",
       "      <td>(organic)</td>\n",
       "      <td>6</td>\n",
       "      <td>6</td>\n",
       "    </tr>\n",
       "    <tr>\n",
       "      <th>27</th>\n",
       "      <td>2024-09-18</td>\n",
       "      <td>google / cpc</td>\n",
       "      <td>(referral)</td>\n",
       "      <td>2</td>\n",
       "      <td>5</td>\n",
       "    </tr>\n",
       "    <tr>\n",
       "      <th>28</th>\n",
       "      <td>2024-09-18</td>\n",
       "      <td>google / cpc</td>\n",
       "      <td>AT | GSN | PERF | Lokáció</td>\n",
       "      <td>5</td>\n",
       "      <td>5</td>\n",
       "    </tr>\n",
       "    <tr>\n",
       "      <th>29</th>\n",
       "      <td>2024-09-18</td>\n",
       "      <td>duckduckgo / organic</td>\n",
       "      <td>(organic)</td>\n",
       "      <td>3</td>\n",
       "      <td>4</td>\n",
       "    </tr>\n",
       "  </tbody>\n",
       "</table>\n",
       "</div>"
      ],
      "text/plain": [
       "          date                 utm_source_and_medium  \\\n",
       "0   2024-09-18                             (not set)   \n",
       "1   2024-09-18                          google / cpc   \n",
       "2   2024-09-18                          google / cpc   \n",
       "3   2024-09-18                     (direct) / (none)   \n",
       "4   2024-09-18                      google / organic   \n",
       "5   2024-09-18                          google / cpc   \n",
       "6   2024-09-18                          google / cpc   \n",
       "7   2024-09-18                          google / cpc   \n",
       "8   2024-09-18                        facebook / cpc   \n",
       "9   2024-09-18                          google / cpc   \n",
       "10  2024-09-18                          google / cpc   \n",
       "11  2024-09-18                        facebook / cpc   \n",
       "12  2024-09-18                          google / cpc   \n",
       "13  2024-09-18                            bing / cpc   \n",
       "14  2024-09-18                          google / cpc   \n",
       "15  2024-09-18             l.facebook.com / referral   \n",
       "16  2024-09-18                         hirlevel / ct   \n",
       "17  2024-09-18                        facebook / cpc   \n",
       "18  2024-09-18             m.facebook.com / referral   \n",
       "19  2024-09-18                          google / cpc   \n",
       "20  2024-09-18                          google / cpc   \n",
       "21  2024-09-18                     ajanlat / offline   \n",
       "22  2024-09-18  redir.d-edgeconnect.media / referral   \n",
       "23  2024-09-18                            bing / cpc   \n",
       "24  2024-09-18                          google / cpc   \n",
       "25  2024-09-18                       phone / offline   \n",
       "26  2024-09-18                        bing / organic   \n",
       "27  2024-09-18                          google / cpc   \n",
       "28  2024-09-18                          google / cpc   \n",
       "29  2024-09-18                  duckduckgo / organic   \n",
       "\n",
       "                       utm_campaign  user_count  session_count  \n",
       "0                         (not set)         425            551  \n",
       "1                         (organic)         292            342  \n",
       "2                         (not set)         206            232  \n",
       "3                          (direct)         175            220  \n",
       "4                         (organic)         145            170  \n",
       "5          HU | pMAX | PERF I Brand         103            109  \n",
       "6           HU | GSN | PERF I Brand          62             78  \n",
       "7    AT | pMAX Hotel | PERF I Brand          55             59  \n",
       "8                       campaign_17          53             54  \n",
       "9         HU | GSN | PERF I Lokáció          45             48  \n",
       "10        HU | GSN | PERF I Brand 2          27             31  \n",
       "11                      campaign_18          27             30  \n",
       "12   DE | pMAX Hotel | PERF I Brand          19             25  \n",
       "13                      campaign_33          11             23  \n",
       "14          AT | GSN | PERF I Brand          18             21  \n",
       "15                       (referral)          11             16  \n",
       "16                       campaign_3           9             15  \n",
       "17                      campaign_19          15             15  \n",
       "18                       (referral)           6             12  \n",
       "19                      campaign_27          10             12  \n",
       "20         CZ | pMAX | PERF I Brand           7             10  \n",
       "21                       campaign_2           5             10  \n",
       "22                       (referral)           8              9  \n",
       "23            HU | GSN | Brand 2024           7              9  \n",
       "24  HU | GDN | ENGM I Programok '24           7              8  \n",
       "25                proposal-by-phone           2              7  \n",
       "26                        (organic)           6              6  \n",
       "27                       (referral)           2              5  \n",
       "28        AT | GSN | PERF | Lokáció           5              5  \n",
       "29                        (organic)           3              4  "
      ]
     },
     "execution_count": 79,
     "metadata": {},
     "output_type": "execute_result"
    }
   ],
   "source": [
    "daily_users.head(30)"
   ]
  },
  {
   "cell_type": "code",
   "execution_count": 80,
   "id": "71d02a69-ffae-488e-9917-a69ccf314933",
   "metadata": {},
   "outputs": [
    {
     "name": "stdout",
     "output_type": "stream",
     "text": [
      "<class 'pandas.core.frame.DataFrame'>\n",
      "RangeIndex: 1626 entries, 0 to 1625\n",
      "Data columns (total 5 columns):\n",
      " #   Column                 Non-Null Count  Dtype \n",
      "---  ------                 --------------  ----- \n",
      " 0   date                   1626 non-null   object\n",
      " 1   utm_source_and_medium  1626 non-null   object\n",
      " 2   utm_campaign           1626 non-null   object\n",
      " 3   user_count             1626 non-null   int64 \n",
      " 4   session_count          1626 non-null   int64 \n",
      "dtypes: int64(2), object(3)\n",
      "memory usage: 63.6+ KB\n"
     ]
    }
   ],
   "source": [
    "daily_users.info()"
   ]
  },
  {
   "cell_type": "code",
   "execution_count": 81,
   "id": "63c245c6-58ee-469a-b76a-42a89a165a47",
   "metadata": {},
   "outputs": [],
   "source": [
    "#datatype change to date\n",
    "daily_users['date'] = pd.to_datetime(daily_users['date'])\n"
   ]
  },
  {
   "cell_type": "code",
   "execution_count": 82,
   "id": "231b042a-fd07-4c2e-9ea3-4cad4a3e57bd",
   "metadata": {},
   "outputs": [
    {
     "data": {
      "text/plain": [
       "date                     0\n",
       "utm_source_and_medium    0\n",
       "utm_campaign             0\n",
       "user_count               0\n",
       "session_count            0\n",
       "dtype: int64"
      ]
     },
     "execution_count": 82,
     "metadata": {},
     "output_type": "execute_result"
    }
   ],
   "source": [
    "daily_users.isna().sum()"
   ]
  },
  {
   "cell_type": "code",
   "execution_count": 83,
   "id": "16f56251-ba3e-41a1-bedb-89b07448fbac",
   "metadata": {},
   "outputs": [
    {
     "data": {
      "text/html": [
       "<div>\n",
       "<style scoped>\n",
       "    .dataframe tbody tr th:only-of-type {\n",
       "        vertical-align: middle;\n",
       "    }\n",
       "\n",
       "    .dataframe tbody tr th {\n",
       "        vertical-align: top;\n",
       "    }\n",
       "\n",
       "    .dataframe thead th {\n",
       "        text-align: right;\n",
       "    }\n",
       "</style>\n",
       "<table border=\"1\" class=\"dataframe\">\n",
       "  <thead>\n",
       "    <tr style=\"text-align: right;\">\n",
       "      <th></th>\n",
       "      <th>date</th>\n",
       "      <th>utm_source_and_medium</th>\n",
       "      <th>utm_campaign</th>\n",
       "      <th>user_count</th>\n",
       "      <th>session_count</th>\n",
       "    </tr>\n",
       "  </thead>\n",
       "  <tbody>\n",
       "  </tbody>\n",
       "</table>\n",
       "</div>"
      ],
      "text/plain": [
       "Empty DataFrame\n",
       "Columns: [date, utm_source_and_medium, utm_campaign, user_count, session_count]\n",
       "Index: []"
      ]
     },
     "execution_count": 83,
     "metadata": {},
     "output_type": "execute_result"
    }
   ],
   "source": [
    "#no duplicated rows\n",
    "daily_users[daily_users.duplicated()]"
   ]
  },
  {
   "cell_type": "code",
   "execution_count": 84,
   "id": "17db7bd1-532a-4784-b3e0-639d2637cb43",
   "metadata": {},
   "outputs": [],
   "source": [
    "daily_users.to_csv('./../Morgens_notebooks/HOTEL_2/Clean_data/daily_users_hotel_2.csv')"
   ]
  },
  {
   "cell_type": "markdown",
   "id": "cf54caee-cd92-497c-b245-391a71b4b14e",
   "metadata": {},
   "source": [
    "#### 9 -  BUDGET\n",
    "- 31 sor\n",
    "- első oszlopot átnevezni\n",
    "- adattípus változtatás"
   ]
  },
  {
   "cell_type": "code",
   "execution_count": 86,
   "id": "f12712ba-db83-40e1-9d8c-fd9fdf5d9cab",
   "metadata": {},
   "outputs": [],
   "source": [
    "budget = pd.read_csv('./../Morgens_notebooks/HOTEL_2/Original_data/daily_ppc_budget_hotel_2.csv', sep=\",\")"
   ]
  },
  {
   "cell_type": "code",
   "execution_count": 87,
   "id": "e273fc01-4b48-491c-9939-1b8b23b425c8",
   "metadata": {},
   "outputs": [
    {
     "data": {
      "text/html": [
       "<div>\n",
       "<style scoped>\n",
       "    .dataframe tbody tr th:only-of-type {\n",
       "        vertical-align: middle;\n",
       "    }\n",
       "\n",
       "    .dataframe tbody tr th {\n",
       "        vertical-align: top;\n",
       "    }\n",
       "\n",
       "    .dataframe thead th {\n",
       "        text-align: right;\n",
       "    }\n",
       "</style>\n",
       "<table border=\"1\" class=\"dataframe\">\n",
       "  <thead>\n",
       "    <tr style=\"text-align: right;\">\n",
       "      <th></th>\n",
       "      <th>Unnamed: 0</th>\n",
       "      <th>daily_google_spend</th>\n",
       "      <th>daily_microsoft_spend</th>\n",
       "      <th>daily_meta_spend</th>\n",
       "    </tr>\n",
       "  </thead>\n",
       "  <tbody>\n",
       "    <tr>\n",
       "      <th>0</th>\n",
       "      <td>2024.09.18.</td>\n",
       "      <td>136513</td>\n",
       "      <td>7484</td>\n",
       "      <td>33554</td>\n",
       "    </tr>\n",
       "    <tr>\n",
       "      <th>1</th>\n",
       "      <td>2024.09.19.</td>\n",
       "      <td>121423</td>\n",
       "      <td>5580</td>\n",
       "      <td>41405</td>\n",
       "    </tr>\n",
       "    <tr>\n",
       "      <th>2</th>\n",
       "      <td>2024.09.20.</td>\n",
       "      <td>107031</td>\n",
       "      <td>5964</td>\n",
       "      <td>48341</td>\n",
       "    </tr>\n",
       "    <tr>\n",
       "      <th>3</th>\n",
       "      <td>2024.09.21.</td>\n",
       "      <td>109008</td>\n",
       "      <td>5028</td>\n",
       "      <td>50098</td>\n",
       "    </tr>\n",
       "    <tr>\n",
       "      <th>4</th>\n",
       "      <td>2024.09.22.</td>\n",
       "      <td>141350</td>\n",
       "      <td>4804</td>\n",
       "      <td>57303</td>\n",
       "    </tr>\n",
       "  </tbody>\n",
       "</table>\n",
       "</div>"
      ],
      "text/plain": [
       "    Unnamed: 0  daily_google_spend  daily_microsoft_spend  daily_meta_spend\n",
       "0  2024.09.18.              136513                   7484             33554\n",
       "1  2024.09.19.              121423                   5580             41405\n",
       "2  2024.09.20.              107031                   5964             48341\n",
       "3  2024.09.21.              109008                   5028             50098\n",
       "4  2024.09.22.              141350                   4804             57303"
      ]
     },
     "execution_count": 87,
     "metadata": {},
     "output_type": "execute_result"
    }
   ],
   "source": [
    "budget.head()"
   ]
  },
  {
   "cell_type": "code",
   "execution_count": 88,
   "id": "d974f0fd-f372-4132-bf80-22bee359803e",
   "metadata": {},
   "outputs": [
    {
     "data": {
      "text/plain": [
       "31"
      ]
     },
     "execution_count": 88,
     "metadata": {},
     "output_type": "execute_result"
    }
   ],
   "source": [
    "len(budget)"
   ]
  },
  {
   "cell_type": "code",
   "execution_count": 89,
   "id": "b96a6e19-9d9f-4532-bae7-d97a2c762f3f",
   "metadata": {},
   "outputs": [],
   "source": [
    "#Rename the first column\n",
    "budget.rename(columns = {'Unnamed: 0':'date'}, inplace = True)"
   ]
  },
  {
   "cell_type": "code",
   "execution_count": 90,
   "id": "2c2d4af1-b9ae-40b3-a48e-f81bf9ee40da",
   "metadata": {},
   "outputs": [
    {
     "name": "stdout",
     "output_type": "stream",
     "text": [
      "<class 'pandas.core.frame.DataFrame'>\n",
      "RangeIndex: 31 entries, 0 to 30\n",
      "Data columns (total 4 columns):\n",
      " #   Column                 Non-Null Count  Dtype \n",
      "---  ------                 --------------  ----- \n",
      " 0   date                   31 non-null     object\n",
      " 1   daily_google_spend     31 non-null     int64 \n",
      " 2   daily_microsoft_spend  31 non-null     int64 \n",
      " 3   daily_meta_spend       31 non-null     int64 \n",
      "dtypes: int64(3), object(1)\n",
      "memory usage: 1.1+ KB\n"
     ]
    }
   ],
   "source": [
    "budget.info()"
   ]
  },
  {
   "cell_type": "code",
   "execution_count": 91,
   "id": "3732e3fd-9e6c-4b4a-be07-3a225db54fa9",
   "metadata": {},
   "outputs": [],
   "source": [
    "#change date type:\n",
    "budget['date'] = pd.to_datetime(budget['date'])"
   ]
  },
  {
   "cell_type": "code",
   "execution_count": 92,
   "id": "7a819461-d5d0-489c-9277-dbc40747d18d",
   "metadata": {},
   "outputs": [
    {
     "data": {
      "text/plain": [
       "date                     0\n",
       "daily_google_spend       0\n",
       "daily_microsoft_spend    0\n",
       "daily_meta_spend         0\n",
       "dtype: int64"
      ]
     },
     "execution_count": 92,
     "metadata": {},
     "output_type": "execute_result"
    }
   ],
   "source": [
    "budget.isna().sum()"
   ]
  },
  {
   "cell_type": "code",
   "execution_count": 93,
   "id": "be4798f3-c5bf-412c-b9db-0d8e801ccce7",
   "metadata": {},
   "outputs": [
    {
     "data": {
      "text/html": [
       "<div>\n",
       "<style scoped>\n",
       "    .dataframe tbody tr th:only-of-type {\n",
       "        vertical-align: middle;\n",
       "    }\n",
       "\n",
       "    .dataframe tbody tr th {\n",
       "        vertical-align: top;\n",
       "    }\n",
       "\n",
       "    .dataframe thead th {\n",
       "        text-align: right;\n",
       "    }\n",
       "</style>\n",
       "<table border=\"1\" class=\"dataframe\">\n",
       "  <thead>\n",
       "    <tr style=\"text-align: right;\">\n",
       "      <th></th>\n",
       "      <th>date</th>\n",
       "      <th>daily_google_spend</th>\n",
       "      <th>daily_microsoft_spend</th>\n",
       "      <th>daily_meta_spend</th>\n",
       "    </tr>\n",
       "  </thead>\n",
       "  <tbody>\n",
       "  </tbody>\n",
       "</table>\n",
       "</div>"
      ],
      "text/plain": [
       "Empty DataFrame\n",
       "Columns: [date, daily_google_spend, daily_microsoft_spend, daily_meta_spend]\n",
       "Index: []"
      ]
     },
     "execution_count": 93,
     "metadata": {},
     "output_type": "execute_result"
    }
   ],
   "source": [
    "#no duplicated rows\n",
    "budget[budget.duplicated()]"
   ]
  },
  {
   "cell_type": "code",
   "execution_count": 94,
   "id": "0b523c09-821f-4bdd-8ebb-3cd70e22c930",
   "metadata": {},
   "outputs": [],
   "source": [
    "budget.to_csv('./../Morgens_notebooks/HOTEL_2/Clean_data/budget_hotel_2.csv')"
   ]
  },
  {
   "cell_type": "markdown",
   "id": "2a2514a0-b1b8-47b6-96e6-f4d2d9fcc86f",
   "metadata": {},
   "source": [
    "#### 10 -  DATEPICKERS\n",
    "- 998 sor\n",
    "- date oszlop adatmódosítás\n",
    "- beolvasásnál hibaüzenet, megoldás: encoding='latin-1'"
   ]
  },
  {
   "cell_type": "code",
   "execution_count": 96,
   "id": "6de610d1-0cc5-444d-8a2b-c44f55ded150",
   "metadata": {},
   "outputs": [],
   "source": [
    "datepickers = pd.read_csv('./../Morgens_notebooks/HOTEL_2/Original_data/datepicker_daily_visitors_hotel_2.csv', sep=\";\", encoding='latin-1' )\n"
   ]
  },
  {
   "cell_type": "code",
   "execution_count": 97,
   "id": "4b8c3741-a560-49b9-837d-040fc023f8e9",
   "metadata": {},
   "outputs": [
    {
     "data": {
      "text/html": [
       "<div>\n",
       "<style scoped>\n",
       "    .dataframe tbody tr th:only-of-type {\n",
       "        vertical-align: middle;\n",
       "    }\n",
       "\n",
       "    .dataframe tbody tr th {\n",
       "        vertical-align: top;\n",
       "    }\n",
       "\n",
       "    .dataframe thead th {\n",
       "        text-align: right;\n",
       "    }\n",
       "</style>\n",
       "<table border=\"1\" class=\"dataframe\">\n",
       "  <thead>\n",
       "    <tr style=\"text-align: right;\">\n",
       "      <th></th>\n",
       "      <th>date</th>\n",
       "      <th>utm_source_and_medium</th>\n",
       "      <th>utm_campaign</th>\n",
       "      <th>user_count</th>\n",
       "      <th>session_count</th>\n",
       "    </tr>\n",
       "  </thead>\n",
       "  <tbody>\n",
       "    <tr>\n",
       "      <th>0</th>\n",
       "      <td>2024-09-18</td>\n",
       "      <td>google / cpc</td>\n",
       "      <td>(organic)</td>\n",
       "      <td>73</td>\n",
       "      <td>82</td>\n",
       "    </tr>\n",
       "    <tr>\n",
       "      <th>1</th>\n",
       "      <td>2024-09-18</td>\n",
       "      <td>(direct) / (none)</td>\n",
       "      <td>(direct)</td>\n",
       "      <td>48</td>\n",
       "      <td>52</td>\n",
       "    </tr>\n",
       "    <tr>\n",
       "      <th>2</th>\n",
       "      <td>2024-09-18</td>\n",
       "      <td>google / organic</td>\n",
       "      <td>(organic)</td>\n",
       "      <td>23</td>\n",
       "      <td>30</td>\n",
       "    </tr>\n",
       "    <tr>\n",
       "      <th>3</th>\n",
       "      <td>2024-09-18</td>\n",
       "      <td>google / cpc</td>\n",
       "      <td>(not set)</td>\n",
       "      <td>23</td>\n",
       "      <td>25</td>\n",
       "    </tr>\n",
       "    <tr>\n",
       "      <th>4</th>\n",
       "      <td>2024-09-18</td>\n",
       "      <td>google / cpc</td>\n",
       "      <td>HU | GSN | PERF I Brand</td>\n",
       "      <td>17</td>\n",
       "      <td>22</td>\n",
       "    </tr>\n",
       "  </tbody>\n",
       "</table>\n",
       "</div>"
      ],
      "text/plain": [
       "         date utm_source_and_medium             utm_campaign  user_count  \\\n",
       "0  2024-09-18          google / cpc                (organic)          73   \n",
       "1  2024-09-18     (direct) / (none)                 (direct)          48   \n",
       "2  2024-09-18      google / organic                (organic)          23   \n",
       "3  2024-09-18          google / cpc                (not set)          23   \n",
       "4  2024-09-18          google / cpc  HU | GSN | PERF I Brand          17   \n",
       "\n",
       "   session_count  \n",
       "0             82  \n",
       "1             52  \n",
       "2             30  \n",
       "3             25  \n",
       "4             22  "
      ]
     },
     "execution_count": 97,
     "metadata": {},
     "output_type": "execute_result"
    }
   ],
   "source": [
    "datepickers.head()"
   ]
  },
  {
   "cell_type": "code",
   "execution_count": 98,
   "id": "f135d457-af44-444b-909a-975382bd8893",
   "metadata": {},
   "outputs": [
    {
     "data": {
      "text/plain": [
       "998"
      ]
     },
     "execution_count": 98,
     "metadata": {},
     "output_type": "execute_result"
    }
   ],
   "source": [
    "len(datepickers)"
   ]
  },
  {
   "cell_type": "code",
   "execution_count": 99,
   "id": "5b69af25-6e57-4e39-80c8-42ec194ebc14",
   "metadata": {},
   "outputs": [
    {
     "data": {
      "text/plain": [
       "31"
      ]
     },
     "execution_count": 99,
     "metadata": {},
     "output_type": "execute_result"
    }
   ],
   "source": [
    "len(datepickers['date'].unique())"
   ]
  },
  {
   "cell_type": "code",
   "execution_count": 100,
   "id": "f43471a4-b37f-4a45-ad03-526edb86948c",
   "metadata": {},
   "outputs": [
    {
     "data": {
      "text/plain": [
       "62"
      ]
     },
     "execution_count": 100,
     "metadata": {},
     "output_type": "execute_result"
    }
   ],
   "source": [
    "len(datepickers['utm_source_and_medium'].unique())"
   ]
  },
  {
   "cell_type": "code",
   "execution_count": 101,
   "id": "99f8f07d-e86f-45a6-a0fb-db743df9ee3b",
   "metadata": {},
   "outputs": [
    {
     "data": {
      "text/plain": [
       "47"
      ]
     },
     "execution_count": 101,
     "metadata": {},
     "output_type": "execute_result"
    }
   ],
   "source": [
    "len(datepickers['utm_campaign'].unique())"
   ]
  },
  {
   "cell_type": "code",
   "execution_count": 102,
   "id": "692062b8-7dcf-4a22-9213-8f186975426a",
   "metadata": {},
   "outputs": [
    {
     "name": "stdout",
     "output_type": "stream",
     "text": [
      "<class 'pandas.core.frame.DataFrame'>\n",
      "RangeIndex: 998 entries, 0 to 997\n",
      "Data columns (total 5 columns):\n",
      " #   Column                 Non-Null Count  Dtype \n",
      "---  ------                 --------------  ----- \n",
      " 0   date                   998 non-null    object\n",
      " 1   utm_source_and_medium  998 non-null    object\n",
      " 2   utm_campaign           998 non-null    object\n",
      " 3   user_count             998 non-null    int64 \n",
      " 4   session_count          998 non-null    int64 \n",
      "dtypes: int64(2), object(3)\n",
      "memory usage: 39.1+ KB\n"
     ]
    }
   ],
   "source": [
    "datepickers.info()"
   ]
  },
  {
   "cell_type": "code",
   "execution_count": 103,
   "id": "5c2c37f6-bf01-4802-aa0a-32d1737a8de4",
   "metadata": {},
   "outputs": [],
   "source": [
    "datepickers['date'] = pd.to_datetime(datepickers['date'])"
   ]
  },
  {
   "cell_type": "code",
   "execution_count": 104,
   "id": "24a03a46-d0f5-49fd-b63f-3c6519eb30ea",
   "metadata": {},
   "outputs": [
    {
     "data": {
      "text/plain": [
       "date                     0\n",
       "utm_source_and_medium    0\n",
       "utm_campaign             0\n",
       "user_count               0\n",
       "session_count            0\n",
       "dtype: int64"
      ]
     },
     "execution_count": 104,
     "metadata": {},
     "output_type": "execute_result"
    }
   ],
   "source": [
    "datepickers.isna().sum()"
   ]
  },
  {
   "cell_type": "code",
   "execution_count": 105,
   "id": "67b7c1d6-d59e-46f8-8e98-9a16539411f6",
   "metadata": {},
   "outputs": [
    {
     "data": {
      "text/html": [
       "<div>\n",
       "<style scoped>\n",
       "    .dataframe tbody tr th:only-of-type {\n",
       "        vertical-align: middle;\n",
       "    }\n",
       "\n",
       "    .dataframe tbody tr th {\n",
       "        vertical-align: top;\n",
       "    }\n",
       "\n",
       "    .dataframe thead th {\n",
       "        text-align: right;\n",
       "    }\n",
       "</style>\n",
       "<table border=\"1\" class=\"dataframe\">\n",
       "  <thead>\n",
       "    <tr style=\"text-align: right;\">\n",
       "      <th></th>\n",
       "      <th>date</th>\n",
       "      <th>utm_source_and_medium</th>\n",
       "      <th>utm_campaign</th>\n",
       "      <th>user_count</th>\n",
       "      <th>session_count</th>\n",
       "    </tr>\n",
       "  </thead>\n",
       "  <tbody>\n",
       "  </tbody>\n",
       "</table>\n",
       "</div>"
      ],
      "text/plain": [
       "Empty DataFrame\n",
       "Columns: [date, utm_source_and_medium, utm_campaign, user_count, session_count]\n",
       "Index: []"
      ]
     },
     "execution_count": 105,
     "metadata": {},
     "output_type": "execute_result"
    }
   ],
   "source": [
    "#no duplicated rows\n",
    "datepickers[datepickers.duplicated()]"
   ]
  },
  {
   "cell_type": "code",
   "execution_count": 106,
   "id": "850fa0c7-de0d-43d3-b1c6-f3d66bf631a5",
   "metadata": {},
   "outputs": [],
   "source": [
    "datepickers.to_csv('./../Morgens_notebooks/HOTEL_2/Clean_data/datepickers_hotel_2.csv')"
   ]
  },
  {
   "cell_type": "markdown",
   "id": "add05af3-7c05-4561-9731-cd2aee145ca4",
   "metadata": {},
   "source": [
    "#### 11 - OCCUPANCY\n",
    "- 10788 dor, mert 31 napon át nézzük (x) a 348 napos időszakot\n",
    "- két dátum oszlopnál adattípus módosítás"
   ]
  },
  {
   "cell_type": "code",
   "execution_count": 108,
   "id": "d5acf92c-5009-4cc2-a7ab-4cdc0168fdff",
   "metadata": {},
   "outputs": [],
   "source": [
    "occupancy = pd.read_csv('./../Morgens_notebooks/HOTEL_2/Original_data/daily_occupancy_hotel_2.csv', sep=\";\")"
   ]
  },
  {
   "cell_type": "code",
   "execution_count": 109,
   "id": "48cfc12f-57e7-43a7-8cb2-f3eb08c252a6",
   "metadata": {},
   "outputs": [
    {
     "data": {
      "text/html": [
       "<div>\n",
       "<style scoped>\n",
       "    .dataframe tbody tr th:only-of-type {\n",
       "        vertical-align: middle;\n",
       "    }\n",
       "\n",
       "    .dataframe tbody tr th {\n",
       "        vertical-align: top;\n",
       "    }\n",
       "\n",
       "    .dataframe thead th {\n",
       "        text-align: right;\n",
       "    }\n",
       "</style>\n",
       "<table border=\"1\" class=\"dataframe\">\n",
       "  <thead>\n",
       "    <tr style=\"text-align: right;\">\n",
       "      <th></th>\n",
       "      <th>recording_date</th>\n",
       "      <th>subject_date</th>\n",
       "      <th>fill_rate</th>\n",
       "    </tr>\n",
       "  </thead>\n",
       "  <tbody>\n",
       "    <tr>\n",
       "      <th>0</th>\n",
       "      <td>2024-09-18</td>\n",
       "      <td>2024-09-18</td>\n",
       "      <td>54.4</td>\n",
       "    </tr>\n",
       "    <tr>\n",
       "      <th>1</th>\n",
       "      <td>2024-09-18</td>\n",
       "      <td>2024-09-19</td>\n",
       "      <td>47.2</td>\n",
       "    </tr>\n",
       "    <tr>\n",
       "      <th>2</th>\n",
       "      <td>2024-09-18</td>\n",
       "      <td>2024-09-20</td>\n",
       "      <td>84.0</td>\n",
       "    </tr>\n",
       "    <tr>\n",
       "      <th>3</th>\n",
       "      <td>2024-09-18</td>\n",
       "      <td>2024-09-21</td>\n",
       "      <td>84.0</td>\n",
       "    </tr>\n",
       "    <tr>\n",
       "      <th>4</th>\n",
       "      <td>2024-09-18</td>\n",
       "      <td>2024-09-22</td>\n",
       "      <td>68.0</td>\n",
       "    </tr>\n",
       "  </tbody>\n",
       "</table>\n",
       "</div>"
      ],
      "text/plain": [
       "  recording_date subject_date  fill_rate\n",
       "0     2024-09-18   2024-09-18       54.4\n",
       "1     2024-09-18   2024-09-19       47.2\n",
       "2     2024-09-18   2024-09-20       84.0\n",
       "3     2024-09-18   2024-09-21       84.0\n",
       "4     2024-09-18   2024-09-22       68.0"
      ]
     },
     "execution_count": 109,
     "metadata": {},
     "output_type": "execute_result"
    }
   ],
   "source": [
    "occupancy.head()"
   ]
  },
  {
   "cell_type": "code",
   "execution_count": 110,
   "id": "3aa4c3e3-94a0-4f9a-9496-1a92641e8275",
   "metadata": {},
   "outputs": [
    {
     "name": "stdout",
     "output_type": "stream",
     "text": [
      "<class 'pandas.core.frame.DataFrame'>\n",
      "RangeIndex: 10788 entries, 0 to 10787\n",
      "Data columns (total 3 columns):\n",
      " #   Column          Non-Null Count  Dtype  \n",
      "---  ------          --------------  -----  \n",
      " 0   recording_date  10788 non-null  object \n",
      " 1   subject_date    10788 non-null  object \n",
      " 2   fill_rate       10788 non-null  float64\n",
      "dtypes: float64(1), object(2)\n",
      "memory usage: 253.0+ KB\n"
     ]
    }
   ],
   "source": [
    "occupancy.info()"
   ]
  },
  {
   "cell_type": "code",
   "execution_count": 111,
   "id": "a04bbf14-f9f3-483c-afc6-d46456fdc869",
   "metadata": {},
   "outputs": [],
   "source": [
    "occupancy['recording_date'] = pd.to_datetime(occupancy['recording_date'])\n",
    "occupancy['subject_date'] = pd.to_datetime(occupancy['subject_date'])"
   ]
  },
  {
   "cell_type": "code",
   "execution_count": 112,
   "id": "df80356f-0ec5-41d3-9378-35be7d809aec",
   "metadata": {},
   "outputs": [
    {
     "data": {
      "text/plain": [
       "recording_date    0\n",
       "subject_date      0\n",
       "fill_rate         0\n",
       "dtype: int64"
      ]
     },
     "execution_count": 112,
     "metadata": {},
     "output_type": "execute_result"
    }
   ],
   "source": [
    "occupancy.isna().sum()"
   ]
  },
  {
   "cell_type": "code",
   "execution_count": 113,
   "id": "f946adb6-3c65-4f3f-a8bb-8e4924d83a22",
   "metadata": {},
   "outputs": [
    {
     "data": {
      "text/html": [
       "<div>\n",
       "<style scoped>\n",
       "    .dataframe tbody tr th:only-of-type {\n",
       "        vertical-align: middle;\n",
       "    }\n",
       "\n",
       "    .dataframe tbody tr th {\n",
       "        vertical-align: top;\n",
       "    }\n",
       "\n",
       "    .dataframe thead th {\n",
       "        text-align: right;\n",
       "    }\n",
       "</style>\n",
       "<table border=\"1\" class=\"dataframe\">\n",
       "  <thead>\n",
       "    <tr style=\"text-align: right;\">\n",
       "      <th></th>\n",
       "      <th>recording_date</th>\n",
       "      <th>subject_date</th>\n",
       "      <th>fill_rate</th>\n",
       "    </tr>\n",
       "  </thead>\n",
       "  <tbody>\n",
       "  </tbody>\n",
       "</table>\n",
       "</div>"
      ],
      "text/plain": [
       "Empty DataFrame\n",
       "Columns: [recording_date, subject_date, fill_rate]\n",
       "Index: []"
      ]
     },
     "execution_count": 113,
     "metadata": {},
     "output_type": "execute_result"
    }
   ],
   "source": [
    "#no duplicated rows\n",
    "occupancy[occupancy.duplicated()]"
   ]
  },
  {
   "cell_type": "code",
   "execution_count": 114,
   "id": "d4770b0f-833a-439e-849c-7e5701a4e883",
   "metadata": {},
   "outputs": [],
   "source": [
    "occupancy.to_csv('./../Morgens_notebooks/HOTEL_2/Clean_data/occupancy_hotel_2.csv')"
   ]
  },
  {
   "cell_type": "code",
   "execution_count": null,
   "id": "266ddd26-2898-4b9b-8c1b-4725d2b4c775",
   "metadata": {},
   "outputs": [],
   "source": []
  }
 ],
 "metadata": {
  "kernelspec": {
   "display_name": "Python 3 (ipykernel)",
   "language": "python",
   "name": "python3"
  },
  "language_info": {
   "codemirror_mode": {
    "name": "ipython",
    "version": 3
   },
   "file_extension": ".py",
   "mimetype": "text/x-python",
   "name": "python",
   "nbconvert_exporter": "python",
   "pygments_lexer": "ipython3",
   "version": "3.11.9"
  }
 },
 "nbformat": 4,
 "nbformat_minor": 5
}
